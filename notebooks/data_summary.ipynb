{
 "cells": [
  {
   "cell_type": "code",
   "execution_count": 1,
   "metadata": {},
   "outputs": [],
   "source": [
    "import matplotlib.pyplot as plt\n",
    "import numpy as np\n",
    "import os\n",
    "\n",
    "from importlib import reload\n",
    "from neuropacks import AC1, PVC11, RET2\n",
    "from noise_correlations import analysis, plot, utils\n",
    "\n",
    "%matplotlib inline"
   ]
  },
  {
   "cell_type": "code",
   "execution_count": 2,
   "metadata": {},
   "outputs": [],
   "source": [
    "base_path = '/Volumes/pss'"
   ]
  },
  {
   "cell_type": "markdown",
   "metadata": {},
   "source": [
    "# PVC11: Monkey, primary visual cortex, Kohn Lab"
   ]
  },
  {
   "cell_type": "code",
   "execution_count": 3,
   "metadata": {},
   "outputs": [],
   "source": [
    "# PVC11: Monkey, primary visual cortex, Kohn Lab\n",
    "pvc11_paths = [\n",
    "    os.path.join(base_path,\n",
    "                 f'data/pvc11/data/spikes_gratings/data_monkey{idx}_gratings.mat')\n",
    "    for idx in range(1, 4)\n",
    "]\n",
    "# Get design matrices\n",
    "pvc11_packs = [PVC11(pvc11_path) for pvc11_path in pvc11_paths]\n",
    "pvc11_Xs = [pack.get_response_matrix(transform=None) for pack in pvc11_packs]\n",
    "pvc11_n_units = [X.shape[1] for X in pvc11_Xs]\n",
    "pvc11_n_samples = [X.shape[0] for X in pvc11_Xs]\n",
    "# Get stimuli\n",
    "stimuli = pvc11_packs[0].get_design_matrix(form='angle')"
   ]
  },
  {
   "cell_type": "code",
   "execution_count": 4,
   "metadata": {},
   "outputs": [],
   "source": [
    "var_to_mean_threshold = 10\n",
    "responsive_threshold = 2. * 1.28\n",
    "modulation_frac = 0.60"
   ]
  },
  {
   "cell_type": "code",
   "execution_count": 5,
   "metadata": {},
   "outputs": [],
   "source": [
    "pvc11_non_responsive_for_stim = [\n",
    "    utils.get_nonresponsive_for_stim(X, stimuli)\n",
    "    for X in pvc11_Xs\n",
    "]\n",
    "\n",
    "for idx, non_responsive in enumerate(pvc11_non_responsive_for_stim):\n",
    "    if non_responsive.size > 0:\n",
    "        pvc11_Xs[idx] = np.delete(pvc11_Xs[idx], non_responsive, axis=1)"
   ]
  },
  {
   "cell_type": "code",
   "execution_count": 6,
   "metadata": {},
   "outputs": [],
   "source": [
    "pvc11_responsive_units = [\n",
    "    utils.get_responsive_units(\n",
    "        X=X, stimuli=stimuli,\n",
    "        aggregator=np.mean,\n",
    "        peak_response=responsive_threshold,\n",
    "        variance_to_mean=var_to_mean_threshold)\n",
    "    for X in pvc11_Xs\n",
    "]\n",
    "pvc11_n_responsive_units = [responsive.sum() for responsive in pvc11_responsive_units]\n",
    "\n",
    "pvc11_tuned_units = [\n",
    "    utils.get_tuned_units(\n",
    "        X=X, stimuli=stimuli,\n",
    "        aggregator=np.mean,\n",
    "        peak_response=responsive_threshold,\n",
    "        tuning_criteria='modulation_frac',\n",
    "        modulation_frac=modulation_frac,\n",
    "        variance_to_mean=var_to_mean_threshold)\n",
    "    for X in pvc11_Xs\n",
    "]\n",
    "pvc11_n_tuned_units = [tuned.sum() for tuned in pvc11_tuned_units]"
   ]
  },
  {
   "cell_type": "code",
   "execution_count": 7,
   "metadata": {},
   "outputs": [
    {
     "name": "stdout",
     "output_type": "stream",
     "text": [
      "Number of units: [106, 88, 112]\n",
      "Number of responsive units: [88, 60, 108]\n",
      "Number of tuned units: [71, 55, 90]\n"
     ]
    }
   ],
   "source": [
    "print('Number of units:', pvc11_n_units)\n",
    "print('Number of responsive units:', pvc11_n_responsive_units)\n",
    "print('Number of tuned units:', pvc11_n_tuned_units)"
   ]
  },
  {
   "cell_type": "markdown",
   "metadata": {},
   "source": [
    "# AC1: Rat, $\\mu$ECoG, Bouchard Lab"
   ]
  },
  {
   "cell_type": "code",
   "execution_count": 8,
   "metadata": {},
   "outputs": [],
   "source": [
    "data_path = os.path.join(base_path, 'data/ac1/R32_B7_HG_ext_rsp.h5')\n",
    "ac = AC1(data_path=data_path)"
   ]
  },
  {
   "cell_type": "code",
   "execution_count": 9,
   "metadata": {},
   "outputs": [],
   "source": [
    "ac_X = ac.get_response_matrix(amplitudes=[2, 3, 4, 5, 6, 7])\n",
    "stimuli = np.log(ac.get_design_matrix(amplitudes=[2, 3, 4, 5, 6, 7]))\n",
    "unique_stimuli = np.unique(stimuli)"
   ]
  },
  {
   "cell_type": "code",
   "execution_count": 10,
   "metadata": {},
   "outputs": [],
   "source": [
    "var_to_mean_thres = 10\n",
    "responsive_thres = 1\n",
    "modulation_frac_thres = 0.75"
   ]
  },
  {
   "cell_type": "code",
   "execution_count": 11,
   "metadata": {},
   "outputs": [],
   "source": [
    "responsive_units = utils.get_responsive_units(\n",
    "    X=ac_X, stimuli=stimuli,\n",
    "    aggregator=np.mean,\n",
    "    peak_response=responsive_thres,\n",
    "    variance_to_mean=var_to_mean_thres)\n",
    "tuned_units = utils.get_tuned_units(\n",
    "    X=ac_X, stimuli=stimuli,\n",
    "    aggregator=np.mean,\n",
    "    peak_response=responsive_thres,\n",
    "    tuning_criteria='modulation_frac',\n",
    "    modulation_frac=modulation_frac_thres,\n",
    "    variance_to_mean=var_to_mean_thres)"
   ]
  },
  {
   "cell_type": "code",
   "execution_count": 12,
   "metadata": {},
   "outputs": [
    {
     "name": "stdout",
     "output_type": "stream",
     "text": [
      "Number of units: 60\n",
      "Number of responsive units: 58\n",
      "Number of tuned units: 57\n"
     ]
    }
   ],
   "source": [
    "print('Number of units:', ac_X.shape[1])\n",
    "print('Number of responsive units:', responsive_units.sum())\n",
    "print('Number of tuned units:', tuned_units.sum())"
   ]
  },
  {
   "cell_type": "markdown",
   "metadata": {},
   "source": [
    "# RET2: Mouse, retinal ganglion cells, Feller Lab"
   ]
  },
  {
   "cell_type": "code",
   "execution_count": 13,
   "metadata": {},
   "outputs": [],
   "source": [
    "ret2_path = os.path.join(base_path, 'data/ret2/200114_fov1_data.mat')\n",
    "ret2 = RET2(data_path=ret2_path)"
   ]
  },
  {
   "cell_type": "code",
   "execution_count": 14,
   "metadata": {},
   "outputs": [],
   "source": [
    "ret2_X = ret2.get_response_matrix(cells='all', response='max')\n",
    "stimuli = ret2.angles\n",
    "unique_stimuli = ret2.unique_angles"
   ]
  },
  {
   "cell_type": "code",
   "execution_count": 15,
   "metadata": {},
   "outputs": [],
   "source": [
    "responsive_threshold = 1.0"
   ]
  },
  {
   "cell_type": "code",
   "execution_count": 16,
   "metadata": {},
   "outputs": [],
   "source": [
    "tuned_units = np.zeros(ret2_X.shape[1]).astype(bool)\n",
    "tuned_units[ret2.tuned_cells] = True\n",
    "responsive_units = utils.get_responsive_units(\n",
    "    X=ret2_X, stimuli=stimuli,\n",
    "    aggregator=np.mean,\n",
    "    peak_response=responsive_threshold)"
   ]
  },
  {
   "cell_type": "code",
   "execution_count": 17,
   "metadata": {},
   "outputs": [
    {
     "name": "stdout",
     "output_type": "stream",
     "text": [
      "Number of units: 832\n",
      "Number of responsive units: 368\n",
      "Number of tuned units: 54\n"
     ]
    }
   ],
   "source": [
    "print('Number of units:', ret2_X.shape[1])\n",
    "print('Number of responsive units:', responsive_units.sum())\n",
    "print('Number of tuned units:', tuned_units.sum())"
   ]
  }
 ],
 "metadata": {
  "kernelspec": {
   "display_name": "neuro",
   "language": "python",
   "name": "neuro"
  },
  "language_info": {
   "codemirror_mode": {
    "name": "ipython",
    "version": 3
   },
   "file_extension": ".py",
   "mimetype": "text/x-python",
   "name": "python",
   "nbconvert_exporter": "python",
   "pygments_lexer": "ipython3",
   "version": "3.7.9"
  }
 },
 "nbformat": 4,
 "nbformat_minor": 4
}

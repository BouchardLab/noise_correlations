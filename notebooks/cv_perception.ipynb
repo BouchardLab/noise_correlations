{
 "cells": [
  {
   "cell_type": "code",
   "execution_count": 1,
   "metadata": {},
   "outputs": [],
   "source": [
    "import h5py\n",
    "import matplotlib.pyplot as plt\n",
    "import numpy as np\n",
    "import os\n",
    "\n",
    "from neuropacks import CV\n",
    "from noise_correlations import analysis\n",
    "%matplotlib inline"
   ]
  },
  {
   "cell_type": "code",
   "execution_count": 2,
   "metadata": {},
   "outputs": [],
   "source": [
    "# base_path = '/Volumes/pss/data/cv_perception'\n",
    "base_path = '/storage/data/cv_perception'"
   ]
  },
  {
   "cell_type": "code",
   "execution_count": 3,
   "metadata": {},
   "outputs": [],
   "source": [
    "cv_path = os.path.join(base_path, 'cv_perception.h5')\n",
    "accuracies_path = os.path.join(base_path, 'accuracies.npz')\n",
    "results = h5py.File(cv_path, 'r')\n",
    "accuracies = np.load(accuracies_path)"
   ]
  },
  {
   "cell_type": "code",
   "execution_count": 4,
   "metadata": {},
   "outputs": [
    {
     "data": {
      "text/plain": [
       "['X', 'blocks', 'cvs', 'speakers']"
      ]
     },
     "execution_count": 4,
     "metadata": {},
     "output_type": "execute_result"
    }
   ],
   "source": [
    "list(results)"
   ]
  },
  {
   "cell_type": "code",
   "execution_count": 5,
   "metadata": {},
   "outputs": [
    {
     "data": {
      "text/plain": [
       "['cv_accuracy',\n",
       " 'cv_accuracies',\n",
       " 'c_accuracy',\n",
       " 'c_accuracies',\n",
       " 'v_accuracy',\n",
       " 'v_accuracies']"
      ]
     },
     "execution_count": 5,
     "metadata": {},
     "output_type": "execute_result"
    }
   ],
   "source": [
    "list(accuracies)"
   ]
  },
  {
   "cell_type": "code",
   "execution_count": 7,
   "metadata": {},
   "outputs": [],
   "source": [
    "cv_all = h5py.File(os.path.join(base_path, 'cv_all.h5'), 'w')\n",
    "cv_all['X'] = results['X'][:]\n",
    "cv_all['blocks'] = results['blocks'][:]\n",
    "cv_all['cvs'] = results['cvs'][:]\n",
    "cv_all['speakers'] = results['speakers'][:]\n",
    "cv_all['cv_accuracy'] = accuracies['cv_accuracy'][0]\n",
    "cv_all['cv_accuracy_baseline'] = accuracies['cv_accuracy'][1]\n",
    "cv_all['c_accuracy'] = accuracies['c_accuracy'][0]\n",
    "cv_all['c_accuracy_baseline'] = accuracies['c_accuracy'][1]\n",
    "cv_all['v_accuracy'] = accuracies['v_accuracy'][0]\n",
    "cv_all['v_accuracy_baseline'] = accuracies['v_accuracy'][1]\n",
    "cv_all.close()"
   ]
  },
  {
   "cell_type": "code",
   "execution_count": 8,
   "metadata": {},
   "outputs": [],
   "source": [
    "cv = CV(data_path=os.path.join(base_path, 'cv_all.h5'))"
   ]
  },
  {
   "cell_type": "code",
   "execution_count": 9,
   "metadata": {},
   "outputs": [],
   "source": [
    "np.testing.assert_allclose(cv.get_response_matrix('c'),\n",
    "                           cv.get_response_matrix('c', norm=True))"
   ]
  },
  {
   "cell_type": "code",
   "execution_count": 10,
   "metadata": {},
   "outputs": [],
   "source": [
    "np.testing.assert_allclose(cv.get_response_matrix('v'),\n",
    "                           cv.get_response_matrix('v', norm=True))"
   ]
  },
  {
   "cell_type": "code",
   "execution_count": 11,
   "metadata": {},
   "outputs": [],
   "source": [
    "assert np.any(cv.get_response_matrix('cv') != cv.get_response_matrix('cv', norm=True))"
   ]
  }
 ],
 "metadata": {
  "kernelspec": {
   "display_name": "neuro",
   "language": "python",
   "name": "neuro"
  },
  "language_info": {
   "codemirror_mode": {
    "name": "ipython",
    "version": 3
   },
   "file_extension": ".py",
   "mimetype": "text/x-python",
   "name": "python",
   "nbconvert_exporter": "python",
   "pygments_lexer": "ipython3",
   "version": "3.7.9"
  }
 },
 "nbformat": 4,
 "nbformat_minor": 4
}

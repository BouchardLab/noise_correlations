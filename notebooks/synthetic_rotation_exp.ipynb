{
 "cells": [
  {
   "cell_type": "code",
   "execution_count": 58,
   "metadata": {},
   "outputs": [],
   "source": [
    "import matplotlib\n",
    "import matplotlib.pyplot as plt\n",
    "import numpy as np\n",
    "import os\n",
    "\n",
    "from neuropacks import PVC11\n",
    "from noise_correlations import (analysis,\n",
    "                                discriminability,\n",
    "                                null_models,\n",
    "                                utils,\n",
    "                                plot)\n",
    "from pratplot import colorbar as pcb\n",
    "from scipy.stats import special_ortho_group\n",
    "\n",
    "%matplotlib inline"
   ]
  },
  {
   "cell_type": "code",
   "execution_count": 87,
   "metadata": {},
   "outputs": [],
   "source": [
    "dim = 20\n",
    "pr = 4"
   ]
  },
  {
   "cell_type": "code",
   "execution_count": 88,
   "metadata": {},
   "outputs": [],
   "source": [
    "eig = np.array([0.40, 0.22, 0.15, 0.08])\n",
    "remaining_eigs = np.random.uniform(low=0, high=1, size=dim - pr)\n",
    "remaining_eigs /= remaining_eigs.sum () / (1 - eig.sum())\n",
    "eigs = dim * np.sort(np.concatenate((eig, remaining_eigs)))"
   ]
  },
  {
   "cell_type": "code",
   "execution_count": 119,
   "metadata": {},
   "outputs": [
    {
     "name": "stdout",
     "output_type": "stream",
     "text": [
      "4.180426367402959\n"
     ]
    }
   ],
   "source": [
    "print(np.sum(eigs)**2 / np.sum(eigs**2))"
   ]
  },
  {
   "cell_type": "code",
   "execution_count": 89,
   "metadata": {},
   "outputs": [],
   "source": [
    "rng = np.random.RandomState(2332)"
   ]
  },
  {
   "cell_type": "code",
   "execution_count": 90,
   "metadata": {},
   "outputs": [],
   "source": [
    "base = np.diag(eigs)"
   ]
  },
  {
   "cell_type": "code",
   "execution_count": 91,
   "metadata": {},
   "outputs": [],
   "source": [
    "sog = special_ortho_group(dim=dim)"
   ]
  },
  {
   "cell_type": "code",
   "execution_count": 92,
   "metadata": {},
   "outputs": [],
   "source": [
    "mu = np.random.uniform(low=0, high=1, size=dim)\n",
    "mu /= np.linalg.norm(mu)"
   ]
  },
  {
   "cell_type": "code",
   "execution_count": 96,
   "metadata": {},
   "outputs": [],
   "source": [
    "n_rotations = 10000\n",
    "lfis = np.zeros(n_rotations)"
   ]
  },
  {
   "cell_type": "code",
   "execution_count": 97,
   "metadata": {},
   "outputs": [],
   "source": [
    "for rotation in range(n_rotations):\n",
    "    R = sog.rvs(random_state=rng)\n",
    "    cov = R @ base @ R.T\n",
    "    lfis[rotation] = mu @ np.linalg.solve(cov, mu)"
   ]
  },
  {
   "cell_type": "code",
   "execution_count": 120,
   "metadata": {},
   "outputs": [
    {
     "data": {
      "text/plain": [
       "(array([0.1424, 0.3439, 0.4795, 0.5765, 0.6486, 0.7042, 0.7537, 0.7895,\n",
       "        0.8221, 0.846 , 0.8677, 0.8874, 0.903 , 0.9168, 0.9293, 0.9379,\n",
       "        0.9462, 0.9534, 0.9601, 0.9664, 0.9711, 0.9755, 0.979 , 0.9823,\n",
       "        0.985 , 0.9871, 0.9888, 0.9907, 0.9926, 0.994 , 0.9942, 0.9952,\n",
       "        0.9959, 0.9966, 0.9971, 0.9976, 0.9985, 0.9987, 0.9989, 0.9991,\n",
       "        0.9994, 0.9995, 0.9995, 0.9995, 0.9995, 0.9999, 0.9999, 0.9999,\n",
       "        0.9999, 1.    ]),\n",
       " array([  2.0405782 ,   7.50928518,  12.97799216,  18.44669914,\n",
       "         23.91540612,  29.38411309,  34.85282007,  40.32152705,\n",
       "         45.79023403,  51.25894101,  56.72764798,  62.19635496,\n",
       "         67.66506194,  73.13376892,  78.6024759 ,  84.07118287,\n",
       "         89.53988985,  95.00859683, 100.47730381, 105.94601079,\n",
       "        111.41471776, 116.88342474, 122.35213172, 127.8208387 ,\n",
       "        133.28954568, 138.75825265, 144.22695963, 149.69566661,\n",
       "        155.16437359, 160.63308057, 166.10178754, 171.57049452,\n",
       "        177.0392015 , 182.50790848, 187.97661546, 193.44532243,\n",
       "        198.91402941, 204.38273639, 209.85144337, 215.32015034,\n",
       "        220.78885732, 226.2575643 , 231.72627128, 237.19497826,\n",
       "        242.66368523, 248.13239221, 253.60109919, 259.06980617,\n",
       "        264.53851315, 270.00722012, 275.4759271 ]),\n",
       " [<matplotlib.patches.Polygon at 0x7f88c2a0ded0>])"
      ]
     },
     "execution_count": 120,
     "metadata": {},
     "output_type": "execute_result"
    },
    {
     "data": {
      "image/png": "[encoded data removed]",
      "text/plain": [
       "<Figure size 432x288 with 1 Axes>"
      ]
     },
     "metadata": {
      "needs_background": "light"
     },
     "output_type": "display_data"
    }
   ],
   "source": [
    "plt.hist(lfis, bins=50, cumulative=True, density=True, histtype='step', linewidth=3)"
   ]
  },
  {
   "cell_type": "code",
   "execution_count": 126,
   "metadata": {},
   "outputs": [],
   "source": [
    "eigs_uniform = np.random.uniform(low=0, high=1, size=dim)\n",
    "eigs_uniform /= eigs_uniform.sum() / eigs.sum()\n",
    "eigs_uniform = np.sort(eigs_uniform)"
   ]
  },
  {
   "cell_type": "code",
   "execution_count": 131,
   "metadata": {},
   "outputs": [],
   "source": [
    "rng = np.random.RandomState(2332)\n",
    "base_uniform = np.diag(eigs_uniform)\n",
    "lfis_uniform = np.zeros_like(lfis)"
   ]
  },
  {
   "cell_type": "code",
   "execution_count": 133,
   "metadata": {},
   "outputs": [],
   "source": [
    "for rotation in range(n_rotations):\n",
    "    R = sog.rvs(random_state=rng)\n",
    "    cov = R @ base_uniform @ R.T\n",
    "    lfis_uniform[rotation] = mu @ np.linalg.solve(cov, mu)"
   ]
  },
  {
   "cell_type": "code",
   "execution_count": 160,
   "metadata": {},
   "outputs": [
    {
     "data": {
      "image/png": "[encoded data removed]",
      "text/plain": [
       "<Figure size 720x360 with 1 Axes>"
      ]
     },
     "metadata": {
      "needs_background": "light"
     },
     "output_type": "display_data"
    }
   ],
   "source": [
    "fig, ax = plt.subplots(1, 1, figsize=(10, 5))\n",
    "\n",
    "ax.hist(lfis_uniform * eigs_uniform[0],\n",
    "        bins=50,\n",
    "        cumulative=True,\n",
    "        density=True,\n",
    "        histtype='step',\n",
    "        linewidth=3,\n",
    "        color='r',\n",
    "        label=r'$\\textbf{PR}\\approx 15$')\n",
    "ax.hist(lfis * eigs[0],\n",
    "        bins=50,\n",
    "        cumulative=True,\n",
    "        density=True,\n",
    "        histtype='step',\n",
    "        linewidth=3,\n",
    "        color='k',\n",
    "        label=r'$\\textbf{PR}\\approx 4$')\n",
    "\n",
    "ax.set_xlabel(r'\\textbf{LFI}', fontsize=20)\n",
    "ax.set_ylabel(r'\\textbf{Cumulative Density}', fontsize=20)\n",
    "\n",
    "ax.legend(loc='best', bbox_to_anchor=(0.65, 0.30), prop={'size': 20})\n",
    "ax.tick_params(labelsize=14)"
   ]
  },
  {
   "cell_type": "code",
   "execution_count": 166,
   "metadata": {},
   "outputs": [
    {
     "data": {
      "text/plain": [
       "2520"
      ]
     },
     "execution_count": 166,
     "metadata": {},
     "output_type": "execute_result"
    }
   ],
   "source": [
    "np.count_nonzero(0.01 > lfis_uniform * eigs_uniform[0])"
   ]
  },
  {
   "cell_type": "code",
   "execution_count": 167,
   "metadata": {},
   "outputs": [
    {
     "data": {
      "text/plain": [
       "278"
      ]
     },
     "execution_count": 167,
     "metadata": {},
     "output_type": "execute_result"
    }
   ],
   "source": [
    "np.count_nonzero(0.01 > lfis * eigs[0])"
   ]
  },
  {
   "cell_type": "code",
   "execution_count": null,
   "metadata": {},
   "outputs": [],
   "source": [
    "6500"
   ]
  }
 ],
 "metadata": {
  "kernelspec": {
   "display_name": "neuro",
   "language": "python",
   "name": "neuro"
  },
  "language_info": {
   "codemirror_mode": {
    "name": "ipython",
    "version": 3
   },
   "file_extension": ".py",
   "mimetype": "text/x-python",
   "name": "python",
   "nbconvert_exporter": "python",
   "pygments_lexer": "ipython3",
   "version": "3.7.9"
  }
 },
 "nbformat": 4,
 "nbformat_minor": 4
}

{
 "cells": [
  {
   "cell_type": "code",
   "execution_count": 1,
   "metadata": {},
   "outputs": [],
   "source": [
    "import matplotlib\n",
    "import matplotlib.pyplot as plt\n",
    "import numpy as np\n",
    "import os\n",
    "\n",
    "from neuropacks import PVC11\n",
    "from noise_correlations import (analysis,\n",
    "                                discriminability,\n",
    "                                null_models,\n",
    "                                utils,\n",
    "                                plot)\n",
    "from pratplot import colorbar as pcb\n",
    "from scipy.stats import special_ortho_group\n",
    "\n",
    "%matplotlib inline"
   ]
  },
  {
   "cell_type": "markdown",
   "metadata": {},
   "source": [
    "# Low Dimensional"
   ]
  },
  {
   "cell_type": "code",
   "execution_count": 3,
   "metadata": {},
   "outputs": [],
   "source": [
    "dim = 3"
   ]
  },
  {
   "cell_type": "code",
   "execution_count": 4,
   "metadata": {},
   "outputs": [],
   "source": [
    "sog = special_ortho_group(dim=dim)"
   ]
  },
  {
   "cell_type": "code",
   "execution_count": 5,
   "metadata": {},
   "outputs": [],
   "source": [
    "eigs = np.sort(dim * np.array([0.75, 0.20, 0.05]))\n",
    "eigs_uni = np.sort(dim * np.array([0.40, 0.30, 0.30]))"
   ]
  },
  {
   "cell_type": "code",
   "execution_count": 6,
   "metadata": {},
   "outputs": [],
   "source": [
    "base = np.diag(eigs)\n",
    "base_uni = np.diag(eigs_uni)"
   ]
  },
  {
   "cell_type": "code",
   "execution_count": 7,
   "metadata": {},
   "outputs": [],
   "source": [
    "rng = np.random.RandomState(2332)"
   ]
  },
  {
   "cell_type": "code",
   "execution_count": 8,
   "metadata": {},
   "outputs": [],
   "source": [
    "mu = np.random.uniform(low=0, high=1, size=dim)\n",
    "mu /= np.linalg.norm(mu)"
   ]
  },
  {
   "cell_type": "code",
   "execution_count": 9,
   "metadata": {},
   "outputs": [],
   "source": [
    "n_rotations = 10000\n",
    "lfis = np.zeros(n_rotations)\n",
    "lfis_uni = np.zeros(n_rotations)"
   ]
  },
  {
   "cell_type": "code",
   "execution_count": 10,
   "metadata": {},
   "outputs": [],
   "source": [
    "for rotation in range(n_rotations):\n",
    "    R = sog.rvs(random_state=rng)\n",
    "    cov = R @ base @ R.T\n",
    "    lfis[rotation] = mu @ np.linalg.solve(cov, mu)\n",
    "    cov = R @ base_uni @ R.T\n",
    "    lfis_uni[rotation] = mu @ np.linalg.solve(cov, mu)"
   ]
  },
  {
   "cell_type": "code",
   "execution_count": 25,
   "metadata": {},
   "outputs": [
    {
     "data": {
      "image/png": "[encoded data removed]",
      "text/plain": [
       "<Figure size 720x360 with 1 Axes>"
      ]
     },
     "metadata": {
      "needs_background": "light"
     },
     "output_type": "display_data"
    }
   ],
   "source": [
    "fig, ax = plt.subplots(1, 1, figsize=(10, 5))\n",
    "\n",
    "ax.hist(lfis * eigs[0],\n",
    "        bins=50,\n",
    "        cumulative=True,\n",
    "        density=True,\n",
    "        histtype='step',\n",
    "        linewidth=3,\n",
    "        color='black',\n",
    "        label=r'$\\textbf{PR}\\approx 1.5$')\n",
    "ax.hist(lfis_uni * eigs_uni[0],\n",
    "        bins=50,\n",
    "        cumulative=True,\n",
    "        density=True,\n",
    "        histtype='step',\n",
    "        linewidth=3,\n",
    "        color='r',\n",
    "        label=r'$\\textbf{PR}\\approx 3$')\n",
    "\n",
    "ax.set_xlabel(r'\\textbf{Fraction of maximum LFI}', fontsize=20)\n",
    "ax.set_ylabel(r'\\textbf{Cumulative Density}', fontsize=20)\n",
    "ax.set_title(r'$D=3$', fontsize=25)\n",
    "ax.legend(loc='best', bbox_to_anchor=(0.65, 0.30), prop={'size': 20})\n",
    "ax.tick_params(labelsize=14)"
   ]
  },
  {
   "cell_type": "markdown",
   "metadata": {},
   "source": [
    "# High Dimensional"
   ]
  },
  {
   "cell_type": "code",
   "execution_count": 37,
   "metadata": {},
   "outputs": [],
   "source": [
    "dim = 50"
   ]
  },
  {
   "cell_type": "code",
   "execution_count": 46,
   "metadata": {},
   "outputs": [],
   "source": [
    "sog = special_ortho_group(dim=dim)"
   ]
  },
  {
   "cell_type": "code",
   "execution_count": 38,
   "metadata": {},
   "outputs": [],
   "source": [
    "eig_leading = np.array([0.40, 0.22, 0.15, 0.08])\n",
    "pr = 4\n",
    "remaining_eigs = np.random.uniform(low=0, high=1, size=dim - pr)\n",
    "remaining_eigs /= remaining_eigs.sum () / (1 - eig.sum())\n",
    "eigs = dim * np.sort(np.concatenate((eig_leading, remaining_eigs)))"
   ]
  },
  {
   "cell_type": "code",
   "execution_count": 41,
   "metadata": {},
   "outputs": [],
   "source": [
    "eigs_uni= np.random.uniform(low=0, high=1, size=dim)\n",
    "eigs_uni /= eigs_uni.sum() / eigs.sum()\n",
    "eigs_uni = np.sort(eigs_uni)"
   ]
  },
  {
   "cell_type": "code",
   "execution_count": 43,
   "metadata": {},
   "outputs": [],
   "source": [
    "rng = np.random.RandomState(2332)"
   ]
  },
  {
   "cell_type": "code",
   "execution_count": 44,
   "metadata": {},
   "outputs": [],
   "source": [
    "base = np.diag(eigs)\n",
    "base_uni = np.diag(eigs_uni)"
   ]
  },
  {
   "cell_type": "code",
   "execution_count": 47,
   "metadata": {},
   "outputs": [],
   "source": [
    "mu = np.random.uniform(low=0, high=1, size=dim)\n",
    "mu /= np.linalg.norm(mu)"
   ]
  },
  {
   "cell_type": "code",
   "execution_count": 53,
   "metadata": {},
   "outputs": [],
   "source": [
    "n_rotations = 20000\n",
    "lfis = np.zeros(n_rotations)\n",
    "lfis_uni = np.zeros(n_rotations)"
   ]
  },
  {
   "cell_type": "code",
   "execution_count": 54,
   "metadata": {},
   "outputs": [],
   "source": [
    "for rotation in range(n_rotations):\n",
    "    R = sog.rvs(random_state=rng)\n",
    "    cov = R @ base @ R.T\n",
    "    lfis[rotation] = mu @ np.linalg.solve(cov, mu)\n",
    "    cov = R @ base_uni @ R.T\n",
    "    lfis_uni[rotation] = mu @ np.linalg.solve(cov, mu)"
   ]
  },
  {
   "cell_type": "code",
   "execution_count": 55,
   "metadata": {},
   "outputs": [
    {
     "data": {
      "image/png": "[encoded data removed]",
      "text/plain": [
       "<Figure size 720x360 with 1 Axes>"
      ]
     },
     "metadata": {
      "needs_background": "light"
     },
     "output_type": "display_data"
    }
   ],
   "source": [
    "fig, ax = plt.subplots(1, 1, figsize=(10, 5))\n",
    "\n",
    "ax.hist(lfis * eigs[0],\n",
    "        bins=50,\n",
    "        cumulative=True,\n",
    "        density=True,\n",
    "        histtype='step',\n",
    "        linewidth=3,\n",
    "        color='black',\n",
    "        label=r'$\\textbf{PR}\\approx 4$')\n",
    "ax.hist(lfis_uni * eigs_uni[0],\n",
    "        bins=50,\n",
    "        cumulative=True,\n",
    "        density=True,\n",
    "        histtype='step',\n",
    "        linewidth=3,\n",
    "        color='r',\n",
    "        label=r'$\\textbf{PR}\\approx 35$')\n",
    "\n",
    "ax.set_xlabel(r'\\textbf{Fraction of maximum LFI}', fontsize=20)\n",
    "ax.set_ylabel(r'\\textbf{Cumulative Density}', fontsize=20)\n",
    "ax.set_title(r'$D=50$', fontsize=25)\n",
    "ax.legend(loc='best', bbox_to_anchor=(0.65, 0.30), prop={'size': 20})\n",
    "ax.tick_params(labelsize=14)"
   ]
  },
  {
   "cell_type": "code",
   "execution_count": null,
   "metadata": {},
   "outputs": [],
   "source": []
  }
 ],
 "metadata": {
  "kernelspec": {
   "display_name": "neuro",
   "language": "python",
   "name": "neuro"
  },
  "language_info": {
   "codemirror_mode": {
    "name": "ipython",
    "version": 3
   },
   "file_extension": ".py",
   "mimetype": "text/x-python",
   "name": "python",
   "nbconvert_exporter": "python",
   "pygments_lexer": "ipython3",
   "version": "3.7.9"
  }
 },
 "nbformat": 4,
 "nbformat_minor": 4
}

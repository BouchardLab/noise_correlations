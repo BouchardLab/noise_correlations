{
 "cells": [
  {
   "cell_type": "code",
   "execution_count": null,
   "metadata": {},
   "outputs": [],
   "source": [
    "import matplotlib.pyplot as plt\n",
    "import numpy as np\n",
    "import os\n",
    "\n",
    "from importlib import reload\n",
    "from neuropacks import AC1\n",
    "from noise_correlations import analysis, plot, utils\n",
    "\n",
    "%matplotlib inline"
   ]
  },
  {
   "cell_type": "code",
   "execution_count": null,
   "metadata": {},
   "outputs": [],
   "source": [
    "data_path = os.path.join(os.environ['HOME'], 'data/ac1/R32_B7_HG_ext_rsp.h5')\n",
    "ac = AC1(data_path=data_path)"
   ]
  },
  {
   "cell_type": "code",
   "execution_count": null,
   "metadata": {},
   "outputs": [],
   "source": [
    "X = ac.get_response_matrix(amplitudes=[2, 3, 4, 5, 6, 7])\n",
    "stimuli = np.log(ac.get_design_matrix(amplitudes=[2, 3, 4, 5, 6, 7]))\n",
    "unique_stimuli = np.unique(stimuli)"
   ]
  },
  {
   "cell_type": "code",
   "execution_count": null,
   "metadata": {},
   "outputs": [],
   "source": [
    "peak_responses = utils.get_peak_response(X, stimuli)\n",
    "modulation_fractions = utils.get_tuning_modulation_fraction(X, stimuli)"
   ]
  },
  {
   "cell_type": "markdown",
   "metadata": {
    "heading_collapsed": true
   },
   "source": [
    "# Plot tuning curves"
   ]
  },
  {
   "cell_type": "code",
   "execution_count": null,
   "metadata": {
    "hidden": true
   },
   "outputs": [],
   "source": [
    "var_to_mean_thres = 10\n",
    "responsive_thres = 1\n",
    "modulation_frac_thres = 0.60"
   ]
  },
  {
   "cell_type": "code",
   "execution_count": null,
   "metadata": {
    "hidden": true
   },
   "outputs": [],
   "source": [
    "# identify tuned, responsive, and other populations of neurons\n",
    "tuned_units = utils.get_tuned_units(\n",
    "    X=X, stimuli=stimuli, aggregator=np.mean,\n",
    "    peak_response=responsive_thres,\n",
    "    tuning_criteria='modulation_frac',\n",
    "    modulation_frac=modulation_frac_thres,\n",
    "    variance_to_mean=var_to_mean_thres)\n",
    "responsive_units = utils.get_responsive_units(\n",
    "    X=X, stimuli=stimuli, aggregator=np.mean,\n",
    "    peak_response=responsive_thres,\n",
    "    variance_to_mean=var_to_mean_thres)\n",
    "responsive_non_tuned_units = np.array(\n",
    "    [responsive & ~tuned for responsive, tuned in zip(responsive_units, tuned_units)]\n",
    ")\n",
    "non_responsive_units = np.array(\n",
    "    [~responsive for responsive in responsive_units]\n",
    ")"
   ]
  },
  {
   "cell_type": "code",
   "execution_count": null,
   "metadata": {
    "hidden": true
   },
   "outputs": [],
   "source": [
    "fig, axes = plot.plot_tuning_curves(\n",
    "    X[:, tuned_units], stimuli,\n",
    "    n_cols=10, include_points=True, use_title=False,\n",
    "    sort='modulation')\n",
    "\n",
    "for idx, ax in enumerate(axes.ravel()):\n",
    "    if idx < tuned_units.sum():\n",
    "        ax.axhline(responsive_thres, color='r', linestyle='--')\n",
    "\n",
    "fig.text(x=0.5, y=1.02, s=r'\\textbf{AC1: Tuned/Responsive Units}',\n",
    "         va='center', ha='center', fontsize=25)\n",
    "plt.tight_layout()\n",
    "plt.savefig('ac1_tuned.png', bbox_inches='tight')\n",
    "plt.show()"
   ]
  },
  {
   "cell_type": "code",
   "execution_count": null,
   "metadata": {
    "hidden": true
   },
   "outputs": [],
   "source": [
    "fig, axes = plot.plot_tuning_curves(\n",
    "    X[:, non_responsive_units], stimuli,\n",
    "    n_cols=10, include_points=True, use_title=False,\n",
    "    sort='modulation')\n",
    "\n",
    "for idx, ax in enumerate(axes.ravel()):\n",
    "    if idx < non_responsive_units.sum():\n",
    "        ax.axhline(responsive_thres, color='r', linestyle='--')\n",
    "\n",
    "fig.text(x=0.5, y=1.02, s=r'\\textbf{AC1: Non-responsive Units}',\n",
    "         va='center', ha='center', fontsize=25)\n",
    "plt.tight_layout()\n",
    "plt.savefig('ac1_non_responsive.png', bbox_inches='tight')\n",
    "plt.show()"
   ]
  },
  {
   "cell_type": "markdown",
   "metadata": {
    "heading_collapsed": true
   },
   "source": [
    "# Noise Correlations"
   ]
  },
  {
   "cell_type": "code",
   "execution_count": null,
   "metadata": {
    "hidden": true
   },
   "outputs": [],
   "source": [
    "all_corrs = analysis.all_correlations(X, stimuli)\n",
    "responsive_corrs = analysis.all_correlations(X, stimuli, u1=responsive_units)\n",
    "non_responsive_corrs = analysis.all_correlations(X, stimuli, u1=non_responsive_units)"
   ]
  },
  {
   "cell_type": "code",
   "execution_count": null,
   "metadata": {
    "hidden": true
   },
   "outputs": [],
   "source": [
    "fig, ax = plt.subplots(1, 1, figsize=(8, 4))\n",
    "bins = np.linspace(-1, 1, 100)\n",
    "ax.hist(all_corrs, bins=bins,\n",
    "        density=True,\n",
    "        histtype='step',\n",
    "        linewidth=2,\n",
    "        label='All')\n",
    "ax.hist(responsive_corrs, bins=bins,\n",
    "        density=True,\n",
    "        histtype='step',\n",
    "        linewidth=2,\n",
    "        label='Responsive')\n",
    "\n",
    "ax.set_xlim([-1, 1])\n",
    "ax.set_xticks([-1, -0.5, 0, 0.5, 1])\n",
    "ax.tick_params(labelsize=18)\n",
    "ax.set_xlabel(r'\\textbf{Noise Correlation}', fontsize=18)\n",
    "ax.set_ylabel(r'\\textbf{Density}', fontsize=18)\n",
    "ax.set_title(r'\\textbf{AC1: Within-group noise correlations}', fontsize=18)\n",
    "plt.legend(loc=2, prop={'size': 16})\n",
    "plt.savefig('ac1_within_group_noise_correlations.pdf', bbox_inches='tight')\n",
    "plt.show()"
   ]
  }
 ],
 "metadata": {
  "kernelspec": {
   "display_name": "neuro",
   "language": "python",
   "name": "neuro"
  },
  "language_info": {
   "codemirror_mode": {
    "name": "ipython",
    "version": 3
   },
   "file_extension": ".py",
   "mimetype": "text/x-python",
   "name": "python",
   "nbconvert_exporter": "python",
   "pygments_lexer": "ipython3",
   "version": "3.7.4"
  },
  "varInspector": {
   "cols": {
    "lenName": 16,
    "lenType": 16,
    "lenVar": 40
   },
   "kernels_config": {
    "python": {
     "delete_cmd_postfix": "",
     "delete_cmd_prefix": "del ",
     "library": "var_list.py",
     "varRefreshCmd": "print(var_dic_list())"
    },
    "r": {
     "delete_cmd_postfix": ") ",
     "delete_cmd_prefix": "rm(",
     "library": "var_list.r",
     "varRefreshCmd": "cat(var_dic_list()) "
    }
   },
   "types_to_exclude": [
    "module",
    "function",
    "builtin_function_or_method",
    "instance",
    "_Feature"
   ],
   "window_display": false
  }
 },
 "nbformat": 4,
 "nbformat_minor": 2
}

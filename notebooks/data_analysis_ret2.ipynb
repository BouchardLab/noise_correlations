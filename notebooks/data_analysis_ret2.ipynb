{
 "cells": [
  {
   "cell_type": "code",
   "execution_count": null,
   "metadata": {},
   "outputs": [],
   "source": [
    "import matplotlib.pyplot as plt\n",
    "import numpy as np\n",
    "import os\n",
    "import scipy.stats as ss\n",
    "\n",
    "from importlib import reload\n",
    "from neuropacks import RET2\n",
    "from noise_correlations import analysis, plot, utils\n",
    "\n",
    "%matplotlib inline"
   ]
  },
  {
   "cell_type": "code",
   "execution_count": null,
   "metadata": {},
   "outputs": [],
   "source": [
    "base_path = '/Volumes/pss'"
   ]
  },
  {
   "cell_type": "code",
   "execution_count": null,
   "metadata": {},
   "outputs": [],
   "source": [
    "data_path = os.path.join(base_path, 'data/ret2/200114_fov1_data.mat')\n",
    "ret2 = RET2(data_path=data_path)"
   ]
  },
  {
   "cell_type": "code",
   "execution_count": null,
   "metadata": {},
   "outputs": [],
   "source": [
    "X = ret2.get_response_matrix(cells='all', response='max')\n",
    "stimuli = ret2.angles\n",
    "unique_stimuli = ret2.unique_angles"
   ]
  },
  {
   "cell_type": "markdown",
   "metadata": {
    "heading_collapsed": true
   },
   "source": [
    "# Characterizing response distributions"
   ]
  },
  {
   "cell_type": "code",
   "execution_count": null,
   "metadata": {
    "hidden": true
   },
   "outputs": [],
   "source": [
    "peak_responses = utils.get_peak_response(X, stimuli)\n",
    "modulation_fractions = utils.get_tuning_modulation_fraction(X, stimuli)\n",
    "selectivity_indices = utils.get_selectivity_index(X, stimuli, circular=360)"
   ]
  },
  {
   "cell_type": "code",
   "execution_count": null,
   "metadata": {
    "hidden": true
   },
   "outputs": [],
   "source": [
    "fig, axes = plt.subplots(1, 3, figsize=(12, 3))\n",
    "\n",
    "axes[0].hist(\n",
    "    peak_responses,\n",
    "    histtype='step',\n",
    "    bins=np.linspace(0, 2.5, 21),\n",
    "    linewidth=3)\n",
    "axes[1].hist(\n",
    "    modulation_fractions,\n",
    "    histtype='step',\n",
    "    bins=np.linspace(0, 1, 16),\n",
    "    linewidth=3)\n",
    "axes[2].hist(\n",
    "    selectivity_indices,\n",
    "    histtype='step',\n",
    "    bins=np.linspace(0, 0.5, 16),\n",
    "    linewidth=3)\n",
    "\n",
    "axes[0].set_xlim([0, 2.5])\n",
    "axes[1].set_xlim([0, 1])\n",
    "axes[2].set_xlim([0, 0.5])\n",
    "axes[0].set_xlabel(r'\\textbf{Peak Response}', fontsize=15)\n",
    "axes[1].set_xlabel(r'\\textbf{Modulation Fractions}', fontsize=15)\n",
    "axes[2].set_xlabel(r'\\textbf{Direction Selectivity}', fontsize=15)\n",
    "\n",
    "for ax in axes:\n",
    "    ax.set_ylabel(r'\\textbf{Frequency}', fontsize=15)\n",
    "    ax.tick_params(labelsize=15)\n",
    "    \n",
    "plt.tight_layout()"
   ]
  },
  {
   "cell_type": "markdown",
   "metadata": {
    "heading_collapsed": true
   },
   "source": [
    "# Identifying responsive, tuned, and non-responsive units"
   ]
  },
  {
   "cell_type": "code",
   "execution_count": null,
   "metadata": {
    "hidden": true
   },
   "outputs": [],
   "source": [
    "responsive_threshold = 1.0"
   ]
  },
  {
   "cell_type": "code",
   "execution_count": null,
   "metadata": {
    "hidden": true
   },
   "outputs": [],
   "source": [
    "tuned_units = np.zeros(X.shape[1]).astype(bool)\n",
    "tuned_units[ret2.tuned_cells] = True\n",
    "responsive_units = utils.get_responsive_units(X, stimuli,\n",
    "                                              aggregator=np.mean,\n",
    "                                              peak_response=responsive_threshold)\n",
    "responsive_non_tuned_units = responsive_units & ~tuned_units\n",
    "non_responsive_units = ~responsive_units"
   ]
  },
  {
   "cell_type": "code",
   "execution_count": null,
   "metadata": {},
   "outputs": [],
   "source": [
    "fig, axes = plot.plot_tuning_curves(\n",
    "    X[:, modulation_fractions > 0.50], stimuli,\n",
    "    n_cols=10, include_points=True, use_title=False,\n",
    "    sort='modulation'\n",
    ")\n",
    "for idx, ax in enumerate(axes.ravel()):\n",
    "    if idx < tuned_units.sum():\n",
    "        ax.axhline(0, color='gray')\n",
    "        ax.axhline(responsive_threshold, color='red', linestyle='--')\n",
    "\n",
    "fig.text(x=0.5, y=1.01, s=r'\\textbf{RET2: Tuned Units}',\n",
    "         va='center', ha='center', fontsize=30)\n",
    "plt.tight_layout()\n",
    "# plt.savefig('ret2_tuned.pdf', bbox_inches='tight')\n",
    "plt.show()"
   ]
  },
  {
   "cell_type": "code",
   "execution_count": null,
   "metadata": {
    "hidden": true
   },
   "outputs": [],
   "source": [
    "fig, axes = plot.plot_tuning_curves(\n",
    "    X[:, tuned_units], stimuli,\n",
    "    n_cols=10, include_points=True, use_title=False,\n",
    "    sort='modulation'\n",
    ")\n",
    "for idx, ax in enumerate(axes.ravel()):\n",
    "    if idx < tuned_units.sum():\n",
    "        ax.axhline(0, color='gray')\n",
    "        ax.axhline(responsive_threshold, color='red', linestyle='--')\n",
    "\n",
    "fig.text(x=0.5, y=1.01, s=r'\\textbf{RET2: Tuned Units}',\n",
    "         va='center', ha='center', fontsize=30)\n",
    "plt.tight_layout()\n",
    "# plt.savefig('ret2_tuned.pdf', bbox_inches='tight')\n",
    "plt.show()"
   ]
  },
  {
   "cell_type": "code",
   "execution_count": null,
   "metadata": {
    "hidden": true
   },
   "outputs": [],
   "source": [
    "fig, axes = plot.plot_tuning_curves(\n",
    "    X[:, responsive_units], stimuli,\n",
    "    n_cols=10, include_points=True, use_title=False,\n",
    "    sort='modulation'\n",
    ")\n",
    "for idx, ax in enumerate(axes.ravel()):\n",
    "    if idx < responsive_units.sum():\n",
    "        ax.axhline(0, color='gray')\n",
    "        ax.axhline(responsive_threshold, color='red', linestyle='--')\n",
    "\n",
    "fig.text(x=0.5, y=1.005, s=r'\\textbf{Responsive Units}',\n",
    "         va='center', ha='center', fontsize=30)\n",
    "plt.tight_layout()\n",
    "plt.show()"
   ]
  },
  {
   "cell_type": "markdown",
   "metadata": {
    "heading_collapsed": true
   },
   "source": [
    "# Noise Correlations"
   ]
  },
  {
   "cell_type": "code",
   "execution_count": null,
   "metadata": {
    "hidden": true
   },
   "outputs": [],
   "source": [
    "all_corrs = analysis.all_correlations(X, stimuli)\n",
    "tuned_corrs = analysis.all_correlations(X, stimuli, u1=tuned_units)\n",
    "responsive_corrs = analysis.all_correlations(X, stimuli, u1=responsive_units)\n",
    "responsive_non_tuned_corrs = analysis.all_correlations(X, stimuli, u1=responsive_non_tuned_units)\n",
    "non_responsive_corrs = analysis.all_correlations(X, stimuli, u1=non_responsive_units)"
   ]
  },
  {
   "cell_type": "code",
   "execution_count": null,
   "metadata": {
    "hidden": true
   },
   "outputs": [],
   "source": [
    "fig, ax = plt.subplots(1, 1, figsize=(8, 4))\n",
    "bins = np.linspace(-1, 1, 100)\n",
    "ax.hist(all_corrs, bins=bins,\n",
    "        density=True,\n",
    "        histtype='step',\n",
    "        linewidth=2,\n",
    "        label='All')\n",
    "ax.hist(tuned_corrs, bins=bins,\n",
    "        density=True,\n",
    "        histtype='step',\n",
    "        linewidth=2,\n",
    "        label='Tuned')\n",
    "ax.hist(responsive_corrs, bins=bins,\n",
    "        density=True,\n",
    "        histtype='step',\n",
    "        linewidth=2,\n",
    "        label='Responsive')\n",
    "ax.hist(responsive_non_tuned_corrs, bins=np.linspace(-1, 1, 30),\n",
    "        density=True,\n",
    "        histtype='step',\n",
    "        linewidth=2,\n",
    "        label='Responsive,\\nNon-tuned')\n",
    "ax.hist(non_responsive_corrs, bins=bins,\n",
    "        density=True,\n",
    "        histtype='step',\n",
    "        linewidth=2,\n",
    "        label='Non-responsive')\n",
    "\n",
    "ax.set_xlim([-1, 1])\n",
    "ax.set_xticks([-1, -0.5, 0, 0.5, 1])\n",
    "ax.tick_params(labelsize=18)\n",
    "ax.set_xlabel(r'\\textbf{Noise Correlation}', fontsize=18)\n",
    "ax.set_ylabel(r'\\textbf{Density}', fontsize=18)\n",
    "ax.set_title(r'\\textbf{RET2: Within-group correlations}', fontsize=18)\n",
    "plt.legend(loc=2, prop={'size': 16})\n",
    "plt.tight_layout()\n",
    "# plt.savefig('ret2_within_group_correlations.pdf', bbox_inches='tight')\n",
    "plt.show()"
   ]
  },
  {
   "cell_type": "code",
   "execution_count": null,
   "metadata": {
    "hidden": true
   },
   "outputs": [],
   "source": [
    "tuned_by_non_tuned_corrs = analysis.all_correlations(X, stimuli, u1=tuned_units, u2=~tuned_units)\n",
    "tuned_by_responsive_non_tuned_corrs = analysis.all_correlations(X, stimuli, u1=tuned_units, u2=responsive_non_tuned_units)\n",
    "responsive_by_non_responsive_corrs = analysis.all_correlations(X, stimuli, u1=responsive_units, u2=~responsive_units)\n",
    "tuned_by_non_responsive_corrs = analysis.all_correlations(X, stimuli, u1=tuned_units, u2=~responsive_units)"
   ]
  },
  {
   "cell_type": "code",
   "execution_count": null,
   "metadata": {
    "hidden": true
   },
   "outputs": [],
   "source": [
    "fig, ax = plt.subplots(1, 1, figsize=(8, 4))\n",
    "bins = np.linspace(-1, 1, 100)\n",
    "ax.hist(all_corrs, bins=bins,\n",
    "        density=True,\n",
    "        histtype='step',\n",
    "        linewidth=2,\n",
    "        label='All')\n",
    "ax.hist(tuned_by_non_tuned_corrs, bins=bins,\n",
    "        density=True,\n",
    "        histtype='step',\n",
    "        linewidth=2,\n",
    "        label='Tuned,\\nNon-tuned')\n",
    "ax.hist(tuned_by_responsive_non_tuned_corrs, bins=bins,\n",
    "        density=True,\n",
    "        histtype='step',\n",
    "        linewidth=2,\n",
    "        label='Responsive,\\nNon-responsive')\n",
    "ax.hist(responsive_by_non_responsive_corrs, bins=bins,\n",
    "        density=True,\n",
    "        histtype='step',\n",
    "        linewidth=2,\n",
    "        label='Tuned,\\nNon-responsive')\n",
    "ax.hist(tuned_by_non_responsive_corrs, bins=bins,\n",
    "        density=True,\n",
    "        histtype='step',\n",
    "        linewidth=2,\n",
    "        label='Tuned,\\nResponsive\\nnon-tuned')\n",
    "ax.set_xlim([-1, 1])\n",
    "ax.set_xticks([-1, -0.5, 0, 0.5, 1])\n",
    "ax.tick_params(labelsize=18)\n",
    "ax.set_xlabel(r'\\textbf{Noise Correlation}', fontsize=18)\n",
    "ax.set_ylabel(r'\\textbf{Density}', fontsize=18)\n",
    "ax.set_title(r'\\textbf{RET2: Between-group correlations}', fontsize=18)\n",
    "plt.legend(loc=2, prop={'size': 15})\n",
    "# plt.savefig('ret2_between_group_correlations.pdf', bbox_inches='tight')\n",
    "plt.show()"
   ]
  },
  {
   "cell_type": "code",
   "execution_count": null,
   "metadata": {
    "hidden": true
   },
   "outputs": [],
   "source": []
  }
 ],
 "metadata": {
  "kernelspec": {
   "display_name": "neuro",
   "language": "python",
   "name": "neuro"
  },
  "language_info": {
   "codemirror_mode": {
    "name": "ipython",
    "version": 3
   },
   "file_extension": ".py",
   "mimetype": "text/x-python",
   "name": "python",
   "nbconvert_exporter": "python",
   "pygments_lexer": "ipython3",
   "version": "3.7.9"
  },
  "varInspector": {
   "cols": {
    "lenName": 16,
    "lenType": 16,
    "lenVar": 40
   },
   "kernels_config": {
    "python": {
     "delete_cmd_postfix": "",
     "delete_cmd_prefix": "del ",
     "library": "var_list.py",
     "varRefreshCmd": "print(var_dic_list())"
    },
    "r": {
     "delete_cmd_postfix": ") ",
     "delete_cmd_prefix": "rm(",
     "library": "var_list.r",
     "varRefreshCmd": "cat(var_dic_list()) "
    }
   },
   "types_to_exclude": [
    "module",
    "function",
    "builtin_function_or_method",
    "instance",
    "_Feature"
   ],
   "window_display": false
  }
 },
 "nbformat": 4,
 "nbformat_minor": 4
}

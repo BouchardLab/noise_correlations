{
 "cells": [
  {
   "cell_type": "code",
   "execution_count": null,
   "id": "expressed-wisconsin",
   "metadata": {},
   "outputs": [],
   "source": [
    "import h5py\n",
    "import matplotlib as mpl\n",
    "import matplotlib.pyplot as plt\n",
    "import neuropacks as packs\n",
    "import numpy as np\n",
    "import os\n",
    "import seaborn as sns\n",
    "\n",
    "from noise_correlations import analysis, utils\n",
    "\n",
    "%matplotlib inline"
   ]
  },
  {
   "cell_type": "markdown",
   "id": "institutional-point",
   "metadata": {},
   "source": [
    "# Load Data"
   ]
  },
  {
   "cell_type": "markdown",
   "id": "ethical-mineral",
   "metadata": {},
   "source": [
    "## Experiment Results"
   ]
  },
  {
   "cell_type": "code",
   "execution_count": null,
   "id": "united-grove",
   "metadata": {},
   "outputs": [],
   "source": [
    "base_path = '/Volumes/pss/fits/neurocorr'"
   ]
  },
  {
   "cell_type": "code",
   "execution_count": null,
   "id": "timely-american",
   "metadata": {},
   "outputs": [],
   "source": [
    "pvc11_1_path = os.path.join(base_path, 'exp4_1_tuned_values_pvc11_65_1000_1000.h5')\n",
    "pvc11_2_path = os.path.join(base_path, 'exp4_2_tuned_values_pvc11_50_1000_1000.h5')\n",
    "pvc11_3_path = os.path.join(base_path, 'exp4_3_tuned_values_pvc11_75_1000_1000.h5')\n",
    "ac1_path = os.path.join(base_path, 'exp4_resp_values_ac1_50_1000_1000.h5')\n",
    "ret2_path = os.path.join(base_path, 'exp4_tuned_values_ret2_50_1000_1000.h5')"
   ]
  },
  {
   "cell_type": "code",
   "execution_count": null,
   "id": "regulation-disaster",
   "metadata": {},
   "outputs": [],
   "source": [
    "labels = [r'\\textbf{V1, 1}', r'\\textbf{V1, 2}', r'\\textbf{V1, 3}', r'\\textbf{AC}', r'\\textbf{Retina}']"
   ]
  },
  {
   "cell_type": "code",
   "execution_count": null,
   "id": "stainless-tomato",
   "metadata": {},
   "outputs": [],
   "source": [
    "pvc11_1 = h5py.File(pvc11_1_path, 'r')\n",
    "pvc11_2 = h5py.File(pvc11_2_path, 'r')\n",
    "pvc11_3 = h5py.File(pvc11_3_path, 'r')\n",
    "pvc11_results = [pvc11_1, pvc11_2, pvc11_3]\n",
    "ac1 = h5py.File(ac1_path, 'r')\n",
    "ret2 = h5py.File(ret2_path, 'r')"
   ]
  },
  {
   "cell_type": "markdown",
   "id": "successful-somerset",
   "metadata": {},
   "source": [
    "## Neural Data"
   ]
  },
  {
   "cell_type": "code",
   "execution_count": null,
   "id": "developmental-tyler",
   "metadata": {},
   "outputs": [],
   "source": [
    "# Get PVC11 dataset paths\n",
    "pvc11_base_path = \"/Volumes/pss/data/pvc11/data/spikes_gratings\"\n",
    "pvc11_paths = [os.path.join(pvc11_base_path, f\"data_monkey{idx}_gratings.mat\") for idx in range(1, 4)]\n",
    "# Get PVC11 neuropack objects\n",
    "pvc11s = [packs.PVC11(data_path=path) for path in pvc11_paths]\n",
    "# Get PVC11 design matrices and stimulus vectors\n",
    "pvc11_Xs = [pvc11.get_response_matrix(transform=None) for pvc11 in pvc11s]\n",
    "pvc11_stimuli = [pvc11.get_design_matrix(form='angle') for pvc11 in pvc11s]\n",
    "# Delete non-responsive neurons\n",
    "pvc11_non_responsive_neurons = [\n",
    "    utils.get_nonresponsive_for_stim(X=X, stimuli=stimuli)\n",
    "    for X, stimuli in zip(pvc11_Xs, pvc11_stimuli)\n",
    "]\n",
    "pvc11_Xs = [\n",
    "    np.delete(X, non_responsive_neurons, axis=1)\n",
    "    if non_responsive_neurons.sum() > 0\n",
    "    else X\n",
    "    for X, non_responsive_neurons in zip(pvc11_Xs, pvc11_non_responsive_neurons)\n",
    "]\n",
    "# Remove non-tuned neurons\n",
    "pvc11_tuned_neurons = [\n",
    "    utils.get_tuned_units(\n",
    "        X=X,\n",
    "        stimuli=stimuli,\n",
    "        aggregator=np.mean,\n",
    "        peak_response=2.56,\n",
    "        tuning_criteria='modulation_frac',\n",
    "        modulation_frac=0.6,\n",
    "        variance_to_mean=10.)\n",
    "    for X, stimuli in zip(pvc11_Xs, pvc11_stimuli)\n",
    "]\n",
    "pvc11_Xs = [\n",
    "    X[:, tuned_neurons] for X, tuned_neurons in zip(pvc11_Xs, pvc11_tuned_neurons)\n",
    "]"
   ]
  },
  {
   "cell_type": "code",
   "execution_count": null,
   "id": "willing-funds",
   "metadata": {},
   "outputs": [],
   "source": [
    "# Get RET2 dataset path\n",
    "ret2_path = \"/Volumes/pss/data/ret2/200114_fov1_data.mat\"\n",
    "# Get RET2 neuropack\n",
    "ret2_pack = packs.RET2(data_path=ret2_path)\n",
    "# Get RET2 design matrix and stimulus vector\n",
    "ret2_X = ret2_pack.get_response_matrix(cells='all', response='max')\n",
    "ret2_stimuli = ret2_pack.get_design_matrix(form='angle')\n",
    "# Get tuned cells\n",
    "ret2_X = ret2_X[:, ret2_pack.tuned_cells]"
   ]
  },
  {
   "cell_type": "code",
   "execution_count": null,
   "id": "aggressive-enzyme",
   "metadata": {},
   "outputs": [],
   "source": [
    "# Get AC1 dataset path\n",
    "ac1_path = \"/Volumes/pss/data/ac1/R32_B7_HG_ext_rsp.h5\"\n",
    "# Get AC1 neuropack\n",
    "ac1_pack = packs.AC1(data_path=ac1_path)\n",
    "# Get AC1 design matrix and stimulus vector\n",
    "amplitudes = np.arange(2, 8)\n",
    "ac1_X = ac1_pack.get_response_matrix(amplitudes=amplitudes)\n",
    "ac1_stimuli = ac1_pack.get_design_matrix(amplitudes=amplitudes)\n",
    "ac1_X_selected = utils.get_tuned_units(\n",
    "    X=ac1_X,\n",
    "    stimuli=ac1_stimuli,\n",
    "    aggregator=np.mean,\n",
    "    peak_response=1,\n",
    "    variance_to_mean=10.)\n",
    "ac1_X = ac1_X[:, ac1_X_selected]"
   ]
  },
  {
   "cell_type": "markdown",
   "id": "unable-music",
   "metadata": {},
   "source": [
    "# Generate optimal covariance statistics"
   ]
  },
  {
   "cell_type": "code",
   "execution_count": null,
   "id": "sophisticated-parcel",
   "metadata": {},
   "outputs": [],
   "source": [
    "pvc11_optimal_cov_corrs = [\n",
    "    analysis.get_optimal_cov_statistics(\n",
    "        X=X,\n",
    "        stimuli=stimuli,\n",
    "        units=result['units'][:],\n",
    "        stims=result['stims'][:],\n",
    "        v_lfi=result['v_lfi'][:],\n",
    "        dim_idxs=np.arange(1, result['units'].shape[0]),\n",
    "        verbose=True\n",
    "    )\n",
    "    for X, stimuli, result in zip(pvc11_Xs, pvc11_stimuli, pvc11_results)\n",
    "]"
   ]
  },
  {
   "cell_type": "code",
   "execution_count": null,
   "id": "above-hunter",
   "metadata": {},
   "outputs": [],
   "source": [
    "with h5py.File('neurocorr_optimality_results.h5', 'a') as f:\n",
    "    for idx in range(len(pvc11_optimal_cov_corrs)):\n",
    "        f[f'pvc11_{idx+1}'] = pvc11_optimal_cov_corrs[idx]"
   ]
  },
  {
   "cell_type": "code",
   "execution_count": null,
   "id": "living-payroll",
   "metadata": {},
   "outputs": [],
   "source": [
    "ret2_optimal_cov_corrs = analysis.get_optimal_cov_statistics(\n",
    "    X=ret2_X,\n",
    "    stimuli=ret2_stimuli,\n",
    "    units=ret2['units'][:],\n",
    "    stims=ret2['stims'][:],\n",
    "    v_lfi=ret2['v_lfi'][:],\n",
    "    dim_idxs=np.arange(1, ret2['units'].shape[0]),\n",
    "    verbose=True\n",
    ")"
   ]
  },
  {
   "cell_type": "code",
   "execution_count": null,
   "id": "temporal-removal",
   "metadata": {},
   "outputs": [],
   "source": [
    "with h5py.File('neurocorr_optimality_results.h5', 'a') as f:\n",
    "    f['ret2'] = ret2_optimal_cov_corrs"
   ]
  },
  {
   "cell_type": "code",
   "execution_count": null,
   "id": "undefined-triangle",
   "metadata": {},
   "outputs": [],
   "source": [
    "ac1_optimal_cov_corrs = analysis.get_optimal_cov_statistics(\n",
    "    X=ac1_X,\n",
    "    stimuli=ac1_stimuli,\n",
    "    units=ac1['units'][:],\n",
    "    stims=ac1['stims'][:],\n",
    "    v_lfi=ac1['v_lfi'][:],\n",
    "    dim_idxs=np.arange(1, ac1['units'].shape[0]),\n",
    "    verbose=True\n",
    ")"
   ]
  },
  {
   "cell_type": "code",
   "execution_count": null,
   "id": "monetary-peripheral",
   "metadata": {},
   "outputs": [],
   "source": [
    "with h5py.File('neurocorr_optimality_results.h5', 'a') as f:\n",
    "    f['ac1'] = ac1_optimal_cov_corrs"
   ]
  }
 ],
 "metadata": {
  "kernelspec": {
   "display_name": "neuro",
   "language": "python",
   "name": "neuro"
  },
  "language_info": {
   "codemirror_mode": {
    "name": "ipython",
    "version": 3
   },
   "file_extension": ".py",
   "mimetype": "text/x-python",
   "name": "python",
   "nbconvert_exporter": "python",
   "pygments_lexer": "ipython3",
   "version": "3.7.9"
  }
 },
 "nbformat": 4,
 "nbformat_minor": 5
}

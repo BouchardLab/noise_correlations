{
 "cells": [
  {
   "cell_type": "markdown",
   "id": "b92230b5",
   "metadata": {},
   "source": [
    "# Experiment 4: Optimality Analysis\n",
    "\n",
    "This performs optimality analyses on data obtained from experiment 4, which consists of the large scale\n",
    "experiments on the neural datasets."
   ]
  },
  {
   "cell_type": "code",
   "execution_count": null,
   "id": "ec5808cc",
   "metadata": {},
   "outputs": [],
   "source": [
    "import os"
   ]
  },
  {
   "cell_type": "code",
   "execution_count": null,
   "id": "ba0f7ea6",
   "metadata": {},
   "outputs": [],
   "source": [
    "script_path = \"../scripts/optimality.py\"\n",
    "base_path = \"/storage/fits/neurocorr\""
   ]
  },
  {
   "cell_type": "code",
   "execution_count": null,
   "id": "420d1ae1",
   "metadata": {},
   "outputs": [],
   "source": [
    "# Paths to each neural dataset\n",
    "pvc11_1_path = os.path.join(base_path, 'exp4_1_tuned_values_pvc11_65_1000_1000.h5')\n",
    "pvc11_2_path = os.path.join(base_path, 'exp4_2_tuned_values_pvc11_50_1000_1000.h5')\n",
    "pvc11_3_path = os.path.join(base_path, 'exp4_3_tuned_values_pvc11_75_1000_1000.h5')\n",
    "ret2_path = os.path.join(base_path, 'exp4_tuned_values_ret2_50_1000_1000.h5')"
   ]
  },
  {
   "cell_type": "code",
   "execution_count": null,
   "id": "12dbc6b4",
   "metadata": {},
   "outputs": [],
   "source": [
    "# Run optimality script on each neural dataset\n",
    "for path in [pvc11_1_path, pvc11_2_path, pvc11_3_path, ret2_path]:\n",
    "    print(f\"Running script on {path}\")\n",
    "    %run {script_path} --fits_path={path}"
   ]
  }
 ],
 "metadata": {
  "kernelspec": {
   "display_name": "neuro",
   "language": "python",
   "name": "neuro"
  },
  "language_info": {
   "codemirror_mode": {
    "name": "ipython",
    "version": 3
   },
   "file_extension": ".py",
   "mimetype": "text/x-python",
   "name": "python",
   "nbconvert_exporter": "python",
   "pygments_lexer": "ipython3",
   "version": "3.7.9"
  }
 },
 "nbformat": 4,
 "nbformat_minor": 5
}

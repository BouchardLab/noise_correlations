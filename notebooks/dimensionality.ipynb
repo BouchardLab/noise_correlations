{
 "cells": [
  {
   "cell_type": "code",
   "execution_count": 1,
   "metadata": {},
   "outputs": [],
   "source": [
    "import numpy as np\n",
    "import matplotlib.pyplot as plt\n",
    "from matplotlib.cm import plasma\n",
    "from noise_correlations import discriminability, null_models, plot, utils\n",
    "from imp import reload"
   ]
  },
  {
   "cell_type": "markdown",
   "metadata": {},
   "source": [
    "# Subsampling"
   ]
  },
  {
   "cell_type": "code",
   "execution_count": 16,
   "metadata": {},
   "outputs": [],
   "source": [
    "reload(utils)\n",
    "rng = np.random.RandomState(20190214)\n",
    "\n",
    "ambient_dim = 100\n",
    "var = 1.\n",
    "corr = .1\n",
    "mu0 = np.concatenate([np.ones(1), -np.ones(ambient_dim-1)])\n",
    "mu1 = np.concatenate([-np.ones(1), np.ones(1), -np.ones(ambient_dim-2)])\n",
    "if not np.allclose(np.dot(mu1 - mu0, np.ones(ambient_dim)), 0):\n",
    "    raise ValueError\n",
    "cov0 = utils.uniform_correlation_matrix(ambient_dim, var, corr)\n",
    "cov1 = cov0.copy()\n",
    "\n",
    "n_rots = 20\n",
    "n_trials = 100\n",
    "n_sample_dims = 5\n",
    "n_null_samples = 10000\n",
    "\n",
    "sample_dims = np.logspace(np.log10(2), np.log10(ambient_dim // 2), n_sample_dims, dtype=int)"
   ]
  },
  {
   "cell_type": "markdown",
   "metadata": {},
   "source": [
    "# LFI"
   ]
  },
  {
   "cell_type": "code",
   "execution_count": null,
   "metadata": {},
   "outputs": [],
   "source": [
    "ambient_vals = np.zeros(n_rots)\n",
    "ambient_ps = np.zeros(n_rots)\n",
    "sample_vals = np.zeros((n_rots, n_sample_dims, n_trials))\n",
    "sample_ps = np.zeros((n_rots, n_sample_dims, n_trials))\n",
    "\n",
    "\n",
    "_, vals, _ = null_models.eval_null(mu0, cov0, mu1, cov0,\n",
    "                                   null_models.random_rotation, discriminability.lfi,\n",
    "                                   n_null_samples, same_null=True)\n",
    "\n",
    "for ii in range(n_rots):\n",
    "    _, covp = null_models.random_rotation(mu0, cov0)\n",
    "    val = discriminability.lfi(mu0, covp, mu1, covp)\n",
    "    ambient_vals[ii] = val\n",
    "    ambient_ps[ii] = (vals >= val).mean()\n",
    "    for jj, dim in enumerate(sample_dims):\n",
    "        for kk in range(n_trials):\n",
    "            (sample_mu0, sample_mu1), sample_covp = utils.subsample_cov([mu0, mu1], covp, dim, rng)\n",
    "            val, _, p = null_models.eval_null(sample_mu0, sample_covp, sample_mu1, sample_covp,\n",
    "                                              null_models.random_rotation, discriminability.lfi,\n",
    "                                              n_null_samples, same_null=True)\n",
    "            sample_vals[ii, jj, kk] = val\n",
    "            sample_ps[ii, jj, kk] = p"
   ]
  },
  {
   "cell_type": "code",
   "execution_count": null,
   "metadata": {},
   "outputs": [],
   "source": [
    "f, (ax0, ax1) = plt.subplots(1, 2)\n",
    "for ii in range(n_rots):\n",
    "    ax0.plot(sample_dims, sample_vals[ii].mean(axis=-1), c=plasma(ambient_ps[ii]))\n",
    "ax0.set_xscale('log')\n",
    "ax1.imshow(np.linspace(0, 1, 100)[::-1, np.newaxis], cmap='plasma', extent=[0, 1, 0, 1])\n",
    "ax1.set_xticks([])"
   ]
  },
  {
   "cell_type": "code",
   "execution_count": null,
   "metadata": {},
   "outputs": [],
   "source": [
    "f, (ax0, ax1) = plt.subplots(1, 2)\n",
    "for ii in range(n_rots):\n",
    "    ax0.plot(sample_dims, sample_ps[ii].mean(axis=-1), c=plasma(ambient_ps[ii]))\n",
    "ax0.set_xscale('log')\n",
    "ax0.set_yscale('log')\n",
    "ax1.imshow(np.linspace(0, 1, 100)[::-1, np.newaxis], cmap='plasma', extent=[0, 1, 0, 1])\n",
    "ax1.set_xticks([])"
   ]
  },
  {
   "cell_type": "markdown",
   "metadata": {},
   "source": [
    "# sD_KL"
   ]
  },
  {
   "cell_type": "code",
   "execution_count": null,
   "metadata": {},
   "outputs": [],
   "source": [
    "sample_dims = np.logspace(np.log10(2), np.log10(ambient_dim - 1), n_sample_dims, dtype=int)\n",
    "ambient_vals = np.zeros(n_rots)\n",
    "ambient_ps = np.zeros(n_rots)\n",
    "sample_vals = np.zeros((n_rots, n_sample_dims, n_trials))\n",
    "sample_ps = np.zeros((n_rots, n_sample_dims, n_trials))\n",
    "\n",
    "_, vals, _ = null_models.eval_null(mu0, cov0, mu1, cov1,\n",
    "                                   null_models.random_rotation, discriminability.mv_normal_jeffreys,\n",
    "                                   n_null_samples)\n",
    "\n",
    "for ii in range(n_rots):\n",
    "    _, cov0p = null_models.random_rotation(mu0, cov0)\n",
    "    _, cov1p = null_models.random_rotation(mu1, cov1)\n",
    "    val = discriminability.mv_normal_jeffreys(mu0, cov0p, mu1, cov1p)\n",
    "    ambient_vals[ii] = val\n",
    "    ambient_ps[ii] = (vals >= val).mean()\n",
    "    for jj, dim in enumerate(sample_dims):\n",
    "        for kk in range(n_trials):\n",
    "            (sample_mu0, sample_mu1), [sample_cov0p, sample_cov1p] = utils.subsample_cov([mu0, mu1], [cov0p, cov1p], dim, rng)\n",
    "            val, _, p = null_models.eval_null(sample_mu0, sample_cov0p, sample_mu1, sample_cov1p,\n",
    "                                              null_models.random_rotation, discriminability.mv_normal_jeffreys,\n",
    "                                              n_null_samples)\n",
    "            sample_vals[ii, jj, kk] = val\n",
    "            sample_ps[ii, jj, kk] = p"
   ]
  },
  {
   "cell_type": "code",
   "execution_count": null,
   "metadata": {},
   "outputs": [],
   "source": [
    "f, (ax0, ax1) = plt.subplots(1, 2)\n",
    "for ii in range(n_rots):\n",
    "    ax0.plot(sample_dims, sample_vals[ii].mean(axis=-1), c=plasma(ambient_ps[ii]))\n",
    "ax0.set_xscale('log')\n",
    "ax1.imshow(np.linspace(0, 1, 100)[::-1, np.newaxis], cmap='plasma', extent=[0, 1, 0, 1])\n",
    "ax1.set_xticks([])"
   ]
  },
  {
   "cell_type": "code",
   "execution_count": null,
   "metadata": {},
   "outputs": [],
   "source": [
    "f, (ax0, ax1) = plt.subplots(1, 2)\n",
    "for ii in range(n_rots):\n",
    "    ax0.plot(sample_dims, sample_ps[ii].mean(axis=-1), c=plasma(ambient_ps[ii]))\n",
    "ax0.set_xscale('log')\n",
    "ax0.set_yscale('log')\n",
    "ax1.imshow(np.linspace(0, 1, 100)[::-1, np.newaxis], cmap='plasma', extent=[0, 1, 0, 1])\n",
    "ax1.set_xticks([])"
   ]
  },
  {
   "cell_type": "code",
   "execution_count": null,
   "metadata": {},
   "outputs": [],
   "source": []
  }
 ],
 "metadata": {
  "kernelspec": {
   "display_name": "Python 3",
   "language": "python",
   "name": "python3"
  },
  "language_info": {
   "codemirror_mode": {
    "name": "ipython",
    "version": 3
   },
   "file_extension": ".py",
   "mimetype": "text/x-python",
   "name": "python",
   "nbconvert_exporter": "python",
   "pygments_lexer": "ipython3",
   "version": "3.7.2"
  }
 },
 "nbformat": 4,
 "nbformat_minor": 2
}

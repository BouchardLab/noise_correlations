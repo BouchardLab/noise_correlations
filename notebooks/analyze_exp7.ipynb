{
 "cells": [
  {
   "cell_type": "code",
   "execution_count": null,
   "id": "38005019",
   "metadata": {},
   "outputs": [],
   "source": [
    "import h5py\n",
    "import matplotlib.pyplot as plt\n",
    "import mpl_lego.style as style\n",
    "import numpy as np\n",
    "import os\n",
    "\n",
    "from noise_correlations import discriminability, utils\n",
    "from mpl_lego.colorbar import append_cax_to_ax\n",
    "from matplotlib.cm import ScalarMappable\n",
    "from matplotlib.colors import Normalize\n",
    "\n",
    "%matplotlib inline"
   ]
  },
  {
   "cell_type": "code",
   "execution_count": null,
   "id": "e3692edc",
   "metadata": {},
   "outputs": [],
   "source": [
    "style.use_latex_style()"
   ]
  },
  {
   "cell_type": "code",
   "execution_count": null,
   "id": "e3eb163f",
   "metadata": {},
   "outputs": [],
   "source": [
    "data_path = '/storage/data/neurocorr'\n",
    "fits_path = '/storage/fits/neurocorr/exp07'"
   ]
  },
  {
   "cell_type": "code",
   "execution_count": null,
   "id": "53575213",
   "metadata": {},
   "outputs": [],
   "source": [
    "pvc11_1_path = os.path.join(fits_path, 'exp07_1_pvc11_20_1000_1000.h5')\n",
    "rotations_path = os.path.join(data_path, 'rotations.h5')"
   ]
  },
  {
   "cell_type": "code",
   "execution_count": null,
   "id": "30d0055a",
   "metadata": {},
   "outputs": [],
   "source": [
    "pvc11_1 = h5py.File(pvc11_1_path, 'r')\n",
    "rotations = h5py.File(rotations_path, 'r')"
   ]
  },
  {
   "cell_type": "code",
   "execution_count": null,
   "id": "9d69a4ed",
   "metadata": {},
   "outputs": [],
   "source": [
    "X = pvc11_1['X'][:]\n",
    "stimuli = pvc11_1['stimuli'][:]\n",
    "stims = pvc11_1['stims'][:]\n",
    "units = pvc11_1['units'][:]\n",
    "v_lfi = pvc11_1['v_lfi'][:]\n",
    "\n",
    "n_dims, n_dimlet_stims, n_repeats = pvc11_1['v_r_lfi'].shape\n",
    "n_max_units = pvc11_1['units'].shape[2]"
   ]
  },
  {
   "cell_type": "code",
   "execution_count": null,
   "id": "90ef26f5",
   "metadata": {},
   "outputs": [],
   "source": [
    "fig, ax = plt.subplots(1, 1, figsize=(6, 5))\n",
    "\n",
    "dims = 2 + np.arange(n_max_units - 1)\n",
    "lfi_median = np.median(v_lfi, axis=1)\n",
    "\n",
    "ax.fill_between(\n",
    "    x=dims,\n",
    "    y1=np.percentile(v_lfi, q=25, axis=1),\n",
    "    y2=np.percentile(v_lfi, q=75, axis=1),\n",
    "    color=f'C0',\n",
    "    alpha=0.1)\n",
    "ax.plot(\n",
    "    dims,\n",
    "    lfi_median,\n",
    "    linewidth=4,\n",
    "    color=f'C0')\n",
    "\n",
    "ax.set_xlim([2, 20])\n",
    "ax.set_ylim([0, 0.03])\n",
    "ax.tick_params(labelsize=15)\n",
    "ax.set_xlabel(r'\\textbf{Dimlet Dimension}', fontsize=15)\n",
    "ax.set_ylabel(r'\\textbf{LFI}', fontsize=15)"
   ]
  },
  {
   "cell_type": "code",
   "execution_count": null,
   "id": "c696c12a",
   "metadata": {},
   "outputs": [],
   "source": [
    "np.max(pvc11_1['v_r_lfi'])"
   ]
  },
  {
   "cell_type": "code",
   "execution_count": null,
   "id": "72fed069",
   "metadata": {},
   "outputs": [],
   "source": [
    "fig, ax = plt.subplots(1, 1, figsize=(6, 5))\n",
    "\n",
    "dims = 2 + np.arange(n_max_units - 1)\n",
    "p_r_lfi = pvc11_1['p_r_lfi'][:]\n",
    "p_s_lfi = pvc11_1['p_s_lfi'][:]\n",
    "\n",
    "ax.fill_between(\n",
    "    x=dims,\n",
    "    y1=np.percentile(p_r_lfi, q=25, axis=-1),\n",
    "    y2=np.percentile(p_r_lfi, q=75, axis=-1),\n",
    "    color='red',\n",
    "    alpha=0.1)\n",
    "ax.plot(\n",
    "    dims,\n",
    "    np.median(p_r_lfi, axis=-1),\n",
    "    linewidth=4,\n",
    "    color='red')\n",
    "ax.fill_between(\n",
    "    x=dims,\n",
    "    y1=np.percentile(p_s_lfi, q=40, axis=-1),\n",
    "    y2=np.percentile(p_s_lfi, q=60, axis=-1),\n",
    "    color='gray',\n",
    "    alpha=0.1)\n",
    "ax.plot(\n",
    "    dims,\n",
    "    np.median(p_s_lfi, axis=-1),\n",
    "    linewidth=4,\n",
    "    color='gray')\n",
    "\n",
    "ax.set_xlim([2, 20])\n",
    "ax.set_ylim([0, 1])\n",
    "ax.tick_params(labelsize=15)\n",
    "ax.set_xlabel(r'\\textbf{Dimlet Dimension}', fontsize=15)\n",
    "ax.set_ylabel(r'\\textbf{LFI}', fontsize=15)"
   ]
  },
  {
   "cell_type": "code",
   "execution_count": null,
   "id": "c5db0790",
   "metadata": {},
   "outputs": [],
   "source": [
    "fig, ax = plt.subplots(1, 1, figsize=(10, 5))\n",
    "\n",
    "rng = np.random.default_rng(289381)\n",
    "dim_idxs = [0, 1, 3, 8, 18]\n",
    "random_pairing = rng.integers(low=0, high=12000, size=1000)\n",
    "\n",
    "for idx, dim_idx in enumerate(dim_idxs):\n",
    "    opt_lfis_scaled = np.zeros((1000, 1000))\n",
    "    for jj, pairing_idx in enumerate(random_pairing):\n",
    "        this_stim = stims[dim_idx, pairing_idx]\n",
    "        this_unit = units[dim_idx, pairing_idx, :dim_idx+2]\n",
    "        X1, X2 = utils.get_dimstim_responses(X, stimuli, this_unit, this_stim)\n",
    "        mu1, cov1 = utils.mean_cov(X1)\n",
    "        mu2, cov2 = utils.mean_cov(X2)\n",
    "        opt_cov = pvc11_1[f'opt_covs/{dim_idx+2}'][pairing_idx]\n",
    "        opt_lfi = discriminability.lfi(mu1, opt_cov, mu2, opt_cov, dtheta=30.)\n",
    "        opt_lfis_scaled[jj] = pvc11_1['v_r_lfi'][dim_idx, pairing_idx, :] / opt_lfi\n",
    "    ax.hist(\n",
    "        opt_lfis_scaled.ravel(),\n",
    "        color=f'C{idx}',\n",
    "        histtype='step',\n",
    "        density=True,\n",
    "        lw=3,\n",
    "        label=f'$d={dim_idx+2}$',\n",
    "        bins=np.linspace(0, 1, 30))\n",
    "ax.legend(\n",
    "    loc='center left',\n",
    "    bbox_to_anchor=(1.0, 0.5),\n",
    "    prop={'size': 14})\n",
    "ax.tick_params(labelsize=12)\n",
    "ax.set_xlim([-0.05, 1.05])\n",
    "ax.set_xlabel(r'\\textbf{Normalized LFI}', fontsize=18)\n",
    "ax.set_ylabel(r'\\textbf{Density}', fontsize=18)"
   ]
  },
  {
   "cell_type": "code",
   "execution_count": null,
   "id": "1f291f5a",
   "metadata": {},
   "outputs": [],
   "source": [
    "opt_ff = np.zeros((n_dims, n_dimlet_stims))\n",
    "obs_ff = np.zeros_like(opt_ff)\n",
    "\n",
    "for dim_idx in range(n_dims):\n",
    "    for pairing in range(n_dimlet_stims):\n",
    "        this_stim = stims[dim_idx, pairing]\n",
    "        this_unit = units[dim_idx, pairing, :dim_idx+2]\n",
    "        # Get means\n",
    "        X1, X2 = utils.get_dimstim_responses(X, stimuli, this_unit, this_stim)\n",
    "        mu1, cov1 = utils.mean_cov(X1)\n",
    "        mu2, cov2 = utils.mean_cov(X2)\n",
    "        mu_mean = np.mean(np.vstack((mu1, mu2)), axis=0)\n",
    "        # Get variances\n",
    "        var_opt = np.diag(pvc11_1[f'opt_covs/{dim_idx + 2}'][pairing])\n",
    "        opt_ff[dim_idx, pairing] = np.mean(var_opt / mu_mean)\n",
    "        var_obs = np.diag(0.5 * (cov1 + cov2))\n",
    "        obs_ff[dim_idx, pairing] = np.mean(var_obs / mu_mean)"
   ]
  },
  {
   "cell_type": "code",
   "execution_count": null,
   "id": "27a67941",
   "metadata": {},
   "outputs": [],
   "source": [
    "fig, ax = plt.subplots(1, 1, figsize=(6, 6))\n",
    "dim_idx_to_plot = 3\n",
    "ax.hexbin(\n",
    "    obs_ff[dim_idx_to_plot],\n",
    "    opt_ff[dim_idx_to_plot],\n",
    "    C=pvc11_1['p_r_lfi'][dim_idx_to_plot],\n",
    "    gridsize=200,\n",
    "    cmap='plasma',\n",
    "    extent=(0.5, 20, 0.5, 20))\n",
    "ax.plot(ax.get_xlim(), ax.get_ylim(), color='k')\n",
    "cax = append_cax_to_ax(ax, width=0.03)\n",
    "fig.colorbar(ScalarMappable(norm=Normalize(vmin=0, vmax=1), cmap='plasma'), cax=cax)\n",
    "cax.set_ylabel(r'\\textbf{Average Percentile}', fontsize=15, rotation=270, labelpad=20)\n",
    "ax.set_xlabel(r'\\textbf{Observed Fano Factor}', fontsize=18)\n",
    "ax.set_ylabel(r'\\textbf{Optimal Fano Factor}', fontsize=18)"
   ]
  },
  {
   "cell_type": "code",
   "execution_count": null,
   "id": "c14d55d6",
   "metadata": {},
   "outputs": [],
   "source": [
    "dim_idx = 3\n",
    "rotation_group = rotations[f'{dim_idx+2}']\n",
    "rot_ff = np.zeros((n_dimlet_stims, n_repeats))\n",
    "obs_ff = np.zeros(n_dimlet_stims)\n",
    "\n",
    "for pairing in range(n_dimlet_stims):\n",
    "    this_stim = stims[dim_idx, pairing]\n",
    "    this_unit = units[dim_idx, pairing, :dim_idx+2]\n",
    "    X1, X2 = utils.get_dimstim_responses(X, stimuli, this_unit, this_stim)\n",
    "    mu1, cov1 = utils.mean_cov(X1)\n",
    "    mu2, cov2 = utils.mean_cov(X2)\n",
    "    # Get means\n",
    "    mu_mean = np.mean(np.vstack((mu1, mu2)), axis=0)\n",
    "    # Get variances\n",
    "    avg_cov = 0.5 * (cov1 + cov2)\n",
    "    var_obs = np.diag(avg_cov)\n",
    "    obs_ff[pairing] = np.mean(var_obs / mu_mean)\n",
    "    R_idx = pvc11_1['R_idxs'][dim_idx, pairing, :, 0]\n",
    "    for repeat in range(n_repeats):\n",
    "        R = rotation_group[R_idx[repeat]]\n",
    "        R_cov = R @ avg_cov @ R.T\n",
    "        var_rot = np.diag(R_cov)\n",
    "        rot_ff[pairing, repeat] = np.mean(var_rot / mu_mean)"
   ]
  },
  {
   "cell_type": "code",
   "execution_count": null,
   "id": "4813a204",
   "metadata": {},
   "outputs": [],
   "source": [
    "np.argsort(pvc11_1['p_r_lfi'][dim_idx])[-20:]"
   ]
  },
  {
   "cell_type": "code",
   "execution_count": null,
   "id": "24913f45",
   "metadata": {},
   "outputs": [],
   "source": [
    "np.argsort(pvc11_1['p_r_lfi'][dim_idx])[:20]"
   ]
  },
  {
   "cell_type": "code",
   "execution_count": null,
   "id": "cb93fb4e",
   "metadata": {},
   "outputs": [],
   "source": [
    "np.sort(pvc11_1['p_r_lfi'][dim_idx])[-20:]"
   ]
  },
  {
   "cell_type": "code",
   "execution_count": null,
   "id": "91b28007",
   "metadata": {},
   "outputs": [],
   "source": [
    "plt.hist(rot_ff[7823])\n",
    "plt.axvline(obs_ff[7823])\n",
    "plt.xlabel(r'\\textbf{Fano Factor}', fontsize=18)"
   ]
  },
  {
   "cell_type": "code",
   "execution_count": null,
   "id": "9145b1e8",
   "metadata": {},
   "outputs": [],
   "source": [
    "ff_percentile = np.count_nonzero(obs_ff[..., np.newaxis] > rot_ff, axis=1) / n_repeats\n",
    "ff_mean = np.median(obs_ff[..., np.newaxis] / rot_ff, axis=1)"
   ]
  },
  {
   "cell_type": "code",
   "execution_count": null,
   "id": "ac46e99f",
   "metadata": {},
   "outputs": [],
   "source": [
    "np.percentile(rot_ff, q=5, axis=1)"
   ]
  },
  {
   "cell_type": "code",
   "execution_count": null,
   "id": "ea9d37ca",
   "metadata": {},
   "outputs": [],
   "source": [
    "fig, ax = plt.subplots(1, 1, figsize=(8, 8))\n",
    "\n",
    "ax.scatter(ff_percentile, pvc11_1['p_r_lfi'][dim_idx], alpha=0.25)\n",
    "ax.set_xlabel(r'\\textbf{Fano Factor Percentile}', fontsize=18)\n",
    "ax.set_ylabel(r'\\textbf{LFI Percentile}', fontsize=18)\n",
    "              \n",
    "ax.set_xlim([-0.05, 1])\n",
    "ax.set_ylim([-0.05, 1])\n",
    "ax.set_aspect('equal')"
   ]
  },
  {
   "cell_type": "code",
   "execution_count": null,
   "id": "9ca4b9a7",
   "metadata": {},
   "outputs": [],
   "source": [
    "fig, ax = plt.subplots(1, 1, figsize=)\n",
    "plt.scatter(\n",
    "    ff_mean,\n",
    "    pvc11_1['p_r_lfi'][dim_idx],\n",
    "    alpha=0.1)"
   ]
  },
  {
   "cell_type": "code",
   "execution_count": null,
   "id": "55a3aaca",
   "metadata": {},
   "outputs": [],
   "source": [
    "fig, ax = plt.subplots(1, 1, figsize=(10, 5))\n",
    "ax.scatter(\n",
    "    np.percentile(rot_ff, q=50, axis=1),\n",
    "    pvc11_1['p_r_lfi'][dim_idx],\n",
    "    alpha=0.1)\n",
    "ax.set_xlabel(r'\\textbf{Median FF across rotations}', fontsize=18)\n",
    "ax.set_ylabel(r'\\textbf{LFI percentile}', fontsize=18)"
   ]
  }
 ],
 "metadata": {
  "kernelspec": {
   "display_name": "neuro",
   "language": "python",
   "name": "neuro"
  },
  "language_info": {
   "codemirror_mode": {
    "name": "ipython",
    "version": 3
   },
   "file_extension": ".py",
   "mimetype": "text/x-python",
   "name": "python",
   "nbconvert_exporter": "python",
   "pygments_lexer": "ipython3",
   "version": "3.7.9"
  }
 },
 "nbformat": 4,
 "nbformat_minor": 5
}

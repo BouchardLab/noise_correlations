{
 "cells": [
  {
   "cell_type": "code",
   "execution_count": null,
   "id": "regulated-hardwood",
   "metadata": {},
   "outputs": [],
   "source": [
    "import h5py\n",
    "import matplotlib as mpl\n",
    "import matplotlib.pyplot as plt\n",
    "import neuropacks as packs\n",
    "import numpy as np\n",
    "import os\n",
    "import seaborn as sns\n",
    "\n",
    "from noise_correlations import analysis, utils\n",
    "\n",
    "%matplotlib inline"
   ]
  },
  {
   "cell_type": "code",
   "execution_count": null,
   "id": "dominican-hearts",
   "metadata": {},
   "outputs": [],
   "source": [
    "base_path = '/Volumes/pss/fits/neurocorr'"
   ]
  },
  {
   "cell_type": "code",
   "execution_count": null,
   "id": "civil-oriental",
   "metadata": {},
   "outputs": [],
   "source": [
    "pvc11_1_path = os.path.join(base_path, 'exp4_1_tuned_values_pvc11_65_1000_1000.h5')\n",
    "pvc11_2_path = os.path.join(base_path, 'exp4_2_tuned_values_pvc11_50_1000_1000.h5')\n",
    "pvc11_3_path = os.path.join(base_path, 'exp4_3_tuned_values_pvc11_75_1000_1000.h5')\n",
    "ac1_path = os.path.join(base_path, 'exp4_resp_values_ac1_50_1000_1000.h5')\n",
    "ret2_path = os.path.join(base_path, 'exp4_tuned_values_ret2_50_1000_1000.h5')\n",
    "optimality_path = os.path.join(base_path, 'neurocorr_optimality_results.h5')"
   ]
  },
  {
   "cell_type": "code",
   "execution_count": null,
   "id": "dimensional-sunset",
   "metadata": {},
   "outputs": [],
   "source": [
    "pvc11_1 = h5py.File(pvc11_1_path, 'r')\n",
    "pvc11_2 = h5py.File(pvc11_2_path, 'r')\n",
    "pvc11_3 = h5py.File(pvc11_3_path, 'r')\n",
    "ret2 = h5py.File(ret2_path, 'r')\n",
    "ac1 = h5py.File(ac1_path, 'r')\n",
    "results = [pvc11_1, pvc11_2, pvc11_3, ret2, ac1]"
   ]
  },
  {
   "cell_type": "code",
   "execution_count": null,
   "id": "competent-savings",
   "metadata": {},
   "outputs": [],
   "source": [
    "p_r_vals = [\n",
    "    np.mean(\n",
    "        result['v_lfi'][:][..., np.newaxis] > result['v_r_lfi'][:],\n",
    "        axis=-1\n",
    "    )\n",
    "    for result in results\n",
    "]"
   ]
  },
  {
   "cell_type": "code",
   "execution_count": null,
   "id": "worthy-offset",
   "metadata": {},
   "outputs": [],
   "source": [
    "[result.close() for result in results]"
   ]
  },
  {
   "cell_type": "code",
   "execution_count": null,
   "id": "stupid-springer",
   "metadata": {},
   "outputs": [],
   "source": [
    "with h5py.File(optimality_path, 'r') as f:\n",
    "    pvc11_1_opt = f['pvc11_1'][:]\n",
    "    pvc11_2_opt = f['pvc11_2'][:]\n",
    "    pvc11_3_opt = f['pvc11_3'][:]\n",
    "    ret2_opt = f['ret2'][:]\n",
    "    ac1_opt = f['ac1'][:]"
   ]
  },
  {
   "cell_type": "code",
   "execution_count": null,
   "id": "opponent-capital",
   "metadata": {},
   "outputs": [],
   "source": [
    "optimals = [pvc11_1_opt, pvc11_2_opt, pvc11_3_opt, ret2_opt, ac1_opt]"
   ]
  },
  {
   "cell_type": "code",
   "execution_count": null,
   "id": "popular-standard",
   "metadata": {},
   "outputs": [],
   "source": [
    "fig, axes = plt.subplots(3, 5, figsize=(18, 10), sharex=True, sharey=True)\n",
    "\n",
    "for idx, ax in enumerate(axes[0]):\n",
    "    ax.hexbin(\n",
    "        x=optimals[idx][1],\n",
    "        y=p_r_vals[idx][2],\n",
    "        bins='log',\n",
    "        gridsize=60,\n",
    "        cmap='Greys'\n",
    "    )\n",
    "    \n",
    "for idx, ax in enumerate(axes[1]):\n",
    "    ax.hexbin(\n",
    "        x=optimals[idx][8],\n",
    "        y=p_r_vals[idx][9],\n",
    "        gridsize=30,\n",
    "        bins='log',\n",
    "        cmap='Greys'\n",
    "    )\n",
    "    \n",
    "for idx, ax in enumerate(axes[2]):\n",
    "    ax.scatter(\n",
    "        x=optimals[idx][18],\n",
    "        y=p_r_vals[idx][19],\n",
    "        color='gray'\n",
    "    )\n",
    "    \n",
    "for ax in axes.ravel():\n",
    "    ax.set_xlim([-1, 1])\n",
    "    ax.set_ylim([0, 1])\n",
    "    \n",
    "\n",
    "axes[0, 0].set_title(r'\\textbf{PVC11, 1}', fontsize=22)\n",
    "axes[0, 1].set_title(r'\\textbf{PVC11, 2}', fontsize=22)\n",
    "axes[0, 2].set_title(r'\\textbf{PVC11, 3}', fontsize=22)\n",
    "axes[0, 3].set_title(r'\\textbf{RET2}', fontsize=22)\n",
    "axes[0, 4].set_title(r'\\textbf{AC1}', fontsize=22)\n",
    "\n",
    "\n",
    "fig.text(\n",
    "    x=0.5, y=-0.3,\n",
    "    s=r'\\textbf{Mean-Variance Correlation for Optimal Orientation}',\n",
    "    va='center',\n",
    "    ha='center',\n",
    "    transform=axes[2, 2].transAxes,\n",
    "    fontsize=25)\n",
    "fig.text(\n",
    "    x=-0.5, y=0.5,\n",
    "    s=r'\\textbf{Percentile}',\n",
    "    va='center',\n",
    "    ha='center',\n",
    "    transform=axes[1, 0].transAxes,\n",
    "    rotation=90,\n",
    "    fontsize=25)\n",
    "\n",
    "axes[0, 0].set_ylabel(r'$D=3$', fontsize=25)\n",
    "axes[1, 0].set_ylabel(r'$D=10$', fontsize=25)\n",
    "axes[2, 0].set_ylabel(r'$D=20$', fontsize=25)\n",
    "plt.savefig('optimality_plots.png', bbox_inches='tight')\n",
    "plt.show()"
   ]
  },
  {
   "cell_type": "code",
   "execution_count": null,
   "id": "fitted-latvia",
   "metadata": {},
   "outputs": [],
   "source": []
  }
 ],
 "metadata": {
  "kernelspec": {
   "display_name": "neuro",
   "language": "python",
   "name": "neuro"
  },
  "language_info": {
   "codemirror_mode": {
    "name": "ipython",
    "version": 3
   },
   "file_extension": ".py",
   "mimetype": "text/x-python",
   "name": "python",
   "nbconvert_exporter": "python",
   "pygments_lexer": "ipython3",
   "version": "3.7.9"
  }
 },
 "nbformat": 4,
 "nbformat_minor": 5
}

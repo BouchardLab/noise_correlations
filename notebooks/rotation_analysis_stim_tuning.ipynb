{
 "cells": [
  {
   "cell_type": "code",
   "execution_count": null,
   "metadata": {},
   "outputs": [],
   "source": [
    "import matplotlib\n",
    "import matplotlib.pyplot as plt\n",
    "import numpy as np\n",
    "import os\n",
    "\n",
    "from neuropacks import PVC11\n",
    "from noise_correlations import (analysis,\n",
    "                                discriminability,\n",
    "                                null_models,\n",
    "                                utils,\n",
    "                                plot)\n",
    "from pratplot import colorbar as pcb\n",
    "\n",
    "%matplotlib inline"
   ]
  },
  {
   "cell_type": "code",
   "execution_count": null,
   "metadata": {},
   "outputs": [],
   "source": [
    "# Load PVC11 dataset\n",
    "base_path = '/Volumes/pss/data/pvc11/data/spikes_gratings'\n",
    "data_path = os.path.join(base_path, 'data_monkey1_gratings.mat')\n",
    "pack = PVC11(data_path)"
   ]
  },
  {
   "cell_type": "code",
   "execution_count": null,
   "metadata": {},
   "outputs": [],
   "source": [
    "# Get response matrix for PVC11 dataset, and stimuli\n",
    "X = pack.get_response_matrix(transform=None)\n",
    "stimuli = pack.get_design_matrix(form='angle')\n",
    "# Delete neurons that don't response at all to a stimulus\n",
    "X = np.delete(X, utils.get_nonresponsive_for_stim(X, stimuli), axis=1)\n",
    "# Get units that are overall \"responsive\"\n",
    "responsive_units = utils.get_responsive_units(\n",
    "    X, stimuli, aggregator=np.mean,\n",
    "    peak_response=10.)\n",
    "X = X[:, responsive_units]"
   ]
  },
  {
   "cell_type": "code",
   "execution_count": null,
   "metadata": {},
   "outputs": [],
   "source": [
    "# Random state\n",
    "rng = np.random.RandomState(2332)"
   ]
  },
  {
   "cell_type": "code",
   "execution_count": null,
   "metadata": {},
   "outputs": [],
   "source": [
    "dims = np.array([2, 5, 10, 15])"
   ]
  },
  {
   "cell_type": "code",
   "execution_count": null,
   "metadata": {},
   "outputs": [],
   "source": [
    "n_dims = dims.size\n",
    "n_dimlets = 20\n",
    "n_repeats = 1000\n",
    "v_s_lfis = np.zeros((n_dims, n_dimlets * pack.n_stimuli, n_repeats))\n",
    "v_s_sdkls = np.zeros_like(v_s_lfis)\n",
    "v_r_lfis = np.zeros_like(v_s_lfis)\n",
    "v_r_sdkls = np.zeros_like(v_s_lfis)\n",
    "v_lfis = np.zeros((n_dims, n_dimlets * pack.n_stimuli))\n",
    "v_sdkls = np.zeros_like(v_lfis)\n",
    "units = {idx: np.zeros((n_dimlets * pack.n_stimuli, dim)) for idx, dim in enumerate(dims)}\n",
    "stims = np.zeros((n_dims, n_dimlets * pack.n_stimuli, 2))"
   ]
  },
  {
   "cell_type": "code",
   "execution_count": null,
   "metadata": {},
   "outputs": [],
   "source": [
    "# Calculate null measures across dims\n",
    "for idx, dim in enumerate(dims):\n",
    "    print(idx)\n",
    "    v_s_lfis[idx], v_s_sdkls[idx], v_r_lfis[idx], v_r_sdkls[idx], \\\n",
    "    v_lfis[idx], v_sdkls[idx], units[idx], stims[idx] = \\\n",
    "        analysis.calculate_null_measures(\n",
    "            X, stimuli,\n",
    "            n_dim=dim,\n",
    "            n_dimlets=n_dimlets,\n",
    "            rng=rng,\n",
    "            n_repeats=n_repeats,\n",
    "            circular_stim=True)"
   ]
  },
  {
   "cell_type": "code",
   "execution_count": null,
   "metadata": {},
   "outputs": [],
   "source": []
  },
  {
   "cell_type": "code",
   "execution_count": null,
   "metadata": {},
   "outputs": [],
   "source": [
    "# Calculate percentiles\n",
    "p_r_lfi = 100 * np.mean(v_lfis[..., np.newaxis] > v_r_lfis, axis=2)\n",
    "p_r_sdkl = 100 * np.mean(v_sdkls[..., np.newaxis] > v_r_sdkls, axis=2)"
   ]
  },
  {
   "cell_type": "code",
   "execution_count": null,
   "metadata": {},
   "outputs": [],
   "source": [
    "tuning_curves = utils.get_tuning_curve(X, stimuli)\n",
    "preferred_stimuli = pack.get_angles()[np.argmax(tuning_curves, 1)]"
   ]
  },
  {
   "cell_type": "code",
   "execution_count": null,
   "metadata": {},
   "outputs": [],
   "source": [
    "pair = 10\n",
    "plt.hist(v_r_lfis[0, pair], bins=30, cumulative=True, histtype='step')\n",
    "plt.axvline(v_lfis[0, pair])"
   ]
  },
  {
   "cell_type": "code",
   "execution_count": null,
   "metadata": {},
   "outputs": [],
   "source": [
    "pair = 10\n",
    "plt.hist(v_r_lfis[2, pair], bins=30, cumulative=True, histtype='step')\n",
    "plt.axvline(v_lfis[2, pair])"
   ]
  },
  {
   "cell_type": "code",
   "execution_count": null,
   "metadata": {},
   "outputs": [],
   "source": [
    "stims = np.tile(pack.get_angles(), 20)"
   ]
  },
  {
   "cell_type": "code",
   "execution_count": null,
   "metadata": {},
   "outputs": [],
   "source": [
    "pstim_d2 = preferred_stimuli[units[0]]\n",
    "diffs = (np.abs(pstim_d2[:, 1] - pstim_d2[:, 0]) - 180) % 180"
   ]
  },
  {
   "cell_type": "code",
   "execution_count": null,
   "metadata": {},
   "outputs": [],
   "source": [
    "fig = plt.figure()\n",
    "ax = fig.add_subplot(111, projection='polar')\n",
    "ax.scatter(stims, diffs)"
   ]
  },
  {
   "cell_type": "code",
   "execution_count": null,
   "metadata": {},
   "outputs": [],
   "source": [
    "plt.scatter(diffs, p_r_lfi[0], alpha=0.2)"
   ]
  },
  {
   "cell_type": "code",
   "execution_count": null,
   "metadata": {},
   "outputs": [],
   "source": [
    "for split in np.array_split(p_r_lfi[0], 20):\n",
    "    plt.plot(pack.get_angles(), split, color='k', alpha=0.5)"
   ]
  },
  {
   "cell_type": "code",
   "execution_count": null,
   "metadata": {},
   "outputs": [],
   "source": [
    "pair = 13\n",
    "plt.axvline(pstim_d2[pair * 12, 0])\n",
    "plt.axvline(pstim_d2[pair * 12, 1])\n",
    "plt.plot(pack.get_angles(), np.array_split(p_r_lfi[0], 20)[pair], color='k', alpha=0.5)"
   ]
  },
  {
   "cell_type": "code",
   "execution_count": null,
   "metadata": {},
   "outputs": [],
   "source": [
    "pair = 6\n",
    "plt.plot(pack.get_angles(), np.array_split(p_r_lfi[2], 20)[pair], color='k', alpha=0.5)"
   ]
  },
  {
   "cell_type": "code",
   "execution_count": null,
   "metadata": {},
   "outputs": [],
   "source": [
    "pstim_d10 = preferred_stimuli[units[2]]"
   ]
  },
  {
   "cell_type": "code",
   "execution_count": null,
   "metadata": {},
   "outputs": [],
   "source": [
    "plt.scatter(\n",
    "    np.sum((np.abs(np.subtract.outer(pstim_d10, pstim_d10)[np.arange(240), :, np.arange(240), :]) - 180) % 180, axis=(1,2)) / (2 * 45),\n",
    "    p_r_lfi[-1],\n",
    "    alpha=0.25\n",
    ")"
   ]
  }
 ],
 "metadata": {
  "kernelspec": {
   "display_name": "neuro",
   "language": "python",
   "name": "neuro"
  },
  "language_info": {
   "codemirror_mode": {
    "name": "ipython",
    "version": 3
   },
   "file_extension": ".py",
   "mimetype": "text/x-python",
   "name": "python",
   "nbconvert_exporter": "python",
   "pygments_lexer": "ipython3",
   "version": "3.7.9"
  }
 },
 "nbformat": 4,
 "nbformat_minor": 4
}

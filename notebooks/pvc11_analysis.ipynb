{
 "cells": [
  {
   "cell_type": "code",
   "execution_count": null,
   "metadata": {},
   "outputs": [],
   "source": [
    "import matplotlib.pyplot as plt\n",
    "import numpy as np\n",
    "import os\n",
    "\n",
    "from importlib import reload\n",
    "from neuropacks import PVC11\n",
    "from noise_correlations import analysis, plot, utils\n",
    "\n",
    "%matplotlib inline"
   ]
  },
  {
   "cell_type": "code",
   "execution_count": null,
   "metadata": {},
   "outputs": [],
   "source": [
    "path1 = os.path.join(os.environ['HOME'], 'data/pvc11/data/spikes_gratings/data_monkey1_gratings.mat')\n",
    "path2 = os.path.join(os.environ['HOME'], 'data/pvc11/data/spikes_gratings/data_monkey2_gratings.mat')\n",
    "path3 = os.path.join(os.environ['HOME'], 'data/pvc11/data/spikes_gratings/data_monkey3_gratings.mat')\n",
    "paths = [path1, path2, path3]"
   ]
  },
  {
   "cell_type": "code",
   "execution_count": null,
   "metadata": {},
   "outputs": [],
   "source": [
    "pvc1 = PVC11(path1)\n",
    "pvc2 = PVC11(path2)\n",
    "pvc3 = PVC11(path3)\n",
    "pvcs = [pvc1, pvc2, pvc3]"
   ]
  },
  {
   "cell_type": "code",
   "execution_count": null,
   "metadata": {},
   "outputs": [],
   "source": [
    "Xs = [pvc.get_response_matrix(transform=None) for pvc in pvcs]\n",
    "stimuli = pvc1.get_design_matrix(form='angle')\n",
    "n_units = [X.shape[1] for X in Xs]\n",
    "n_samples = [X.shape[0] for X in Xs]\n",
    "n_datasets = len(Xs)"
   ]
  },
  {
   "cell_type": "code",
   "execution_count": null,
   "metadata": {},
   "outputs": [],
   "source": [
    "peak_responses = [utils.get_peak_response(X, stimuli)\n",
    "                  for X in Xs]\n",
    "modulation_fractions = [utils.get_tuning_modulation_fraction(X, stimuli)\n",
    "                        for X in Xs]\n",
    "selectivity_indices = [utils.get_selectivity_index(X, stimuli, circular=360)\n",
    "                       for X in Xs]"
   ]
  },
  {
   "cell_type": "markdown",
   "metadata": {
    "heading_collapsed": true
   },
   "source": [
    "# Characterizing response distributions"
   ]
  },
  {
   "cell_type": "code",
   "execution_count": null,
   "metadata": {
    "hidden": true
   },
   "outputs": [],
   "source": [
    "fig, axes = plt.subplots(1, 3, figsize=(12, 3))\n",
    "\n",
    "axes[0].hist(\n",
    "    peak_responses,\n",
    "    histtype='step',\n",
    "    bins=np.linspace(0, 40, 21),\n",
    "    linewidth=3)\n",
    "axes[1].hist(\n",
    "    modulation_fractions,\n",
    "    histtype='step',\n",
    "    bins=np.linspace(0, 1, 16),\n",
    "    linewidth=3)\n",
    "axes[2].hist(\n",
    "    selectivity_indices,\n",
    "    histtype='step',\n",
    "    bins=np.linspace(0, 1, 16),\n",
    "    linewidth=3)\n",
    "\n",
    "axes[0].set_xlim([0, 40])\n",
    "axes[1].set_xlim([0, 1])\n",
    "axes[2].set_xlim([0, 1])\n",
    "axes[0].set_xlabel(r'\\textbf{Peak Response}', fontsize=15)\n",
    "axes[1].set_xlabel(r'\\textbf{Modulation Fractions}', fontsize=15)\n",
    "axes[2].set_xlabel(r'\\textbf{Direction Selectivity}', fontsize=15)\n",
    "\n",
    "for ax in axes:\n",
    "    ax.set_ylabel(r'\\textbf{Frequency}', fontsize=15)\n",
    "    ax.tick_params(labelsize=15)\n",
    "    \n",
    "plt.tight_layout()"
   ]
  },
  {
   "cell_type": "markdown",
   "metadata": {
    "heading_collapsed": true
   },
   "source": [
    "# Tuning Curves"
   ]
  },
  {
   "cell_type": "code",
   "execution_count": null,
   "metadata": {
    "hidden": true
   },
   "outputs": [],
   "source": [
    "var_to_mean_threshold = 10\n",
    "responsive_threshold = 2. * 1.28\n",
    "modulation_frac = 0.60"
   ]
  },
  {
   "cell_type": "code",
   "execution_count": null,
   "metadata": {
    "hidden": true
   },
   "outputs": [],
   "source": [
    "tuned_units = [\n",
    "    utils.get_tuned_units(X=X, stimuli=stimuli, aggregator=np.mean,\n",
    "                          peak_response=responsive_threshold,\n",
    "                          tuning_criteria='modulation_frac',\n",
    "                          modulation_frac=modulation_frac,\n",
    "                          variance_to_mean=var_to_mean_threshold)\n",
    "    for X in Xs\n",
    "]\n",
    "\n",
    "responsive_units = [\n",
    "    utils.get_responsive_units(X=X, stimuli=stimuli, aggregator=np.mean,\n",
    "                               peak_response=responsive_threshold,\n",
    "                               variance_to_mean=var_to_mean_threshold)\n",
    "    for X in Xs\n",
    "]\n",
    "\n",
    "responsive_non_tuned_units = [responsive & ~tuned\n",
    "                              for responsive, tuned in zip(responsive_units, tuned_units)]\n",
    "non_responsive_units = [~responsive for responsive in responsive_units]"
   ]
  },
  {
   "cell_type": "code",
   "execution_count": null,
   "metadata": {
    "hidden": true,
    "scrolled": false
   },
   "outputs": [],
   "source": [
    "for monkey_idx, (X, units) in enumerate(zip(Xs, tuned_units)):\n",
    "    fig, axes = plot.plot_tuning_curves(\n",
    "        X[:, units], stimuli,\n",
    "        n_cols=10, include_points=True, use_title=False,\n",
    "        sort='modulation'\n",
    "    )\n",
    "\n",
    "    for idx, ax in enumerate(axes.ravel()):\n",
    "        if idx < units.sum():\n",
    "            ax.axhline(responsive_threshold, color='r', linestyle='--')\n",
    "\n",
    "    fig.text(x=0.5, y=1.02, s=r'\\textbf{PVC11, Monkey %s: Tuned Units}' % (monkey_idx + 1),\n",
    "             va='center', ha='center', fontsize=25)\n",
    "    plt.tight_layout()\n",
    "    plt.savefig('pvc11_monkey%s_tuned.png' %(monkey_idx+1), bbox_inches='tight')\n",
    "    plt.show()"
   ]
  },
  {
   "cell_type": "code",
   "execution_count": null,
   "metadata": {
    "hidden": true
   },
   "outputs": [],
   "source": [
    "for monkey_idx, (X, units) in enumerate(zip(Xs, responsive_non_tuned_units)):\n",
    "    fig, axes = plot.plot_tuning_curves(\n",
    "        X[:, units], stimuli, n_cols=10, include_points=True, use_title=False,\n",
    "        sort='peak'\n",
    "    )\n",
    "    for idx, ax in enumerate(axes.ravel()):\n",
    "        if idx < units.sum():\n",
    "            ax.axhline(responsive_threshold, color='r', linestyle='--')\n",
    "\n",
    "    fig.text(x=0.5, y=1.02, s=r'\\textbf{PVC11, Monkey %s: Responsive, Non-tuned Units}' % (monkey_idx + 1),\n",
    "             va='center', ha='center', fontsize=25)\n",
    "\n",
    "    plt.tight_layout()\n",
    "    plt.savefig('pvc11_monkey%s_responsive_non_tuned.png' %(monkey_idx+1), bbox_inches='tight')\n",
    "    plt.show()"
   ]
  },
  {
   "cell_type": "code",
   "execution_count": null,
   "metadata": {
    "hidden": true
   },
   "outputs": [],
   "source": [
    "for monkey_idx, (X, units) in enumerate(zip(Xs, non_responsive_units)):\n",
    "    fig, axes = plot.plot_tuning_curves(\n",
    "        X[:, units], stimuli,\n",
    "        n_cols=10, include_points=True, use_title=False\n",
    "    )\n",
    "    for idx, ax in enumerate(axes.ravel()):\n",
    "        if idx < units.sum():\n",
    "            ax.axhline(responsive_threshold, color='r')\n",
    "\n",
    "    fig.text(x=0.5, y=1.02, s=r'\\textbf{PVC11, Monkey %s: Non-responsive Units}' % (monkey_idx + 1),\n",
    "             va='center', ha='center', fontsize=25)\n",
    "    plt.tight_layout()\n",
    "    plt.savefig('pvc11_monkey%s_non_responsive.png' %(monkey_idx+1), bbox_inches='tight')\n",
    "    plt.show()"
   ]
  },
  {
   "cell_type": "markdown",
   "metadata": {
    "heading_collapsed": true
   },
   "source": [
    "# Noise correlations"
   ]
  },
  {
   "cell_type": "code",
   "execution_count": null,
   "metadata": {
    "hidden": true
   },
   "outputs": [],
   "source": [
    "all_corrs = [analysis.all_correlations(Xs[idx], stimuli)\n",
    "             for idx in range(n_datasets)]\n",
    "tuned_corrs = [analysis.all_correlations(Xs[idx], stimuli, u1=tuned_units[idx])\n",
    "               for idx in range(n_datasets)]\n",
    "responsive_corrs = [analysis.all_correlations(Xs[idx], stimuli, u1=responsive_units[idx])\n",
    "                    for idx in range(n_datasets)]\n",
    "responsive_non_tuned_corrs = [analysis.all_correlations(Xs[idx], stimuli, u1=responsive_non_tuned_units[idx])\n",
    "                              for idx in range(n_datasets)]\n",
    "non_responsive_corrs = [analysis.all_correlations(Xs[idx], stimuli, u1=non_responsive_units[idx])\n",
    "                        for idx in range(n_datasets)]"
   ]
  },
  {
   "cell_type": "code",
   "execution_count": null,
   "metadata": {
    "hidden": true
   },
   "outputs": [],
   "source": [
    "for monkey_idx, (allcorr, tuned, responsive, responsive_non_tuned, non_responsive) in enumerate(\n",
    "    zip(all_corrs, tuned_corrs, responsive_corrs, responsive_non_tuned_corrs, non_responsive_corrs)\n",
    "):\n",
    "    fig, ax = plt.subplots(1, 1, figsize=(8, 4))\n",
    "    bins = np.linspace(-1, 1, 100)\n",
    "    ax.hist(allcorr, bins=bins,\n",
    "            density=True,\n",
    "            histtype='step',\n",
    "            linewidth=2,\n",
    "            label='All')\n",
    "    ax.hist(tuned, bins=bins,\n",
    "            density=True,\n",
    "            histtype='step',\n",
    "            linewidth=2,\n",
    "            label='Tuned')\n",
    "    ax.hist(responsive, bins=bins,\n",
    "            density=True,\n",
    "            histtype='step',\n",
    "            linewidth=2,\n",
    "            label='Responsive')\n",
    "    ax.hist(responsive_non_tuned, bins=np.linspace(-1, 1, 30),\n",
    "            density=True,\n",
    "            histtype='step',\n",
    "            linewidth=2,\n",
    "            label='Responsive,\\nNon-tuned')\n",
    "    ax.hist(non_responsive, bins=bins,\n",
    "            density=True,\n",
    "            histtype='step',\n",
    "            linewidth=2,\n",
    "            label='Non-responsive')\n",
    "\n",
    "    ax.set_xlim([-1, 1])\n",
    "    ax.set_xticks([-1, -0.5, 0, 0.5, 1])\n",
    "    ax.tick_params(labelsize=18)\n",
    "    ax.set_xlabel(r'\\textbf{Noise Correlation}', fontsize=18)\n",
    "    ax.set_ylabel(r'\\textbf{Density}', fontsize=18)\n",
    "    ax.set_title(r'\\textbf{PVC11, Monkey %s: Within-group correlations}' % (monkey_idx + 1), fontsize=18)\n",
    "    plt.legend(loc=2, prop={'size': 16})\n",
    "    plt.savefig('pvc11_monkey%s_within_corr.pdf' %(monkey_idx+1), bbox_inches='tight')\n",
    "\n",
    "    plt.show()"
   ]
  },
  {
   "cell_type": "code",
   "execution_count": null,
   "metadata": {
    "hidden": true
   },
   "outputs": [],
   "source": [
    "tuned_by_non_tuned_corrs = [\n",
    "    analysis.all_correlations(Xs[idx], stimuli, u1=tuned_units[idx], u2=~tuned_units[idx])\n",
    "    for idx in range(n_datasets)\n",
    "]\n",
    "tuned_by_responsive_non_tuned_corrs = [\n",
    "    analysis.all_correlations(Xs[idx], stimuli, u1=tuned_units[idx], u2=responsive_non_tuned_units[idx])\n",
    "    for idx in range(n_datasets)\n",
    "]    \n",
    "responsive_by_non_responsive_corrs = [\n",
    "    analysis.all_correlations(Xs[idx], stimuli, u1=responsive_units[idx], u2=~responsive_units[idx])\n",
    "    for idx in range(n_datasets)\n",
    "]\n",
    "tuned_by_non_responsive_corrs = [\n",
    "    analysis.all_correlations(Xs[idx], stimuli, u1=tuned_units[idx], u2=~responsive_units[idx])\n",
    "    for idx in range(n_datasets)\n",
    "]"
   ]
  },
  {
   "cell_type": "code",
   "execution_count": null,
   "metadata": {
    "hidden": true
   },
   "outputs": [],
   "source": [
    "for monkey_idx, (allcorr, tuned_by_non_tuned, responsive_by_non_responsive,\n",
    "                 tuned_by_non_responsive, tuned_by_responsive_non_tuned) in enumerate(\n",
    "    zip(all_corrs, tuned_by_non_tuned_corrs, tuned_by_responsive_non_tuned_corrs,\n",
    "        responsive_by_non_responsive_corrs, tuned_by_non_responsive_corrs)\n",
    "):\n",
    "    fig, ax = plt.subplots(1, 1, figsize=(8, 4))\n",
    "    bins = np.linspace(-1, 1, 100)\n",
    "    ax.hist(allcorr, bins=bins,\n",
    "            density=True,\n",
    "            histtype='step',\n",
    "            linewidth=2,\n",
    "            label='All')\n",
    "    ax.hist(tuned_by_non_tuned, bins=bins,\n",
    "            density=True,\n",
    "            histtype='step',\n",
    "            linewidth=2,\n",
    "            label='Tuned,\\nNon-tuned')\n",
    "    ax.hist(responsive_by_non_responsive, bins=bins,\n",
    "            density=True,\n",
    "            histtype='step',\n",
    "            linewidth=2,\n",
    "            label='Responsive,\\nNon-responsive')\n",
    "    ax.hist(tuned_by_non_responsive, bins=bins,\n",
    "            density=True,\n",
    "            histtype='step',\n",
    "            linewidth=2,\n",
    "            label='Tuned,\\nNon-responsive')\n",
    "    ax.hist(tuned_by_responsive_non_tuned, bins=bins,\n",
    "            density=True,\n",
    "            histtype='step',\n",
    "            linewidth=2,\n",
    "            label='Tuned,\\nResponsive\\nnon-tuned')\n",
    "\n",
    "    ax.set_xlim([-1, 1])\n",
    "    ax.set_xticks([-1, -0.5, 0, 0.5, 1])\n",
    "    ax.tick_params(labelsize=18)\n",
    "    ax.set_xlabel(r'\\textbf{Noise Correlation}', fontsize=18)\n",
    "    ax.set_ylabel(r'\\textbf{Density}', fontsize=18)\n",
    "    ax.set_title(r'\\textbf{PVC11, Monkey %s: Between-group correlations}' % (monkey_idx + 1), fontsize=18)\n",
    "    plt.legend(loc=2, prop={'size': 15})\n",
    "    plt.savefig('pvc11_monkey%s_between_group_noise_correlations.pdf' %(monkey_idx+1), bbox_inches='tight')\n",
    "    plt.show()"
   ]
  },
  {
   "cell_type": "code",
   "execution_count": null,
   "metadata": {
    "hidden": true
   },
   "outputs": [],
   "source": []
  }
 ],
 "metadata": {
  "kernelspec": {
   "display_name": "neuro",
   "language": "python",
   "name": "neuro"
  },
  "language_info": {
   "codemirror_mode": {
    "name": "ipython",
    "version": 3
   },
   "file_extension": ".py",
   "mimetype": "text/x-python",
   "name": "python",
   "nbconvert_exporter": "python",
   "pygments_lexer": "ipython3",
   "version": "3.7.4"
  },
  "varInspector": {
   "cols": {
    "lenName": 16,
    "lenType": 16,
    "lenVar": 40
   },
   "kernels_config": {
    "python": {
     "delete_cmd_postfix": "",
     "delete_cmd_prefix": "del ",
     "library": "var_list.py",
     "varRefreshCmd": "print(var_dic_list())"
    },
    "r": {
     "delete_cmd_postfix": ") ",
     "delete_cmd_prefix": "rm(",
     "library": "var_list.r",
     "varRefreshCmd": "cat(var_dic_list()) "
    }
   },
   "types_to_exclude": [
    "module",
    "function",
    "builtin_function_or_method",
    "instance",
    "_Feature"
   ],
   "window_display": false
  }
 },
 "nbformat": 4,
 "nbformat_minor": 2
}

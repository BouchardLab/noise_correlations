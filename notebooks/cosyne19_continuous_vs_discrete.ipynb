{
 "cells": [
  {
   "cell_type": "code",
   "execution_count": 1,
   "metadata": {},
   "outputs": [],
   "source": [
    "import numpy as np\n",
    "import matplotlib.pyplot as plt\n",
    "from noise_correlations import discriminability, null_models, plot"
   ]
  },
  {
   "cell_type": "code",
   "execution_count": 2,
   "metadata": {},
   "outputs": [],
   "source": [
    "angle = np.pi/4\n",
    "r = np.array([[np.cos(angle), np.sin(angle)], [-np.sin(angle), np.cos(angle)]])\n",
    "cov0 = r.dot(np.array([[5., 0.], [0., 25.]])).dot(r.T)\n",
    "cov1 = cov0\n",
    "deltas = np.array([np.sqrt(5)/2.])\n",
    "\n",
    "label = 0"
   ]
  },
  {
   "cell_type": "code",
   "execution_count": 34,
   "metadata": {},
   "outputs": [],
   "source": [
    "angle = np.pi/4\n",
    "r = np.array([[np.cos(angle), np.sin(angle)], [-np.sin(angle), np.cos(angle)]])\n",
    "cov0 = r.dot(np.array([[5., 0.], [0., 25.]])).dot(r.T)\n",
    "cov1 = r.dot(np.array([[10., 0.], [0., 20.]])).dot(r.T)\n",
    "deltas = np.array([2. * np.sqrt(5)])\n",
    "\n",
    "label = 1"
   ]
  },
  {
   "cell_type": "code",
   "execution_count": 35,
   "metadata": {},
   "outputs": [],
   "source": [
    "n_dtheta = 15\n",
    "thetas = np.linspace(-np.pi/2, np.pi/2, n_dtheta)\n",
    "measures = [discriminability.linear_discriminability, discriminability.mv_normal_jeffreys,\n",
    "            discriminability.lda_samples, discriminability.qda_samples]\n",
    "\n",
    "results = np.zeros((n_dtheta, n_dtheta, deltas.size, len(measures)))\n",
    "\n",
    "for ii, theta0 in enumerate(thetas):\n",
    "    r0 = np.array([[np.cos(theta0), np.sin(theta0)], [-np.sin(theta0), np.cos(theta0)]])\n",
    "    cov0p = r0.dot(cov0).dot(r0.T)\n",
    "    for jj, theta1 in enumerate(thetas):\n",
    "        r1 = np.array([[np.cos(theta1), np.sin(theta1)], [-np.sin(theta1), np.cos(theta1)]])\n",
    "        cov1p = r1.dot(cov1).dot(r1.T)\n",
    "        for kk, delta in enumerate(deltas):\n",
    "            mu0 = delta * np.array([-1., 1.]) / np.sqrt(2)\n",
    "            mu1 = -mu0\n",
    "            mu0 += 10\n",
    "            mu1 += 10\n",
    "            for nn, m in enumerate(measures):\n",
    "                if nn > 1:\n",
    "                    results[ii, jj, kk, nn] = m(mu0, cov0p, mu1, cov1p, size=10000)\n",
    "                else:\n",
    "                    results[ii, jj, kk, nn] = m(mu0, cov0p, mu1, cov1p)\n",
    "#results -= results.min(axis=(0, 1, 2), keepdims=True)\n",
    "#results /= results.max(axis=(0, 1, 2), keepdims=True)"
   ]
  },
  {
   "cell_type": "code",
   "execution_count": 36,
   "metadata": {},
   "outputs": [
    {
     "name": "stdout",
     "output_type": "stream",
     "text": [
      "0.0 0.0\n"
     ]
    },
    {
     "data": {
      "image/png": "[encoded data removed]",
      "text/plain": [
       "<Figure size 648x226.8 with 6 Axes>"
      ]
     },
     "metadata": {
      "needs_background": "light"
     },
     "output_type": "display_data"
    }
   ],
   "source": [
    "figsize=(9, 3.15)\n",
    "f = plt.figure(figsize=figsize)\n",
    "\n",
    "le = .04\n",
    "re = .005\n",
    "te = .07\n",
    "\n",
    "hg = .045\n",
    "hg2 = .25 * hg\n",
    "vg = .12\n",
    "\n",
    "\n",
    "width = 1. - le - re - 2 * hg - hg2\n",
    "width2 = width / 3.\n",
    "width1 = width2 / 2.\n",
    "\n",
    "full_h = width2 * figsize[0] / figsize[1]\n",
    "half_h = .5 * (full_h - vg)\n",
    "be = 1 - te - full_h\n",
    "\n",
    "ax0 = f.add_axes([le, be, width2, full_h])\n",
    "\n",
    "ax5 = f.add_axes([1. - re - width2, be, width2, full_h])\n",
    "\n",
    "x0 = le + width2 + hg\n",
    "x1 = le + width2 + hg + width1 + hg2\n",
    "y0 = be + half_h + vg\n",
    "ax1 = f.add_axes([x0, y0, width1, half_h])\n",
    "ax2 = f.add_axes([x1, y0, width1, half_h])\n",
    "ax3 = f.add_axes([x0, be, width1, half_h])\n",
    "ax4 = f.add_axes([x1, be, width1, half_h])\n",
    "\n",
    "delta_idx = -1\n",
    "delta = deltas[delta_idx]\n",
    "mu0 = delta * np.array([-1., 1.]) / np.sqrt(2)\n",
    "mu1 = -mu0\n",
    "mu0 += 10\n",
    "mu1 += 10\n",
    "plot.plot_ellipses(mu0, cov0, mu1, cov1, faxes=(f, ax0))\n",
    "ax0.set_ylim(5, 15)\n",
    "ax0.set_xlim(5, 15)\n",
    "ax0.plot([-2 * delta + 10, 2 * delta + 10], [2 * delta + 10, -2 * delta + 10], c='k')\n",
    "ax0.plot([mu0[0], mu0[0]+3], [mu0[1], mu0[1]+3], c='k', ls='--')\n",
    "ax0.plot([mu1[0], mu1[0]+3], [mu1[1], mu1[1]+3], c='k', ls='--')\n",
    "\n",
    "mu0 = delta * np.array([-1., 1.]) / np.sqrt(2)\n",
    "mu1 = -mu0\n",
    "mu0 += 10\n",
    "mu1 += 10\n",
    "data = np.squeeze(results)[:, :, 1]\n",
    "t1, t0 = np.unravel_index(data.argmax(), data.shape)\n",
    "t0 = thetas[t0]\n",
    "t1 = thetas[t1]\n",
    "print(t0, t1)\n",
    "r0 = np.array([[np.cos(t0), np.sin(t0)], [-np.sin(t0), np.cos(t0)]])\n",
    "r1 = np.array([[np.cos(t1), np.sin(t1)], [-np.sin(t1), np.cos(t1)]])\n",
    "plot.plot_ellipses(mu0, r0.dot(cov0.dot(r0.T)), mu1, r1.dot(cov1.dot(r1.T)), faxes=(f, ax5))\n",
    "ax5.set_ylim(5, 15)\n",
    "ax5.set_xlim(5, 15)\n",
    "ax5.set_xlabel(r'$n_1$', labelpad=-5)\n",
    "ax5.set_ylabel(r'$n_2$', labelpad=-5)\n",
    "\n",
    "arrow_props = dict(facecolor='black', shrink=0.05, width=2, headwidth=7)\n",
    "ax0.annotate(r'$R(\\theta_1)$', xy=mu0, xytext=mu0-3, fontsize=12,\n",
    "            arrowprops=arrow_props)\n",
    "ax0.annotate(r'$R(\\theta_2)$', xy=mu1, xytext=mu1-3, fontsize=12,\n",
    "            arrowprops=arrow_props)\n",
    "ax0.annotate(r'$R(\\theta)$', xy=mu0+np.array([-1, 1]), xytext=mu0+np.array([-4, -1]), fontsize=12,\n",
    "            arrowprops=arrow_props)\n",
    "ax0.text(10, 13.5, r'$\\alpha_1=0$')\n",
    "ax0.text(13, 10.75, r'$\\alpha_2=0$')\n",
    "\n",
    "\n",
    "ax1.imshow(results[:, :, 0, 0][::-1], extent=[-np.pi/2, np.pi/2, -np.pi/2, np.pi/2])\n",
    "ax1.scatter(0, 0, c='k', marker='x')\n",
    "ax2.imshow(results[:, :, 0, 1][::-1], extent=[-np.pi/2, np.pi/2, -np.pi/2, np.pi/2])\n",
    "ax2.scatter(t0, t1, c='k', marker='x')\n",
    "ax3.imshow(results[:, :, 0, 2][::-1], extent=[-np.pi/2, np.pi/2, -np.pi/2, np.pi/2])\n",
    "ax4.imshow(results[:, :, 0, 3][::-1], extent=[-np.pi/2, np.pi/2, -np.pi/2, np.pi/2])\n",
    "\n",
    "ax1.set_title('LFI', fontsize=10)\n",
    "ax2.set_title(r'$\\mathregular{sD}_\\mathregular{KL}$', fontsize=10)\n",
    "ax3.set_title('LDA Accuracy', fontsize=10)\n",
    "ax4.set_title('QDA Accuracy', fontsize=10)\n",
    "\n",
    "for ax in [ax1, ax2, ax3, ax4]:\n",
    "    ax.set_xticks([])\n",
    "    ax.set_yticks([])\n",
    "    ax.set_xlim([-np.pi/2, np.pi/2])\n",
    "    ax.set_ylim([-np.pi/2, np.pi/2])\n",
    "for ax in [ax3, ax4]:\n",
    "    ax.set_xlabel(r'$\\alpha_1$', labelpad=-1)\n",
    "    ax.set_xticks([-np.pi/2, 0, np.pi/2])\n",
    "    ax.set_xticklabels([r'-$\\pi$/2', '0', r'$\\pi$/2'])\n",
    "for ax in [ax1, ax3]:\n",
    "    ax.set_ylabel(r'$\\alpha_2$', labelpad=-10)\n",
    "    ax.set_yticks([-np.pi/2, 0, np.pi/2])\n",
    "    ax.set_yticklabels([r'-$\\pi$/2', '0', r'$\\pi$/2'])\n",
    "for ax in [ax0, ax5]:\n",
    "    ax.set_xticks([6, 14])\n",
    "    ax.set_yticks([6, 14])\n",
    "    ax.set_xlabel(r'$n_1$', labelpad=-5)\n",
    "    ax.set_ylabel(r'$n_2$', labelpad=-5)\n",
    "\n",
    "ax0.set_title('LFI optimal')\n",
    "ax5.set_title(r'$\\mathregular{sD}_\\mathregular{KL}$ optimal')\n",
    "\n",
    "plt.savefig('optimal_orientations_{}.pdf'.format(label), dpi=300)"
   ]
  },
  {
   "cell_type": "code",
   "execution_count": null,
   "metadata": {},
   "outputs": [],
   "source": []
  }
 ],
 "metadata": {
  "kernelspec": {
   "display_name": "Python 3",
   "language": "python",
   "name": "python3"
  },
  "language_info": {
   "codemirror_mode": {
    "name": "ipython",
    "version": 3
   },
   "file_extension": ".py",
   "mimetype": "text/x-python",
   "name": "python",
   "nbconvert_exporter": "python",
   "pygments_lexer": "ipython3",
   "version": "3.6.8"
  }
 },
 "nbformat": 4,
 "nbformat_minor": 2
}

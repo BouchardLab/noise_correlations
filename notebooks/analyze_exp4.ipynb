{
 "cells": [
  {
   "cell_type": "code",
   "execution_count": null,
   "metadata": {},
   "outputs": [],
   "source": [
    "import h5py\n",
    "import matplotlib as mpl\n",
    "import matplotlib.pyplot as plt\n",
    "import numpy as np\n",
    "import os\n",
    "import seaborn as sns\n",
    "\n",
    "%matplotlib inline"
   ]
  },
  {
   "cell_type": "code",
   "execution_count": null,
   "metadata": {},
   "outputs": [],
   "source": [
    "base_path = '/Volumes/pss/fits/neurocorr'"
   ]
  },
  {
   "cell_type": "code",
   "execution_count": null,
   "metadata": {},
   "outputs": [],
   "source": [
    "pvc11_1_path = os.path.join(base_path, 'exp4_1_resp_values_pvc11_75_1000_1000.h5')\n",
    "pvc11_2_path = os.path.join(base_path, 'exp4_2_resp_values_pvc11_50_1000_1000.h5')\n",
    "pvc11_3_path = os.path.join(base_path, 'exp4_3_resp_values_pvc11_75_1000_1000.h5')\n",
    "ac1_path = os.path.join(base_path, 'exp4_resp_values_ac1_50_1000_1000.h5')\n",
    "ret2_path = os.path.join(base_path, 'exp4_tuned_values_ret2_50_1000_1000.h5')"
   ]
  },
  {
   "cell_type": "code",
   "execution_count": null,
   "metadata": {},
   "outputs": [],
   "source": [
    "labels = [r'\\textbf{V1, 1}', r'\\textbf{V1, 2}', r'\\textbf{V1, 3}', r'\\textbf{AC}', r'\\textbf{Retina}']"
   ]
  },
  {
   "cell_type": "code",
   "execution_count": null,
   "metadata": {},
   "outputs": [],
   "source": [
    "pvc11_1 = h5py.File(pvc11_1_path, 'r')\n",
    "pvc11_2 = h5py.File(pvc11_2_path, 'r')\n",
    "pvc11_3 = h5py.File(pvc11_3_path, 'r')\n",
    "ac1 = h5py.File(ac1_path, 'r')\n",
    "ret2 = h5py.File(ret2_path, 'r')\n",
    "# Store results and LFIs in lists\n",
    "results = [pvc11_1, pvc11_2, pvc11_3, ac1, ret2]\n",
    "v_lfis = [result['v_lfi'][:] for result in results]"
   ]
  },
  {
   "cell_type": "markdown",
   "metadata": {},
   "source": [
    "# Observed LFI Values"
   ]
  },
  {
   "cell_type": "code",
   "execution_count": null,
   "metadata": {},
   "outputs": [],
   "source": [
    "fig, ax = plt.subplots(1, 1, figsize=(6, 5))\n",
    "\n",
    "for idx, (result, v_lfi) in enumerate(zip(results, v_lfis)):\n",
    "    n_max_units = result['units'].shape[2]\n",
    "    dims = 2 + np.arange(n_max_units - 1)\n",
    "    lfi_mean = np.mean(v_lfi, axis=1)\n",
    "    lfi_std = np.std(v_lfi, axis=1)\n",
    "\n",
    "    ax.fill_between(\n",
    "        x=dims,\n",
    "        y1=np.percentile(v_lfi, q=25, axis=1),\n",
    "        y2=np.percentile(v_lfi, q=75, axis=1),\n",
    "        color=f'C{idx}',\n",
    "        alpha=0.1\n",
    "    )\n",
    "    ax.plot(\n",
    "        dims, np.mean(result['v_lfi'], axis=1),\n",
    "        linewidth=4,\n",
    "        color=f'C{idx}',\n",
    "        label=labels[idx]\n",
    "    )\n",
    "\n",
    "    \n",
    "ax.legend(\n",
    "    loc='center left',\n",
    "    bbox_to_anchor=(1.0, 0.5),\n",
    "    prop={'size': 15}\n",
    ")\n",
    "ax.set_xlim([2, 75])\n",
    "ax.set_ylim([0, 0.1])\n",
    "ax.tick_params(labelsize=15)\n",
    "ax.set_xlabel(r'\\textbf{Dimlet Dimension}', fontsize=15)\n",
    "ax.set_ylabel(r'\\textbf{LFI}', fontsize=15)\n",
    "plt.savefig('exp4_lfi_vals.pdf', bbox_inches='tight')"
   ]
  },
  {
   "cell_type": "markdown",
   "metadata": {},
   "source": [
    "# Examine percentiles"
   ]
  },
  {
   "cell_type": "code",
   "execution_count": null,
   "metadata": {},
   "outputs": [],
   "source": [
    "p_s_vals = [\n",
    "    np.mean(v_lfi[..., np.newaxis] < result['v_s_lfi'][:], axis=-1)\n",
    "    for v_lfi, result in zip(v_lfis, results)\n",
    "]"
   ]
  },
  {
   "cell_type": "code",
   "execution_count": null,
   "metadata": {},
   "outputs": [],
   "source": [
    "p_r_vals = [\n",
    "    np.mean(v_lfi[..., np.newaxis] < result['v_r_lfi'][:], axis=-1)\n",
    "    for v_lfi, result in zip(v_lfis, results)\n",
    "]"
   ]
  },
  {
   "cell_type": "code",
   "execution_count": null,
   "metadata": {},
   "outputs": [],
   "source": [
    "fig, axes = plt.subplots(1, 2, figsize=(12, 4))\n",
    "\n",
    "for idx, (result, p_s_val, p_r_val) in enumerate(zip(results, p_s_vals, p_r_vals)):\n",
    "    n_max_units = result['units'].shape[2]\n",
    "    dims = 2 + np.arange(n_max_units - 1)\n",
    "\n",
    "    axes[0].plot(\n",
    "        dims, np.median(p_s_val, axis=1),\n",
    "        linewidth=3,\n",
    "        color=f'C{idx}',\n",
    "    )\n",
    "    axes[0].fill_between(\n",
    "        x=dims,\n",
    "        y1=np.percentile(p_s_val, q=40, axis=1),\n",
    "        y2=np.percentile(p_s_val, q=60, axis=1),\n",
    "        color=f'C{idx}',\n",
    "        alpha=0.1\n",
    "    )\n",
    "    axes[1].plot(\n",
    "        dims, np.median(p_r_val, axis=1),\n",
    "        linewidth=3,\n",
    "        color=f'C{idx}',\n",
    "        label=labels[idx]\n",
    "    )\n",
    "    axes[1].fill_between(\n",
    "        x=dims,\n",
    "        y1=np.percentile(p_r_val, q=40, axis=1),\n",
    "        y2=np.percentile(p_r_val, q=60, axis=1),\n",
    "        color=f'C{idx}',\n",
    "        alpha=0.1\n",
    "    )\n",
    "    \n",
    "axes[1].legend(\n",
    "    loc='center left',\n",
    "    bbox_to_anchor=(1.0, 0.5),\n",
    "    prop={'size': 15}\n",
    ")\n",
    "\n",
    "for ax in axes:\n",
    "    ax.set_xlim([2, 75])\n",
    "    ax.set_xlabel(r'\\textbf{Dimlet Dimension}', fontsize=15)\n",
    "    ax.set_ylim([0, 1.05])\n",
    "    ax.set_yticks([0, 0.25, 0.50, 0.75, 1.0])\n",
    "    ax.tick_params(labelsize=15)\n",
    "\n",
    "axes[0].set_ylabel(r'\\textbf{Shuffle Percentile}', fontsize=15)\n",
    "axes[1].set_ylabel(r'\\textbf{Rotation Percentile}', fontsize=15)\n",
    "plt.savefig('exp4_percentile_vs_dim.pdf', bbox_inches='tight')"
   ]
  },
  {
   "cell_type": "markdown",
   "metadata": {},
   "source": [
    "# Comparison of Values"
   ]
  },
  {
   "cell_type": "code",
   "execution_count": null,
   "metadata": {},
   "outputs": [],
   "source": [
    "fig, axes = plt.subplots(1, 2, figsize=(16, 8))\n",
    "\n",
    "for result_idx, (result, v_lfi) in enumerate(zip(results, v_lfis)):\n",
    "    fig, axes = plt.subplots(1, 2, figsize=(16, 8))\n",
    "    \n",
    "    v_s_lfi = np.median(result['v_s_lfi'], axis=-1)\n",
    "    v_r_lfi = np.median(result['v_r_lfi'], axis=-1)\n",
    "    plot_dims = np.arange(0, result['units'].shape[2], 10)\n",
    "\n",
    "    for idx, dim_idx in enumerate(plot_dims):\n",
    "        color = plt.get_cmap('plasma')(int(idx / (plot_dims.size - 1) * 255))\n",
    "\n",
    "        sns.kdeplot(\n",
    "            x=v_lfi[idx],\n",
    "            y=v_s_lfi[idx],\n",
    "            fill=True,\n",
    "            levels=5,\n",
    "            log_scale=True,\n",
    "            alpha=0.5,\n",
    "            color=color,\n",
    "            ax=axes[0]\n",
    "        )\n",
    "        sns.kdeplot(\n",
    "            x=v_lfi[idx],\n",
    "            y=v_r_lfi[idx],\n",
    "            fill=True,\n",
    "            levels=5,\n",
    "            log_scale=True,\n",
    "            alpha=0.5,\n",
    "            color=color,\n",
    "            ax=axes[1]\n",
    "        )\n",
    "\n",
    "    # Colorbars\n",
    "    [[x0, y0], [x1, y1]] = axes[1].get_position().get_points()\n",
    "    cax1 = fig.add_axes([x1 + 0.05 * (x1 - x0), y0, 0.05 * (x1 - x0), (y1 - y0)])\n",
    "    cb1 = fig.colorbar(\n",
    "        mpl.cm.ScalarMappable(\n",
    "            norm=mpl.colors.Normalize(vmin=2, vmax=plot_dims.max()),\n",
    "            cmap=\"plasma\"\n",
    "        ),\n",
    "        cax=cax1)\n",
    "    cb1.ax.tick_params(labelsize=18)\n",
    "\n",
    "    # Labels\n",
    "    axes[0].set_ylabel(r'\\textbf{Median LFI under Shuffle Null Model}', fontsize=18)\n",
    "    axes[1].set_ylabel(r'\\textbf{Median LFI under Rotation Null Model}', fontsize=18)\n",
    "    cb1.ax.set_ylabel(r'\\textbf{Dimension for Rotation Null Model}', labelpad=23, fontsize=18, rotation=270)\n",
    "\n",
    "    for ax in axes:\n",
    "        ax.tick_params(labelsize=15)\n",
    "        ax.set_xlabel(r'\\textbf{Observed LFI}', fontsize=18)\n",
    "        ax.set_xlim([1e-6, 1e0])\n",
    "        ax.set_ylim([1e-6, 1e0])\n",
    "        ax.set_xscale('log')\n",
    "        ax.set_yscale('log')\n",
    "        ax.plot(ax.get_xlim(), ax.get_ylim(), color='k')"
   ]
  }
 ],
 "metadata": {
  "kernelspec": {
   "display_name": "neuro",
   "language": "python",
   "name": "neuro"
  },
  "language_info": {
   "codemirror_mode": {
    "name": "ipython",
    "version": 3
   },
   "file_extension": ".py",
   "mimetype": "text/x-python",
   "name": "python",
   "nbconvert_exporter": "python",
   "pygments_lexer": "ipython3",
   "version": "3.7.9"
  }
 },
 "nbformat": 4,
 "nbformat_minor": 4
}

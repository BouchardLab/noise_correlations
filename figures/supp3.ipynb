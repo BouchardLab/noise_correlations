{
 "cells": [
  {
   "cell_type": "code",
   "execution_count": 19,
   "id": "c3fc3908",
   "metadata": {},
   "outputs": [],
   "source": [
    "import h5py\n",
    "import matplotlib.pyplot as plt\n",
    "import mpl_lego as mplego\n",
    "import neuropacks as packs\n",
    "import numpy as np\n",
    "import os\n",
    "from scipy.stats import norm\n",
    "\n",
    "from matplotlib.cm import ScalarMappable\n",
    "from matplotlib.colors import Normalize\n",
    "from mpl_lego.ellipse import plot_cov_ellipse\n",
    "from noise_correlations import analysis, utils\n",
    "from matplotlib import colors\n",
    "from settings import colors as nc_colors\n",
    "from settings import ax_label_size, tick_label_size, letter_size, lw, legend_size"
   ]
  },
  {
   "cell_type": "code",
   "execution_count": 10,
   "id": "57093648",
   "metadata": {},
   "outputs": [],
   "source": [
    "ccycle = mplego.colors.get_default_ccycle()"
   ]
  },
  {
   "cell_type": "code",
   "execution_count": 11,
   "id": "83d91260",
   "metadata": {},
   "outputs": [],
   "source": [
    "base_path = \"/storage/noise_correlations/exp10\""
   ]
  },
  {
   "cell_type": "code",
   "execution_count": 12,
   "id": "bacf5fe8",
   "metadata": {},
   "outputs": [],
   "source": [
    "pvc11_1_path = os.path.join(base_path, 'exp10_1_pvc11_20_1000_1000.h5')\n",
    "ret2_path = os.path.join(base_path, 'exp10_ret2_20_1000_1000.h5')\n",
    "ecog_path = os.path.join(base_path, 'exp10_ecog_20_3000_1000.h5')"
   ]
  },
  {
   "cell_type": "code",
   "execution_count": 13,
   "id": "285e0307-744d-40e4-a80e-f183432a2d14",
   "metadata": {},
   "outputs": [],
   "source": [
    "pvc11_1 = h5py.File(pvc11_1_path, 'r')\n",
    "ret2 = h5py.File(ret2_path, 'r')\n",
    "ecog = h5py.File(ecog_path, 'r')"
   ]
  },
  {
   "cell_type": "code",
   "execution_count": 14,
   "id": "41c7ee50-0899-4138-90ef-42399fe7faec",
   "metadata": {
    "tags": []
   },
   "outputs": [],
   "source": [
    "median_corrs = dict()\n",
    "median_corrs_fa = dict()\n",
    "median_corrs_u = dict()\n",
    "\n",
    "pct = 50\n",
    "\n",
    "for d in [3, 5, 10, 20]:\n",
    "    indices = np.triu_indices(d, k=1)\n",
    "    median_corrs[d] = []\n",
    "    for ii in range(12000):\n",
    "        X1, X2 = utils.get_dimstim_responses_from_h5(pvc11_1, d - 3, ii)\n",
    "        cov1 = np.cov(X1.T)\n",
    "        cov2 = np.cov(X2.T)\n",
    "        obs = utils.cov2corr(0.5 * (cov1 + cov2))\n",
    "        median_corrs[d].append(np.percentile(abs(obs[indices[0], indices[1]]), pct,\n",
    "                                             interpolation='nearest'))\n",
    "\n",
    "    opt_fa = pvc11_1['opt_fa_covs/{}'.format(d)][:]\n",
    "    diag = opt_fa[:, np.arange(d), np.arange(d)]\n",
    "    opt_fa = opt_fa / np.sqrt(diag[..., np.newaxis] * diag[:, np.newaxis])\n",
    "    median_corrs_fa[d] = np.percentile(abs(opt_fa[:, indices[0], indices[1]]), pct,\n",
    "                                       axis=1, interpolation='nearest')\n",
    "\n",
    "    opt_u = pvc11_1['opt_u_covs/{}'.format(d)][:]\n",
    "    diag = opt_u[:, np.arange(d), np.arange(d)]\n",
    "    opt_u = opt_u / np.sqrt(diag[..., np.newaxis] * diag[:, np.newaxis])\n",
    "    median_corrs_u[d] = np.percentile(abs(opt_u[:, indices[0], indices[1]]), pct,\n",
    "                                      axis=1, interpolation='nearest')"
   ]
  },
  {
   "cell_type": "code",
   "execution_count": 26,
   "id": "c0102536-f149-41a8-939f-93dd0111d067",
   "metadata": {},
   "outputs": [
    {
     "data": {
      "image/png": "[encoded data removed]",
      "text/plain": [
       "<Figure size 288x288 with 4 Axes>"
      ]
     },
     "metadata": {
      "needs_background": "light"
     },
     "output_type": "display_data"
    }
   ],
   "source": [
    "fig, axes = plt.subplots(2, 2, figsize=(4, 4))\n",
    "\n",
    "bins = np.linspace(0, 1, 30)\n",
    "\n",
    "for ii, d in enumerate([3, 5, 10, 20]):\n",
    "    ax = axes.ravel()[ii]\n",
    "    label = r'Observed'\n",
    "    label_u = r'Uniform'\n",
    "    label_fa = r'FA'\n",
    "    if ii != 0:\n",
    "        label = None\n",
    "        label_u = None\n",
    "        label_fa = None\n",
    "    ax.hist(median_corrs[d], bins=bins, histtype='step', ec=nc_colors['observed'],\n",
    "            lw=lw, label=label, density=True)\n",
    "    ax.hist(median_corrs_u[d], bins=bins, histtype='step', ec=nc_colors['uniform'],\n",
    "            lw=lw, label=label_u, density=True)\n",
    "    ax.hist(median_corrs_fa[d], bins=bins, histtype='step', ec=nc_colors['fa'],\n",
    "            lw=lw, label=label_fa, density=True)\n",
    "    ax.set_yscale('log')\n",
    "    ax.set_xlabel(r'90% Abs. Correlation', size=ax_label_size)\n",
    "    ax.set_ylabel(r'Density', size=ax_label_size)\n",
    "    ax.set_xticks([0, .5, 1])\n",
    "    ax.set_xlim(0, 1)\n",
    "    ax.tick_params(labelsize=tick_label_size)\n",
    "    ax.set_title(r'$d={}$'.format(d), size=ax_label_size)\n",
    "axes[0, 0].legend(loc='lower left', fontsize=legend_size)\n",
    "fig.tight_layout()\n",
    "plt.savefig('supp3.pdf', dpi=300)\n",
    "plt.savefig('supp3.jpg', dpi=300)"
   ]
  },
  {
   "cell_type": "code",
   "execution_count": null,
   "id": "b2faacea-0849-4d1e-9322-ab41d5ef9d82",
   "metadata": {},
   "outputs": [],
   "source": []
  }
 ],
 "metadata": {
  "kernelspec": {
   "display_name": "Python 3",
   "language": "python",
   "name": "python3"
  },
  "language_info": {
   "codemirror_mode": {
    "name": "ipython",
    "version": 3
   },
   "file_extension": ".py",
   "mimetype": "text/x-python",
   "name": "python",
   "nbconvert_exporter": "python",
   "pygments_lexer": "ipython3",
   "version": "3.8.10"
  }
 },
 "nbformat": 4,
 "nbformat_minor": 5
}

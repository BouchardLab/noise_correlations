{
 "cells": [
  {
   "cell_type": "code",
   "execution_count": 1,
   "id": "87055a6b",
   "metadata": {},
   "outputs": [],
   "source": [
    "import h5py\n",
    "import matplotlib.pyplot as plt\n",
    "import mpl_lego as mplego\n",
    "import neuropacks as packs\n",
    "import numpy as np\n",
    "import os\n",
    "import pickle\n",
    "\n",
    "from matplotlib.cm import ScalarMappable\n",
    "from matplotlib.colors import Normalize\n",
    "from mpl_lego.ellipse import plot_cov_ellipse\n",
    "from noise_correlations import analysis, utils \n",
    "from scipy.stats import spearmanr, ttest_1samp, binned_statistic\n",
    "from settings import (colors, titles, ax_label_size, tick_label_size,\n",
    "                      letter_size, legend_size, lw, line_alpha, fill_alpha)\n",
    "from settings import (plot_lower, plot_upper, stats_frac_lower,\n",
    "                      stats_frac_upper, select_lower, select_upper,\n",
    "                      p_lower, p_upper, stats_frac_middle,\n",
    "                      ci, title_pad)"
   ]
  },
  {
   "cell_type": "code",
   "execution_count": 2,
   "id": "38ff2371",
   "metadata": {},
   "outputs": [],
   "source": [
    "ccycle = mplego.colors.get_default_ccycle()"
   ]
  },
  {
   "cell_type": "code",
   "execution_count": 3,
   "id": "0ce01e40",
   "metadata": {},
   "outputs": [],
   "source": [
    "exp = 10\n",
    "loc = 'data'\n",
    "loc = 'noise_correlations'"
   ]
  },
  {
   "cell_type": "code",
   "execution_count": 4,
   "id": "fb7f8dfd",
   "metadata": {},
   "outputs": [],
   "source": [
    "base_path = f\"/storage/noise_correlations/exp{exp}\"\n",
    "pvc11_1_rpath = os.path.join(base_path, f'exp{exp}_1_pvc11_20_1000_1000.h5')\n",
    "pvc11_2_rpath = os.path.join(base_path, f'exp{exp}_2_pvc11_20_1000_1000.h5')\n",
    "pvc11_3_rpath = os.path.join(base_path, f'exp{exp}_3_pvc11_20_1000_1000.h5')"
   ]
  },
  {
   "cell_type": "code",
   "execution_count": 7,
   "id": "5d87dab3",
   "metadata": {},
   "outputs": [],
   "source": [
    "# PVC11 paths\n",
    "base_path = f\"/storage/noise_correlations\"\n",
    "pvc11_1_path = os.path.join(base_path, 'pvc11/data/spikes_gratings/data_monkey1_gratings.mat')\n",
    "pvc11_2_path = os.path.join(base_path, 'pvc11/data/spikes_gratings/data_monkey2_gratings.mat')\n",
    "pvc11_3_path = os.path.join(base_path, 'pvc11/data/spikes_gratings/data_monkey3_gratings.mat')\n",
    "# Create neuropacks\n",
    "pvc11_1 = packs.PVC11(data_path=pvc11_1_path)\n",
    "pvc11_2 = packs.PVC11(data_path=pvc11_2_path)\n",
    "pvc11_3 = packs.PVC11(data_path=pvc11_3_path)\n",
    "# Load response matrices\n",
    "X_pvc11_1 = pvc11_1.get_response_matrix(transform=None)\n",
    "X_pvc11_2 = pvc11_2.get_response_matrix(transform=None)\n",
    "X_pvc11_3 = pvc11_3.get_response_matrix(transform=None)\n",
    "# Extract stimuli\n",
    "stimuli_pvc11 = pvc11_1.get_design_matrix(form='angle')"
   ]
  },
  {
   "cell_type": "code",
   "execution_count": 9,
   "id": "885e2061-3644-4c90-9ae7-b2cae118682a",
   "metadata": {},
   "outputs": [
    {
     "data": {
      "text/plain": [
       "(6.420200471698113, 3.8307859848484846, 7.983634672619048)"
      ]
     },
     "execution_count": 9,
     "metadata": {},
     "output_type": "execute_result"
    }
   ],
   "source": [
    "X_pvc11_1.mean(), X_pvc11_2.mean(), X_pvc11_3.mean()"
   ]
  },
  {
   "cell_type": "code",
   "execution_count": 35,
   "id": "3d8cbb96",
   "metadata": {},
   "outputs": [],
   "source": [
    "pvc11_1 = h5py.File(pvc11_1_rpath, 'r')\n",
    "pvc11_2 = h5py.File(pvc11_2_rpath, 'r')\n",
    "pvc11_3 = h5py.File(pvc11_3_rpath, 'r')\n",
    "results = [pvc11_1, pvc11_2, pvc11_3]\n",
    "\n",
    "n_max_units = pvc11_1['units'].shape[2]\n",
    "dims = 3 + np.arange(n_max_units - 2)"
   ]
  },
  {
   "cell_type": "code",
   "execution_count": 40,
   "id": "5bdcfa14",
   "metadata": {},
   "outputs": [],
   "source": [
    "groups = [\n",
    "    'v_lfi',\n",
    "    'v_s_lfi',\n",
    "    'v_u_lfi',\n",
    "    'v_fa_lfi'\n",
    "]\n",
    "labels = [\n",
    "    'Observed',\n",
    "    'Shuffle',\n",
    "    'UC',\n",
    "    'FA'\n",
    "]\n",
    "\n",
    "percentile_groups = [\n",
    "    'p_s_lfi',\n",
    "    'p_u_lfi',\n",
    "    'p_fa_lfi'\n",
    "]\n",
    "value_groups = [\n",
    "    'v_s_lfi',\n",
    "    'v_u_lfi',\n",
    "    'v_fa_lfi'\n",
    "]\n",
    "lfi_models = [\n",
    "    'observed',\n",
    "    'shuffle',\n",
    "    'uniform',\n",
    "    'fa'\n",
    "]\n",
    "models = [\n",
    "    'shuffle',\n",
    "    'uniform',\n",
    "    'fa'\n",
    "]\n",
    "labels2 = [\n",
    "    'Shuffle',\n",
    "    'UC',\n",
    "    'FA'\n",
    "]\n",
    "pvc_colors = ['black', 'red', 'blue']\n",
    "titles = ['V1 1', 'V1 2', 'V1 3']\n",
    "\n",
    "T = np.array([200, 200, 200])[:, np.newaxis]\n",
    "N = dims[np.newaxis]\n",
    "dtheta = np.array([np.mean(np.diff(np.unique(pvc11_1['stimuli'][:]))),\n",
    "                   np.mean(np.diff(np.unique(pvc11_2['stimuli'][:]))),\n",
    "                   np.mean(np.diff(np.log(np.unique(pvc11_3['stimuli'][:]))))])[:, np.newaxis]\n",
    "c0s = (2. * T - N - 3.) / (2. * T - 2)\n",
    "c1s = (2. * N) / (T * dtheta**2)"
   ]
  },
  {
   "cell_type": "code",
   "execution_count": 36,
   "id": "a9b0f758-ab31-428c-ba8c-a2c091b9109d",
   "metadata": {},
   "outputs": [],
   "source": [
    "median_lfis = dict()\n",
    "for idx, (result, c0, c1) in enumerate(zip(results, c0s, c1s)):\n",
    "    c0 = c0[:, np.newaxis]\n",
    "    c1 = c1[:, np.newaxis]\n",
    "    # Plot observed LFI\n",
    "    for group, model in zip(groups, lfi_models):\n",
    "        if group == 'v_lfi':\n",
    "            median_lfis[(idx, group)] = result[group][:] * c0 - c1\n",
    "        else:\n",
    "            median_lfis[(idx, group)] = np.median(result[group], axis=2) * c0 - c1\n",
    "            # Alternative: take statistics across all dim-stims and repeats\n",
    "            # values = np.reshape(result[group], (dims.size, -1))"
   ]
  },
  {
   "cell_type": "code",
   "execution_count": 37,
   "id": "a6e67b9c-e18c-47ca-b21f-a7bbd3fcc76c",
   "metadata": {},
   "outputs": [
    {
     "name": "stdout",
     "output_type": "stream",
     "text": [
      "0\n",
      "1\n",
      "2\n"
     ]
    }
   ],
   "source": [
    "lmus_lfi = dict()\n",
    "lmus_p = dict()\n",
    "for idx in range(len(results)):\n",
    "    print(idx)\n",
    "    # Plot observed LFI\n",
    "    for group in groups:\n",
    "        values = median_lfis[(idx, group)]\n",
    "        lmus_lfi[(idx, group)] = utils.run_bootstrap(values, np.median, ci).T\n",
    "        \n",
    "    for group in percentile_groups:\n",
    "        # Calculate median and bounds for each null model\n",
    "        percentiles = results[idx][group][:]\n",
    "        lmus_p[(idx, group)] = utils.run_bootstrap(percentiles, np.median, ci).T"
   ]
  },
  {
   "cell_type": "code",
   "execution_count": 41,
   "id": "4be60a0e",
   "metadata": {},
   "outputs": [
    {
     "data": {
      "image/png": "[encoded data removed]",
      "text/plain": [
       "<Figure size 432x432 with 12 Axes>"
      ]
     },
     "metadata": {
      "needs_background": "light"
     },
     "output_type": "display_data"
    }
   ],
   "source": [
    "fig = plt.figure(figsize=(6, 6))\n",
    "\n",
    "le = .1\n",
    "re = .05\n",
    "be = .075\n",
    "te = .05\n",
    "hg = .08\n",
    "vg = .1\n",
    "h = (1. - te - be - 3*vg) / 4.\n",
    "w = (1. - le - re - 2*hg) / 3.\n",
    "axes = np.empty((4, 3), dtype=object)\n",
    "for ii in range(4):\n",
    "    for jj in range(3):\n",
    "        axes[ii, jj] = fig.add_axes([le + jj*(w + hg),\n",
    "                                     be + (3-ii)*(h + vg),\n",
    "                                     w, h])\n",
    "ax = axes[0, 0]\n",
    "# Calculate distribution of noise correlations\n",
    "nc_pvc11_1 = analysis.all_correlations(X_pvc11_1, stimuli_pvc11)\n",
    "nc_pvc11_2 = analysis.all_correlations(X_pvc11_2, stimuli_pvc11)\n",
    "nc_pvc11_3 = analysis.all_correlations(X_pvc11_3, stimuli_pvc11)\n",
    "ncs = [nc_pvc11_1, nc_pvc11_2, nc_pvc11_3]\n",
    "# Plot distributions as density histograms\n",
    "bins = np.linspace(-1, 1, 50)\n",
    "for ii, nc in enumerate(ncs):\n",
    "    ax.hist(nc, bins=bins, density=True, color=pvc_colors[ii], histtype='step', linewidth=1., label=titles[ii])\n",
    "ax.legend(loc='upper left', fontsize=legend_size, handlelength=1.)\n",
    "ax.set_yticks([0, 1, 2, 3])\n",
    "ax.set_xticks([-1, 0, 1])\n",
    "ax.set_xlim(-1, 1)\n",
    "\n",
    "\"\"\"\n",
    "Second row: LFI values over dimension\n",
    "\"\"\"\n",
    "# Enumerate over results\n",
    "for idx, (result, ax) in enumerate(zip(results, axes[1])):\n",
    "    # Plot observed LFI\n",
    "    for group, model in zip(groups, lfi_models):\n",
    "        color = colors[model]\n",
    "        lower, median, upper = lmus_lfi[(idx, group)]\n",
    "        # Fill region between percentile bounds\n",
    "        ax.fill_between(\n",
    "            x=dims,\n",
    "            y1=lower,\n",
    "            y2=upper,\n",
    "            color=color,\n",
    "            alpha=fill_alpha,\n",
    "            ec='none')\n",
    "        ax.plot(\n",
    "            dims,\n",
    "            median,\n",
    "            linewidth=lw,\n",
    "            color=color,\n",
    "            alpha=line_alpha)\n",
    "\n",
    "# Set axis limits, scales, and labels\n",
    "for (ax, title) in zip(axes[1], titles):\n",
    "    ax.set_xlim([3, 20])\n",
    "    ax.set_yscale('log')\n",
    "    ax.set_xticks([3, 5, 10, 15, 20])\n",
    "    ax.set_ylim(1e-3, 5e-1)\n",
    "    \n",
    "    ax.set_xlabel(r'Dimension', fontsize=ax_label_size, labelpad=0)\n",
    "    ax.set_title(title, fontsize=ax_label_size, pad=title_pad)\n",
    "axes[1, 0].set_ylabel(r'LFI', fontsize=ax_label_size)\n",
    "\n",
    "\"\"\"\n",
    "Third Row: percentiles\n",
    "\"\"\"\n",
    "# Enumerate over results\n",
    "for idx, result in enumerate(results):\n",
    "    # Iterate over null models\n",
    "    for group, model in zip(percentile_groups, models):\n",
    "        # Calculate median and bounds for each null model\n",
    "        lower, median, upper = lmus_p[(idx, group)]\n",
    "        # Fill region between percentile bounds\n",
    "        axes[2, idx].fill_between(\n",
    "            x=dims,\n",
    "            y1=lower,\n",
    "            y2=upper,\n",
    "            color=colors[model],\n",
    "            alpha=fill_alpha,\n",
    "            ec='none')\n",
    "        axes[2, idx].plot(\n",
    "            dims,\n",
    "            median,\n",
    "            linewidth=lw,\n",
    "            color=colors[model])\n",
    "    axes[2, idx].axhline(plot_lower, 0, 1, lw=lw, ls='--', c='k')\n",
    "    axes[2, idx].axhline(plot_upper, 0, 1, lw=lw, ls='--', c='k')\n",
    "        \n",
    "axes[2, 2].text(21, 5/6, 'Opt', va='center', ha='center', rotation=-90, fontsize=tick_label_size)\n",
    "axes[2, 2].text(21, 3/6, 'NC', va='center', ha='center', rotation=-90, fontsize=tick_label_size)\n",
    "axes[2, 2].text(21, 1/6, 'Sub', va='center', ha='center', rotation=-90, fontsize=tick_label_size)\n",
    "\n",
    "# Set axis limits, scales, and labels\n",
    "for ax in axes[2]:\n",
    "    ax.set_xlim([3, 20])\n",
    "    ax.set_ylim([0, 1])\n",
    "    ax.set_xticks([3, 5, 10, 15, 20])\n",
    "    ax.set_yticks([0, .5, 1])\n",
    "    ax.tick_params(labelsize=tick_label_size)\n",
    "    \n",
    "    ax.set_xlabel('Dimension', fontsize=ax_label_size, labelpad=0)\n",
    "axes[2, 0].set_ylabel('Percentile', fontsize=ax_label_size)\n",
    "\n",
    "\n",
    "\n",
    "plt.savefig('supp6.pdf', dpi=300)\n",
    "plt.savefig('supp6.jpg', dpi=300)"
   ]
  },
  {
   "cell_type": "code",
   "execution_count": null,
   "id": "c3840a83-6ada-4fc1-bc00-09505bf19133",
   "metadata": {},
   "outputs": [],
   "source": []
  }
 ],
 "metadata": {
  "kernelspec": {
   "display_name": "Python 3 (ipykernel)",
   "language": "python",
   "name": "python3"
  },
  "language_info": {
   "codemirror_mode": {
    "name": "ipython",
    "version": 3
   },
   "file_extension": ".py",
   "mimetype": "text/x-python",
   "name": "python",
   "nbconvert_exporter": "python",
   "pygments_lexer": "ipython3",
   "version": "3.8.10"
  }
 },
 "nbformat": 4,
 "nbformat_minor": 5
}

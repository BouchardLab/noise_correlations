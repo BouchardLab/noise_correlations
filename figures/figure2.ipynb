{
 "cells": [
  {
   "cell_type": "code",
   "execution_count": null,
   "id": "played-scotland",
   "metadata": {},
   "outputs": [],
   "source": [
    "import matplotlib.pyplot as plt\n",
    "import neuropacks as packs\n",
    "import numpy as np\n",
    "import os\n",
    "\n",
    "from pratplot.ellipse import plot_cov_ellipse\n",
    "from noise_correlations import analysis, utils \n",
    "from sklearn.gaussian_process import GaussianProcessRegressor\n",
    "from sklearn.gaussian_process.kernels import RBF\n",
    "\n",
    "%matplotlib inline"
   ]
  },
  {
   "cell_type": "code",
   "execution_count": null,
   "id": "colonial-champion",
   "metadata": {},
   "outputs": [],
   "source": [
    "plt.rcParams.update({\n",
    "    \"text.usetex\": True,\n",
    "    \"font.family\": \"serif\",\n",
    "    \"font.sans-serif\": [\"Computer Modern Roman\"]})"
   ]
  },
  {
   "cell_type": "code",
   "execution_count": null,
   "id": "blind-chorus",
   "metadata": {},
   "outputs": [],
   "source": [
    "# base_path = '/Volumes/pss/data'\n",
    "base_path = '/storage/data'"
   ]
  },
  {
   "cell_type": "markdown",
   "id": "asian-lodging",
   "metadata": {},
   "source": [
    "# RET 2"
   ]
  },
  {
   "cell_type": "code",
   "execution_count": null,
   "id": "civilian-vulnerability",
   "metadata": {},
   "outputs": [],
   "source": [
    "ret2_path = os.path.join(base_path, 'ret2/200114_fov1_data.mat')\n",
    "ret2 = packs.RET2(data_path=ret2_path)"
   ]
  },
  {
   "cell_type": "code",
   "execution_count": null,
   "id": "polished-product",
   "metadata": {},
   "outputs": [],
   "source": [
    "X = ret2.get_response_matrix(cells='tuned', response='max')\n",
    "stimuli = ret2.angles\n",
    "unique_stimuli = ret2.unique_angles"
   ]
  },
  {
   "cell_type": "code",
   "execution_count": null,
   "id": "elegant-attack",
   "metadata": {},
   "outputs": [],
   "source": [
    "ccycle = plt.rcParams[\"axes.prop_cycle\"].by_key()[\"color\"]"
   ]
  },
  {
   "cell_type": "code",
   "execution_count": null,
   "id": "trained-pharmacology",
   "metadata": {},
   "outputs": [],
   "source": [
    "fig, axes = plt.subplots(2, 2, figsize=(8, 8))\n",
    "plt.subplots_adjust(hspace=0.3, wspace=0.3)\n",
    "\n",
    "axes[0, 0].axis('off')\n",
    "\n",
    "tcax = axes[0, 1]\n",
    "# Tuning curves\n",
    "points = np.linspace(0, 300, 1000)\n",
    "rng = np.random.default_rng(2039191)\n",
    "examples = rng.integers(low=0, high=X.shape[1], size=len(ccycle))\n",
    "length_scales = 47.5 * np.ones(len(ccycle))\n",
    "length_scales[2] = 35\n",
    "for idx, example in enumerate(examples):\n",
    "    gpr = GaussianProcessRegressor(RBF(length_scale=length_scales[idx]))\n",
    "    gpr.fit(stimuli[..., np.newaxis], X[:, example])\n",
    "    tcax.plot(\n",
    "        points,\n",
    "        gpr.predict(points[..., np.newaxis]),\n",
    "        color=ccycle[idx],\n",
    "        linewidth=3,\n",
    "        alpha=0.75\n",
    "    )\n",
    "\n",
    "tcax.set_xlim([0, 300])\n",
    "tcax.set_ylim([.25, 1.5])       \n",
    "tcax.set_xticks([0, 100, 200, 300])\n",
    "tcax.set_yticks([0.5, 1.0, 1.5])\n",
    "tcax.set_xlabel(r'\\textbf{Stimulus (degrees)}', fontsize=16)\n",
    "tcax.set_ylabel(r'\\textbf{Mean Response}', fontsize=16)\n",
    "\n",
    "# Plot example responses\n",
    "resax = axes[1, 0]\n",
    "\n",
    "stim1 = 0\n",
    "stim2 = 60\n",
    "neuron1 = 32\n",
    "neuron2 = 25\n",
    "X1 = X[stimuli == stim1][:, [neuron1, neuron2]]\n",
    "mu1 = np.mean(X1, axis=0)\n",
    "X2 = X[stimuli == stim2][:, [neuron1, neuron2]]\n",
    "mu2 = np.mean(X2, axis=0)\n",
    "\n",
    "resax.scatter(X1[:, 0],\n",
    "              X1[:, 1],\n",
    "              color='C0',\n",
    "              alpha=0.25)\n",
    "resax = plot_cov_ellipse(\n",
    "    np.cov(X1, rowvar=False),\n",
    "    mu=mu1,\n",
    "    scale=5.,\n",
    "    facecolor=[x / 255 for x in list(bytes.fromhex(ccycle[0][1:]))] + [0.1],\n",
    "    edgecolor=[x / 255 for x in list(bytes.fromhex(ccycle[0][1:]))] + [1.0],\n",
    "    ax=resax\n",
    ")\n",
    "resax = plot_cov_ellipse(\n",
    "    np.cov(X2, rowvar=False),\n",
    "    mu=mu2,\n",
    "    scale=5.,\n",
    "    facecolor=[x / 255 for x in list(bytes.fromhex(ccycle[1][1:]))] + [0.1],\n",
    "    edgecolor=[x / 255 for x in list(bytes.fromhex(ccycle[1][1:]))] + [1.0],\n",
    "    ax=resax\n",
    ")\n",
    "resax.scatter(X2[:, 0],\n",
    "              X2[:, 1],\n",
    "              color='C1',\n",
    "              alpha=0.5)\n",
    "resax.scatter(mu1[0], mu1[1],\n",
    "              color='C0',\n",
    "              s=50,\n",
    "              edgecolor='black')\n",
    "resax.scatter(mu2[0], mu2[1],\n",
    "              color='C1',\n",
    "              s=50,\n",
    "              edgecolor='black')\n",
    "\n",
    "resax.set_xlim([0., 2])\n",
    "resax.set_ylim(resax.get_xlim())\n",
    "resax.set_xlabel(r'\\textbf{Neuron 1}', fontsize=16)\n",
    "resax.set_ylabel(r'\\textbf{Neuron 2}', fontsize=16)\n",
    "\n",
    "# Plot distribution of noise correlations\n",
    "ncax = axes[1, 1]\n",
    "noise_corrs = analysis.all_correlations(X, stimuli)\n",
    "bins = np.linspace(-1, 1, 50)\n",
    "ncax.hist(noise_corrs,\n",
    "          bins=bins,\n",
    "          density=True,\n",
    "          color='black',\n",
    "          histtype='step',\n",
    "          linewidth=3)\n",
    "ncax.axvline(0, linestyle='--', color='grey')\n",
    "\n",
    "ncax.set_xlim([-0.5, 0.5])\n",
    "ncax.set_xlabel(r'\\textbf{Noise Correlation}', fontsize=16)\n",
    "ncax.set_ylabel(r'\\textbf{Density}', fontsize=16)\n",
    "\n",
    "# Set axis tick label size\n",
    "for ax in axes.ravel():\n",
    "    ax.tick_params(labelsize=14)\n",
    "\n",
    "plt.savefig('figure2.pdf', bbox_inches='tight')\n",
    "plt.show()"
   ]
  },
  {
   "cell_type": "code",
   "execution_count": null,
   "id": "married-bradley",
   "metadata": {},
   "outputs": [],
   "source": []
  }
 ],
 "metadata": {
  "kernelspec": {
   "display_name": "neuro",
   "language": "python",
   "name": "neuro"
  },
  "language_info": {
   "codemirror_mode": {
    "name": "ipython",
    "version": 3
   },
   "file_extension": ".py",
   "mimetype": "text/x-python",
   "name": "python",
   "nbconvert_exporter": "python",
   "pygments_lexer": "ipython3",
   "version": "3.7.9"
  }
 },
 "nbformat": 4,
 "nbformat_minor": 5
}

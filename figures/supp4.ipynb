{
 "cells": [
  {
   "cell_type": "code",
   "execution_count": 1,
   "id": "bac5e693",
   "metadata": {},
   "outputs": [],
   "source": [
    "import h5py\n",
    "import matplotlib.pyplot as plt\n",
    "import mpl_lego as mplego\n",
    "import neuropacks as packs\n",
    "import numpy as np\n",
    "import os\n",
    "import pickle\n",
    "\n",
    "from matplotlib.cm import ScalarMappable\n",
    "from matplotlib.colors import Normalize\n",
    "from mpl_lego.ellipse import plot_cov_ellipse\n",
    "from noise_correlations import analysis, utils \n",
    "from scipy.stats import spearmanr, ttest_1samp, binned_statistic\n",
    "from settings import (colors, titles, ax_label_size, tick_label_size,\n",
    "                      letter_size, legend_size, lw, line_alpha, fill_alpha)\n",
    "from settings import (plot_lower, plot_upper, stats_frac_lower,\n",
    "                      stats_frac_upper, select_lower, select_upper,\n",
    "                      p_lower, p_upper, stats_frac_middle,\n",
    "                      ci, title_pad)"
   ]
  },
  {
   "cell_type": "code",
   "execution_count": 2,
   "id": "3fe10c79",
   "metadata": {},
   "outputs": [],
   "source": [
    "ccycle = mplego.colors.get_default_ccycle()"
   ]
  },
  {
   "cell_type": "code",
   "execution_count": 3,
   "id": "9f9c9f8d",
   "metadata": {},
   "outputs": [],
   "source": [
    "exp = 10\n",
    "base_path = f\"/storage/noise_correlations/exp{exp}\"\n",
    "loc = 'data'\n",
    "loc = 'noise_correlations'"
   ]
  },
  {
   "cell_type": "code",
   "execution_count": 4,
   "id": "ad5c922d",
   "metadata": {},
   "outputs": [],
   "source": [
    "ret2_path = os.path.join(base_path, f'exp{exp}_ret2_20_1000_1000.h5')\n",
    "pvc11_1_path = os.path.join(base_path, f'exp{exp}_1_pvc11_20_1000_1000.h5')\n",
    "ecog_path = os.path.join(base_path, f'exp{exp}_ecog_20_3000_1000.h5')\n",
    "roi_path = os.path.join(f\"/storage/{loc}/ret2/roi_positions.mat\")"
   ]
  },
  {
   "cell_type": "code",
   "execution_count": 5,
   "id": "4887058a",
   "metadata": {},
   "outputs": [],
   "source": [
    "ret2 = h5py.File(ret2_path, 'r')\n",
    "pvc11_1 = h5py.File(pvc11_1_path, 'r')\n",
    "ecog = h5py.File(ecog_path, 'r')\n",
    "results = [ret2, pvc11_1, ecog]"
   ]
  },
  {
   "cell_type": "code",
   "execution_count": 6,
   "id": "bfbb43c5",
   "metadata": {},
   "outputs": [],
   "source": [
    "n_max_units = pvc11_1['units'].shape[2]\n",
    "dims = 3 + np.arange(n_max_units - 2)\n",
    "n_results = len(results)"
   ]
  },
  {
   "cell_type": "markdown",
   "id": "35f60db8-b062-4ca1-abff-01b6c1f5fb74",
   "metadata": {},
   "source": [
    "# FF and ND"
   ]
  },
  {
   "cell_type": "code",
   "execution_count": 9,
   "id": "bdb394a9",
   "metadata": {},
   "outputs": [],
   "source": [
    "keep = [0, 1, 4]\n",
    "with open(os.path.join(base_path, f'exp{exp}_ffs.pkl'), 'rb') as f:\n",
    "    opt_fa_ffs, obs_ffs = pickle.load(f)\n",
    "opt_fa_ffs = [opt_fa_ffs[ii] for ii in keep]\n",
    "obs_ffs = [obs_ffs[ii] for ii in keep]\n",
    "    \n",
    "with open(os.path.join(base_path, f'exp{exp}_cdfs.pkl'), 'rb') as f:\n",
    "    all_obs_equiv_cdfs, all_opt_fa_cdfs = pickle.load(f)\n",
    "all_opt_fa_cdfs = [all_opt_fa_cdfs[ii] for ii in keep]\n",
    "all_obs_equiv_cdfs = [all_obs_equiv_cdfs[ii] for ii in keep]\n",
    "\n",
    "# Calculate correlations between max CDFs and percentiles\n",
    "fa_ff_corrs = np.zeros((len(results), dims.size))\n",
    "fa_nd_corrs = np.zeros((len(results), dims.size))\n",
    "\n",
    "for result_idx, result in enumerate(results):\n",
    "    for dim_idx, dim in enumerate(dims):\n",
    "        fa_ff_corrs[result_idx, dim_idx] = spearmanr(\n",
    "            result['p_fa_lfi'][dim_idx],\n",
    "            abs(np.log(opt_fa_ffs[result_idx][dim_idx]) - np.log(obs_ffs[result_idx][dim_idx])),\n",
    "        ).correlation\n",
    "        fa_nd_corrs[result_idx, dim_idx] = spearmanr(\n",
    "            result['p_fa_lfi'][dim_idx],\n",
    "            abs(np.max(all_opt_fa_cdfs[result_idx][dim], axis=-1) - np.max(all_obs_equiv_cdfs[result_idx][dim], axis=-1)),\n",
    "        ).correlation"
   ]
  },
  {
   "cell_type": "code",
   "execution_count": 12,
   "id": "35491c6d-f603-4ce1-847d-7ba0f777ce9c",
   "metadata": {},
   "outputs": [],
   "source": [
    "fa_cdf_mse = []\n",
    "fa_cdf_rank = []\n",
    "fa_ff_mse = []\n",
    "fa_ff_rank = []\n",
    "avg_rank = []\n",
    "best_obs_p_rank = np.zeros((3, 18, 3))\n",
    "\n",
    "for result_idx, result in enumerate(results):\n",
    "    fa_ff_mse.append(abs(np.log(opt_fa_ffs[result_idx]) - np.log(obs_ffs[result_idx])))\n",
    "    fa_ff_rank.append(np.argsort(-fa_ff_mse[-1], axis=-1))\n",
    "    ff_mse_temp = np.zeros_like(fa_ff_mse[-1])\n",
    "    for dim_idx, dim in enumerate(dims):\n",
    "        fa_max = np.max(all_opt_fa_cdfs[result_idx][dim], axis=-1)\n",
    "        equiv_max = np.max(all_obs_equiv_cdfs[result_idx][dim], axis=-1)\n",
    "        ff_mse_temp[dim_idx] = abs(fa_max - equiv_max)\n",
    "    fa_cdf_mse.append(ff_mse_temp)\n",
    "    fa_cdf_rank.append(np.argsort(-fa_cdf_mse[-1], axis=-1))\n",
    "    avg_rank.append(0.5 * (fa_ff_rank[-1] + fa_cdf_rank[-1]))\n",
    "    \n",
    "    # Grab observed percentiles for best avg ranks\n",
    "    best_obs_p_temp = np.zeros_like(fa_ff_mse[-1])\n",
    "    for dim_idx, dim in enumerate(dims):\n",
    "        avg_rank_temp = avg_rank[-1][dim_idx]\n",
    "        rank_lower, rank_upper = np.percentile(avg_rank_temp, q=[select_lower, select_upper])\n",
    "        p_fa_lfi_slice = result['p_fa_lfi'][dim_idx][(avg_rank_temp > rank_lower) & (avg_rank_temp <= rank_upper)]\n",
    "        best_obs_p_rank[result_idx, dim_idx] = utils.run_bootstrap(p_fa_lfi_slice, np.median, ci)"
   ]
  },
  {
   "cell_type": "code",
   "execution_count": 14,
   "id": "88449ff1-03dc-481b-bb7d-acc2bea84592",
   "metadata": {},
   "outputs": [
    {
     "data": {
      "image/png": "[encoded data removed]",
      "text/plain": [
       "<Figure size 432x144 with 3 Axes>"
      ]
     },
     "metadata": {
      "needs_background": "light"
     },
     "output_type": "display_data"
    }
   ],
   "source": [
    "\"\"\"\n",
    "Figure Settings\n",
    "\"\"\"\n",
    "\n",
    "model_labels = ['Observed', 'FA']\n",
    "label_dict = {'observed': model_labels[0], 'fa': model_labels[1]}\n",
    "bins = [\n",
    "    np.linspace(-1.5, -0.75, 30),\n",
    "    np.linspace(0, 1.2, 30),\n",
    "    np.linspace(0, 1.5, 30)\n",
    "]\n",
    "labels = [\n",
    "    'Uniform',\n",
    "    'FA'\n",
    "]\n",
    "percentile_groups = [\n",
    "    'p_u_lfi',\n",
    "    'p_fa_lfi'\n",
    "]\n",
    "models = [\n",
    "    'uniform',\n",
    "    'fa'\n",
    "]\n",
    "\n",
    "\"\"\"\n",
    "Figure 6\n",
    "\"\"\"\n",
    "figsize = (6, 2.)\n",
    "fig = plt.figure(figsize=figsize)\n",
    "le = .08\n",
    "re = .03\n",
    "te = .125\n",
    "be = .195\n",
    "h = .15\n",
    "hg = .08\n",
    "w = (1. - le - re - 2.*hg) / 3.\n",
    "h = (1. - te - be)\n",
    "\n",
    "axes = np.empty(3, dtype=object)\n",
    "axes[:] = [fig.add_axes([le + jj*(w + hg), be, w, h]) for jj in range(3)]\n",
    "\n",
    "\n",
    "for idx, result in enumerate(results):\n",
    "    # Average rank over dimensions\n",
    "    axes[idx].plot(\n",
    "        dims,\n",
    "        best_obs_p_rank[idx, :, 1],\n",
    "        linewidth=lw,\n",
    "        alpha=line_alpha,\n",
    "        color=colors['fa'],\n",
    "        label=labels[1])\n",
    "\n",
    "    axes[idx].fill_between(\n",
    "        x=dims,\n",
    "        y1=best_obs_p_rank[idx, :, 0],\n",
    "        y2=best_obs_p_rank[idx, :, 2],\n",
    "        color=colors['fa'],\n",
    "        alpha=fill_alpha,\n",
    "        ec='none')\n",
    "    axes[idx].axhline(plot_lower, linestyle='--', color='k', lw=lw)\n",
    "    axes[idx].axhline(plot_upper, linestyle='--', color='k', lw=lw)\n",
    "    \n",
    "axes[2].text(21, 5/6, 'Opt', va='center', ha='center', rotation=-90, fontsize=tick_label_size)\n",
    "axes[2].text(21, 3/6, 'NC', va='center', ha='center', rotation=-90, fontsize=tick_label_size)\n",
    "axes[2].text(21, 1/6, 'Sub', va='center', ha='center', rotation=-90, fontsize=tick_label_size)\n",
    "\n",
    "\n",
    "for ax in axes.ravel():\n",
    "    ax.set_xlim([2.5, 20.5])\n",
    "    ax.set_ylim([0, 1.05])\n",
    "    ax.set_xticks([3, 5, 10, 15, 20])\n",
    "    ax.set_yticks([0, .5, 1])\n",
    "    ax.tick_params(labelsize=tick_label_size)\n",
    "    ax.set_xlabel('Dimension', fontsize=ax_label_size)\n",
    "axes[0].set_ylabel('Percentile', fontsize=ax_label_size)\n",
    "axes[0].set_title(r'Retina', fontsize=ax_label_size, pad=title_pad)\n",
    "axes[1].set_title(r'V1', fontsize=ax_label_size, pad=title_pad)\n",
    "axes[2].set_title(r'PAC', fontsize=ax_label_size, pad=title_pad)\n",
    "\n",
    "axes[0].legend(loc='upper left', fontsize=legend_size)\n",
    "\n",
    "\n",
    "# Apply subplot labels\n",
    "lets = ['a', 'b', 'c', 'd', 'e', 'f', 'g', 'h', 'i', 'j', 'k', 'l', 'm', 'n']\n",
    "c = 0\n",
    "for ii in range(3):\n",
    "    ax = axes[ii]\n",
    "    ax.text(-.2, 1.07, lets[c], size=letter_size, fontweight='bold',\n",
    "            transform=ax.transAxes)\n",
    "    c += 1\n",
    "# for ax in caxes:\n",
    "#     ax.tick_params(labelsize=tick_label_size)\n",
    "\n",
    "plt.savefig('supp4.pdf', dpi=300)\n",
    "plt.savefig('supp4.jpg', dpi=300)\n",
    "\n",
    "plt.show()"
   ]
  },
  {
   "cell_type": "code",
   "execution_count": 17,
   "id": "4ff8b738-5b53-43be-a0d3-c3833738f6db",
   "metadata": {},
   "outputs": [
    {
     "data": {
      "text/plain": [
       "array([[0.311 , 0.2205, 0.175 , 0.164 , 0.1145, 0.0925, 0.073 , 0.059 ,\n",
       "        0.046 , 0.025 , 0.021 , 0.013 , 0.0115, 0.0075, 0.005 , 0.004 ,\n",
       "        0.002 , 0.002 ],\n",
       "       [0.216 , 0.189 , 0.14  , 0.091 , 0.0615, 0.036 , 0.019 , 0.0115,\n",
       "        0.005 , 0.004 , 0.002 , 0.001 , 0.001 , 0.    , 0.    , 0.    ,\n",
       "        0.    , 0.    ],\n",
       "       [0.0515, 0.021 , 0.002 , 0.002 , 0.    , 0.    , 0.    , 0.    ,\n",
       "        0.    , 0.    , 0.    , 0.    , 0.    , 0.    , 0.    , 0.    ,\n",
       "        0.    , 0.    ]])"
      ]
     },
     "execution_count": 17,
     "metadata": {},
     "output_type": "execute_result"
    }
   ],
   "source": [
    "best_obs_p_rank[:, :, 1]"
   ]
  },
  {
   "cell_type": "code",
   "execution_count": null,
   "id": "3bfa24f7-41cf-4a37-ac94-4772da620f4b",
   "metadata": {},
   "outputs": [],
   "source": []
  }
 ],
 "metadata": {
  "kernelspec": {
   "display_name": "Python 3 (ipykernel)",
   "language": "python",
   "name": "python3"
  },
  "language_info": {
   "codemirror_mode": {
    "name": "ipython",
    "version": 3
   },
   "file_extension": ".py",
   "mimetype": "text/x-python",
   "name": "python",
   "nbconvert_exporter": "python",
   "pygments_lexer": "ipython3",
   "version": "3.8.10"
  }
 },
 "nbformat": 4,
 "nbformat_minor": 5
}

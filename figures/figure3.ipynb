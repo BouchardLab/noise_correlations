{
 "cells": [
  {
   "cell_type": "code",
   "execution_count": null,
   "id": "6e52fad1",
   "metadata": {},
   "outputs": [],
   "source": [
    "import h5py\n",
    "import matplotlib.pyplot as plt\n",
    "import mpl_lego as mplego\n",
    "import neuropacks as packs\n",
    "import numpy as np\n",
    "import os\n",
    "\n",
    "from mpl_lego.ellipse import plot_cov_ellipse\n",
    "from noise_correlations import analysis, utils "
   ]
  },
  {
   "cell_type": "code",
   "execution_count": null,
   "id": "71b40307",
   "metadata": {},
   "outputs": [],
   "source": [
    "mplego.style.use_latex_style()"
   ]
  },
  {
   "cell_type": "code",
   "execution_count": null,
   "id": "3293fcba",
   "metadata": {},
   "outputs": [],
   "source": [
    "base_path = '/storage/fits/neurocorr/exp09'"
   ]
  },
  {
   "cell_type": "code",
   "execution_count": null,
   "id": "f2b4d239",
   "metadata": {},
   "outputs": [],
   "source": [
    "pvc11_1_path = os.path.join(base_path, 'exp09_1_pvc11_15_1000_1000.h5')\n",
    "pvc11_2_path = os.path.join(base_path, 'exp09_2_pvc11_15_1000_1000.h5')\n",
    "pvc11_3_path = os.path.join(base_path, 'exp09_3_pvc11_15_1000_1000.h5')\n",
    "ret2_path = os.path.join(base_path, 'exp09_ret2_15_1000_1000.h5')\n",
    "ecog_path = os.path.join(base_path, 'exp09_ecog_15_3000_1000.h5')"
   ]
  },
  {
   "cell_type": "code",
   "execution_count": null,
   "id": "0091a87d",
   "metadata": {},
   "outputs": [],
   "source": [
    "pvc11_1 = h5py.File(pvc11_1_path, 'r')\n",
    "pvc11_2 = h5py.File(pvc11_2_path, 'r')\n",
    "pvc11_3 = h5py.File(pvc11_3_path, 'r')\n",
    "ret2 = h5py.File(ret2_path, 'r')\n",
    "ecog = h5py.File(ecog_path, 'r')\n",
    "results = [pvc11_1, pvc11_2, pvc11_3, ret2, ecog]\n",
    "n_max_units = pvc11_1['units'].shape[2]\n",
    "dims = 3 + np.arange(n_max_units - 2)"
   ]
  },
  {
   "cell_type": "code",
   "execution_count": null,
   "id": "ca83cb62",
   "metadata": {},
   "outputs": [],
   "source": [
    "titles = ['V1 (1)', 'V1 (2)', 'V1 (3)', 'Retina', 'AC']\n",
    "titles = mplego.labels.bold_text(titles)"
   ]
  },
  {
   "cell_type": "code",
   "execution_count": null,
   "id": "dc899fc8",
   "metadata": {},
   "outputs": [],
   "source": [
    "groups = [\n",
    "    'v_lfi',\n",
    "    'v_s_lfi',\n",
    "    'v_r_lfi',\n",
    "    'v_fa_lfi'\n",
    "]\n",
    "colors = [\n",
    "    'C0',\n",
    "    'gray',\n",
    "    'red',\n",
    "    'fuchsia'\n",
    "]\n",
    "labels = mplego.labels.bold_text([\n",
    "    'Observed',\n",
    "    'Shuffle',\n",
    "    'Rotation',\n",
    "    'FA'\n",
    "])"
   ]
  },
  {
   "cell_type": "code",
   "execution_count": null,
   "id": "458491ea",
   "metadata": {},
   "outputs": [],
   "source": [
    "\"\"\"\n",
    "Figure Settings\n",
    "\"\"\"\n",
    "# Subplot adjustments\n",
    "wspace = 0.3\n",
    "hspace = 0.5\n",
    "# Line settings\n",
    "linewidth = 2\n",
    "linestyles = ['--', ':', '-']\n",
    "line_alpha = 0.8\n",
    "# Fill settings\n",
    "fill_alpha = 0.1\n",
    "# Percentile bounds for curves\n",
    "percentile_lower = 40\n",
    "percentile_upper = 60\n",
    "\n",
    "\"\"\"\n",
    "Figure 3\n",
    "\"\"\"\n",
    "fig, axes = plt.subplots(2, 3, figsize=(14, 8))\n",
    "axes_list = axes.ravel()\n",
    "plt.subplots_adjust(wspace=wspace, hspace=hspace)\n",
    "\n",
    "# Enumerate over results\n",
    "for idx, result in enumerate(results):\n",
    "    ax = axes_list[idx]\n",
    "    # Plot observed LFI\n",
    "    for group, color in zip(groups, colors):\n",
    "        if group == 'v_lfi':\n",
    "            values = result[group][:]\n",
    "        else:\n",
    "            values = np.median(result[group], axis=2)\n",
    "            # Alternative: take statistics across all dim-stims and repeats\n",
    "            # values = np.reshape(result[group], (dims.size, -1))\n",
    "        median = np.median(values, axis=1)\n",
    "        lower = np.percentile(values, q=percentile_lower, axis=1)\n",
    "        upper = np.percentile(values, q=percentile_upper, axis=1)\n",
    "        # Fill region between percentile bounds\n",
    "        ax.fill_between(\n",
    "            x=dims,\n",
    "            y1=lower,\n",
    "            y2=upper,\n",
    "            color=color,\n",
    "            alpha=fill_alpha)\n",
    "        ax.plot(\n",
    "            dims,\n",
    "            median,\n",
    "            linewidth=linewidth,\n",
    "            color=color,\n",
    "            alpha=line_alpha)\n",
    "\n",
    "# Set bounds\n",
    "axes_list[2].set_ylim(bottom=1e-3)\n",
    "axes_list[3].set_ylim(bottom=5e-4, top=1e-2)\n",
    "axes_list[4].set_ylim(bottom=5)\n",
    "\n",
    "# Set axis limits, scales, and labels\n",
    "for (ax, title) in zip(axes_list, titles):\n",
    "    ax.set_xlim([3, 15])\n",
    "    ax.set_yscale('log')\n",
    "    ax.set_xticks([3, 5, 10, 15])\n",
    "    ax.tick_params(labelsize=15)\n",
    "    \n",
    "    ax.set_xlabel(r'\\textbf{Dimlet Dimension}', fontsize=16)\n",
    "    ax.set_ylabel(r'\\textbf{LFI}', fontsize=16)\n",
    "    ax.set_title(title, fontsize=20)\n",
    "\n",
    "# Create legend in last axis spot\n",
    "axes_list[-1].axis('off')\n",
    "for color, label in zip(colors, labels):\n",
    "    axes_list[-2].plot([], [], color=color, label=label, linewidth=linewidth)\n",
    "axes_list[-2].legend(\n",
    "    loc='center left',\n",
    "    bbox_to_anchor=(1.35, 0.5),\n",
    "    prop={'size': 20})\n",
    "\n",
    "# Apply subplot labels\n",
    "mplego.labels.apply_subplot_labels(\n",
    "    axes.ravel()[:-1],\n",
    "    bold=True,\n",
    "    x=-0.16,\n",
    "    y=1.10,\n",
    "    size=23)\n",
    "\n",
    "plt.savefig('figure3.pdf', bbox_inches='tight')\n",
    "plt.show()"
   ]
  }
 ],
 "metadata": {
  "kernelspec": {
   "display_name": "neuro",
   "language": "python",
   "name": "neuro"
  },
  "language_info": {
   "codemirror_mode": {
    "name": "ipython",
    "version": 3
   },
   "file_extension": ".py",
   "mimetype": "text/x-python",
   "name": "python",
   "nbconvert_exporter": "python",
   "pygments_lexer": "ipython3",
   "version": "3.7.9"
  }
 },
 "nbformat": 4,
 "nbformat_minor": 5
}

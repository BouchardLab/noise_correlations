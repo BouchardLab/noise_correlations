{
 "cells": [
  {
   "cell_type": "code",
   "execution_count": 1,
   "id": "1e25d61b",
   "metadata": {},
   "outputs": [],
   "source": [
    "import h5py\n",
    "import matplotlib.pyplot as plt\n",
    "import mpl_lego as mplego\n",
    "import neuropacks as packs\n",
    "import numpy as np\n",
    "import os\n",
    "import pickle\n",
    "\n",
    "from mpl_lego.ellipse import plot_cov_ellipse\n",
    "from noise_correlations import analysis, utils \n",
    "from settings import colors, titles, ax_label_size, tick_label_size, letter_size, legend_size, lw, line_alpha, fill_alpha"
   ]
  },
  {
   "cell_type": "code",
   "execution_count": 2,
   "id": "a55a894f",
   "metadata": {},
   "outputs": [],
   "source": [
    "exp = 10\n",
    "base_path = f\"/storage/noise_correlations/exp{exp}\""
   ]
  },
  {
   "cell_type": "code",
   "execution_count": 3,
   "id": "77bbb080",
   "metadata": {},
   "outputs": [],
   "source": [
    "ret2_path = os.path.join(base_path, f'exp{exp}_ret2_20_1000_1000.h5')\n",
    "pvc11_1_path = os.path.join(base_path, f'exp{exp}_1_pvc11_20_1000_1000.h5')\n",
    "ecog_path = os.path.join(base_path, f'exp{exp}_ecog_20_3000_1000.h5')\n",
    "# Extra datasets\n",
    "# pvc11_2_path = os.path.join(base_path, 'exp09_2_pvc11_15_1000_1000.h5')\n",
    "# pvc11_3_path = os.path.join(base_path, 'exp09_3_pvc11_15_1000_1000.h5')"
   ]
  },
  {
   "cell_type": "code",
   "execution_count": 4,
   "id": "3d09c6b5",
   "metadata": {},
   "outputs": [],
   "source": [
    "ret2 = h5py.File(ret2_path, 'r')\n",
    "pvc11_1 = h5py.File(pvc11_1_path, 'r')\n",
    "ecog = h5py.File(ecog_path, 'r')\n",
    "results = [ret2, pvc11_1, ecog]\n",
    "\n",
    "# Extra datasets\n",
    "# pvc11_2 = h5py.File(pvc11_2_path, 'r')\n",
    "# pvc11_3 = h5py.File(pvc11_3_path, 'r')"
   ]
  },
  {
   "cell_type": "code",
   "execution_count": 5,
   "id": "7b181166",
   "metadata": {},
   "outputs": [],
   "source": [
    "n_max_units = ret2['units'].shape[2]\n",
    "dims = 3 + np.arange(n_max_units - 2)"
   ]
  },
  {
   "cell_type": "code",
   "execution_count": 6,
   "id": "38c48e36",
   "metadata": {},
   "outputs": [],
   "source": [
    "groups = [\n",
    "    'v_lfi',\n",
    "    'v_s_lfi',\n",
    "    'v_u_lfi',\n",
    "    'v_fa_lfi'\n",
    "]\n",
    "labels = [\n",
    "    'Uniform',\n",
    "    'FA'\n",
    "]\n",
    "percentile_groups = [\n",
    "    'p_u_lfi',\n",
    "    'p_fa_lfi'\n",
    "]\n",
    "models = [\n",
    "    'uniform',\n",
    "    'fa'\n",
    "]"
   ]
  },
  {
   "cell_type": "code",
   "execution_count": 56,
   "id": "967d5210",
   "metadata": {},
   "outputs": [
    {
     "data": {
      "image/png": "[encoded data removed]",
      "text/plain": [
       "<Figure size 360x93.6 with 3 Axes>"
      ]
     },
     "metadata": {
      "needs_background": "light"
     },
     "output_type": "display_data"
    }
   ],
   "source": [
    "fig = plt.figure(figsize=(5, 1.3))\n",
    "\n",
    "le = .1\n",
    "re = .15\n",
    "be = .275\n",
    "te = .15\n",
    "hg = .08\n",
    "h = 1. - te - be\n",
    "w = (1. - le - re - 2*hg) / 3.\n",
    "axes = np.empty(3, dtype=object)\n",
    "axes[:] = [fig.add_axes([le + ii*(w + hg), be, w, h]) for ii in range(3)]\n",
    "\n",
    "# Label adjustments\n",
    "subplot_x = -0.18\n",
    "subplot_y = 1.12\n",
    "title_pad = 5\n",
    "# Line settings\n",
    "lw = 1\n",
    "line_alpha = 0.8\n",
    "# Fill settings\n",
    "fill_alpha = 0.3\n",
    "# Legend settings\n",
    "handlelength = 0.3\n",
    "handletextpad = 0.3\n",
    "# 25%, 50%, and 75% of the [85, 95]% range\n",
    "lower_q = 87.5\n",
    "upper_q = 92.5\n",
    "middle_q = 0.5 * (upper_q + lower_q)\n",
    "\n",
    "# Enumerate over results\n",
    "for idx, result in enumerate(results):\n",
    "    # Iterate over null models\n",
    "    for group, model, label in zip(percentile_groups, models, labels):\n",
    "        # Calculate median and bounds for each null model\n",
    "        percentiles = result[group][:]\n",
    "        lower, middle, upper = np.percentile(percentiles, q=[lower_q, middle_q, upper_q], axis=1)\n",
    "\n",
    "        axes[idx].plot(\n",
    "            dims,\n",
    "            middle,\n",
    "            linewidth=lw,\n",
    "            color=colors[model],\n",
    "            label=label)\n",
    "\n",
    "        axes[idx].fill_between(\n",
    "            x=dims,\n",
    "            y1=lower,\n",
    "            y2=upper,\n",
    "            color=colors[model],\n",
    "            alpha=fill_alpha,\n",
    "            ec='none')\n",
    "    axes[idx].axhline(lower_q / 100, linestyle='--', color='k', lw=lw)\n",
    "    axes[idx].axhline(upper_q / 100, linestyle='--', color='k', lw=lw)\n",
    "\n",
    "for idx, ax in enumerate(axes):\n",
    "    ax.set_xlim([3, 20])\n",
    "    ax.set_ylim([0, 1.05])\n",
    "    ax.set_xticks([3, 5, 10, 15, 20])\n",
    "    ax.set_yticks([0, .5, 1])\n",
    "    ax.tick_params(labelsize=tick_label_size)\n",
    "    \n",
    "    ax.set_xlabel('Dimension', fontsize=ax_label_size)\n",
    "    ax.set_title(titles[idx], fontsize=ax_label_size, pad=title_pad)\n",
    "    \n",
    "axes[0].set_ylabel('Percentile', fontsize=ax_label_size)\n",
    "axes[2].legend(\n",
    "    loc='center left',\n",
    "    bbox_to_anchor=(1.05, 0.5),\n",
    "    prop={'size': legend_size})\n",
    "\n",
    "y = .91\n",
    "lets = ['a', 'b', 'c']\n",
    "for ii, x in enumerate([le + ii*(w + hg) - .05 for ii in range(3)]):\n",
    "    fig.text(x, y, lets[ii], size=letter_size, fontweight='bold')\n",
    "\n",
    "\n",
    "plt.savefig('figure5.pdf', dpi=300)\n",
    "plt.savefig('figure5.jpg', dpi=300)"
   ]
  },
  {
   "cell_type": "code",
   "execution_count": null,
   "id": "c26718b0-6599-4202-bd8f-899a9e3492f2",
   "metadata": {},
   "outputs": [],
   "source": []
  }
 ],
 "metadata": {
  "kernelspec": {
   "display_name": "Python 3",
   "language": "python",
   "name": "python3"
  },
  "language_info": {
   "codemirror_mode": {
    "name": "ipython",
    "version": 3
   },
   "file_extension": ".py",
   "mimetype": "text/x-python",
   "name": "python",
   "nbconvert_exporter": "python",
   "pygments_lexer": "ipython3",
   "version": "3.8.10"
  }
 },
 "nbformat": 4,
 "nbformat_minor": 5
}

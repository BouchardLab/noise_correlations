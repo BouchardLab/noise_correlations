{
 "cells": [
  {
   "cell_type": "code",
   "execution_count": 1,
   "id": "1e25d61b",
   "metadata": {},
   "outputs": [],
   "source": [
    "import h5py\n",
    "import matplotlib.pyplot as plt\n",
    "import mpl_lego as mplego\n",
    "import neuropacks as packs\n",
    "import numpy as np\n",
    "import os\n",
    "import pickle\n",
    "from scipy.stats import bootstrap\n",
    "\n",
    "from mpl_lego.ellipse import plot_cov_ellipse\n",
    "from noise_correlations import analysis, utils\n",
    "from settings import (colors, titles, ax_label_size, tick_label_size,\n",
    "                      letter_size, legend_size, lw, line_alpha, fill_alpha)\n",
    "from settings import (plot_lower, plot_upper, stats_frac_lower,\n",
    "                      stats_frac_upper, select_lower, select_upper,\n",
    "                      p_lower, p_upper, p_middle, stats_frac_middle,\n",
    "                      ci, title_pad)"
   ]
  },
  {
   "cell_type": "code",
   "execution_count": 2,
   "id": "a55a894f",
   "metadata": {},
   "outputs": [],
   "source": [
    "exp = 10\n",
    "base_path = f\"/storage/noise_correlations/exp{exp}\"\n",
    "grid_path = '/storage/noise_correlations/grdid.mat'\n",
    "loc = 'data'\n",
    "loc = 'noise_correlations'"
   ]
  },
  {
   "cell_type": "code",
   "execution_count": 3,
   "id": "77bbb080",
   "metadata": {},
   "outputs": [],
   "source": [
    "ret2_path = os.path.join(base_path, f'exp{exp}_ret2_20_1000_1000.h5')\n",
    "pvc11_1_path = os.path.join(base_path, f'exp{exp}_1_pvc11_20_1000_1000.h5')\n",
    "ecog_path = os.path.join(base_path, f'exp{exp}_ecog_20_3000_1000.h5')\n",
    "roi_path = os.path.join(f\"/storage/{loc}/ret2/roi_positions.mat\")\n",
    "# Extra datasets\n",
    "# pvc11_2_path = os.path.join(base_path, 'exp09_2_pvc11_15_1000_1000.h5')\n",
    "# pvc11_3_path = os.path.join(base_path, 'exp09_3_pvc11_15_1000_1000.h5')"
   ]
  },
  {
   "cell_type": "code",
   "execution_count": 4,
   "id": "3d09c6b5",
   "metadata": {},
   "outputs": [],
   "source": [
    "ret2 = h5py.File(ret2_path, 'r')\n",
    "pvc11_1 = h5py.File(pvc11_1_path, 'r')\n",
    "ecog = h5py.File(ecog_path, 'r')\n",
    "results = [ret2, pvc11_1, ecog]\n",
    "\n",
    "# Extra datasets\n",
    "# pvc11_2 = h5py.File(pvc11_2_path, 'r')\n",
    "# pvc11_3 = h5py.File(pvc11_3_path, 'r')"
   ]
  },
  {
   "cell_type": "code",
   "execution_count": 5,
   "id": "7b181166",
   "metadata": {},
   "outputs": [],
   "source": [
    "n_max_units = ret2['units'].shape[2]\n",
    "dims = 3 + np.arange(n_max_units - 2)\n",
    "n_results = len(results)"
   ]
  },
  {
   "cell_type": "markdown",
   "id": "143a4ab3-d8d6-4178-80ab-3577b60b87eb",
   "metadata": {},
   "source": [
    "# Activity"
   ]
  },
  {
   "cell_type": "code",
   "execution_count": 6,
   "id": "94296ade-6074-4968-a9f0-970c10274ed7",
   "metadata": {},
   "outputs": [],
   "source": [
    "# RET2\n",
    "ret2_data_path = f'/storage/{loc}/ret2/200114_fov1_data.mat'\n",
    "ret2_pack = packs.RET2(data_path=ret2_data_path)\n",
    "X_ret2 = ret2_pack.get_response_matrix(cells='tuned', response='max')\n",
    "# PVC11 - 1\n",
    "pvc11_1_data_path = f'/storage/{loc}/pvc11/data/spikes_gratings/data_monkey1_gratings.mat'\n",
    "pvc11_1_pack = packs.PVC11(data_path=pvc11_1_data_path)\n",
    "X_pvc11 = pvc11_1_pack.get_response_matrix(transform=None)\n",
    "# ECOG\n",
    "ecog_data_path = f'/storage/{loc}/ecog/r32_b7.mat'\n",
    "ecog_pack = packs.ECOG(data_path=ecog_data_path)\n",
    "X_ecog = ecog_pack.get_response_matrix(bounds=[40, 60], band='HG', electrodes=ecog_pack.pac_idxs)"
   ]
  },
  {
   "cell_type": "code",
   "execution_count": 7,
   "id": "bcde27d6-e7dc-46e6-92bf-48f8711d53f1",
   "metadata": {},
   "outputs": [],
   "source": [
    "mu_ret2 = np.zeros((ret2_pack.n_angles, X_ret2.shape[1]))\n",
    "mu_pvc11 = np.zeros((pvc11_1_pack.n_stimuli, X_pvc11.shape[1]))\n",
    "mu_ecog = np.zeros((ecog_pack.freq_set.size, X_ecog.shape[1]))\n",
    "\n",
    "for idx, angle in enumerate(ret2_pack.unique_angles):\n",
    "    mu_ret2[idx] = X_ret2[ret2_pack.angles == angle].mean(axis=0)\n",
    "\n",
    "for idx, angle in enumerate(pvc11_1_pack.get_angles()):\n",
    "    mu_pvc11[idx] = X_pvc11[pvc11_1_pack.get_design_matrix() == angle].mean(axis=0)\n",
    "    \n",
    "for idx, frequency in enumerate(ecog_pack.freq_set):\n",
    "    mu_ecog[idx] = X_ecog[ecog_pack.get_design_matrix('frequency') == frequency].mean(axis=0)\n",
    "\n",
    "rank_ret2 = -np.argsort(mu_ret2, axis=0)\n",
    "rank_pvc11 = -np.argsort(mu_pvc11, axis=0)\n",
    "rank_ecog = -np.argsort(mu_ecog, axis=0)\n",
    "ranks = [rank_ret2, rank_pvc11, rank_ecog]"
   ]
  },
  {
   "cell_type": "code",
   "execution_count": 8,
   "id": "019f71ed-5a14-4f9d-bb31-03226ae61906",
   "metadata": {},
   "outputs": [],
   "source": [
    "avg_tuning_ranks = []\n",
    "best_tuning_p_rank_fa = np.zeros((3, 18, 3))\n",
    "best_tuning_p_rank_u = np.zeros((3, 18, 3))\n",
    "\n",
    "for result_idx, (result, rank) in enumerate(zip(results, ranks)):\n",
    "    n_dimstims = result['p_r_lfi'].shape[1]\n",
    "    avg_tuning_ranks_temp = np.zeros((dims.size, n_dimstims))\n",
    "    unique_stimuli = np.unique(result['stimuli'][:])\n",
    "\n",
    "    for dim_idx, dim in enumerate(dims):\n",
    "        for dimstim_idx in range(n_dimstims):\n",
    "            units = result['units'][dim_idx, dimstim_idx][:dim]\n",
    "            stims = result['stims'][dim_idx, dimstim_idx]\n",
    "            rank1 = np.mean(rank[unique_stimuli == stims[0]][:, units])\n",
    "            rank2 = np.mean(rank[unique_stimuli == stims[1]][:, units])\n",
    "            total_rank = 0.5 * (rank1 + rank2)\n",
    "            avg_tuning_ranks_temp[dim_idx, dimstim_idx] = total_rank\n",
    "    avg_tuning_ranks.append(avg_tuning_ranks_temp)\n",
    "    \n",
    "    for dim_idx, dim in enumerate(dims):\n",
    "        avg_rank_temp = avg_tuning_ranks[-1][dim_idx]\n",
    "        rank_lower, rank_upper = np.percentile(avg_rank_temp, q=[select_lower, select_upper])\n",
    "        p_fa_lfi_slice = result['p_fa_lfi'][dim_idx][(avg_rank_temp > rank_lower) &\n",
    "                                                     (avg_rank_temp <= rank_upper)]\n",
    "        p_u_lfi_slice = result['p_u_lfi'][dim_idx][(avg_rank_temp > rank_lower) &\n",
    "                                                   (avg_rank_temp <= rank_upper)]\n",
    "#         best_tuning_p_rank_fa[result_idx, dim_idx] = np.percentile(p_fa_lfi_slice, q=[stats_frac_lower,\n",
    "#                                                                                       stats_frac_middle,\n",
    "#                                                                                       stats_frac_upper])\n",
    "#         best_tuning_p_rank_u[result_idx, dim_idx] = np.percentile(p_u_lfi_slice, q=[stats_frac_lower,\n",
    "#                                                                                       stats_frac_middle,\n",
    "#                                                                                       stats_frac_upper])\n",
    "        best_tuning_p_rank_fa[result_idx, dim_idx] = utils.run_bootstrap(p_fa_lfi_slice, np.median, ci)\n",
    "        best_tuning_p_rank_u[result_idx, dim_idx] = utils.run_bootstrap(p_u_lfi_slice, np.median, ci)"
   ]
  },
  {
   "cell_type": "markdown",
   "id": "bc9538ef-000b-4287-b6c8-195275c09fb9",
   "metadata": {
    "tags": []
   },
   "source": [
    "# Positions"
   ]
  },
  {
   "cell_type": "code",
   "execution_count": 9,
   "id": "db71f169-b2d3-4df0-b3dc-755708c02259",
   "metadata": {},
   "outputs": [],
   "source": [
    "with h5py.File(roi_path, 'r') as f:\n",
    "    positions = f['xyPosDS'][:]\n",
    "ret2_distances = np.linalg.norm(positions[:, :, np.newaxis] - positions[:, np.newaxis, :], axis=0)"
   ]
  },
  {
   "cell_type": "code",
   "execution_count": 10,
   "id": "b1737ab4-4373-4fae-a954-cea7715c9a5b",
   "metadata": {},
   "outputs": [],
   "source": [
    "positions = []\n",
    "ecog_pack.read_grid(grid_path)\n",
    "for idx in ecog_pack.pac_idxs:\n",
    "    positions.append(ecog_pack.get_xy_for_electrode(idx))\n",
    "positions = np.array(positions).T\n",
    "ecog_distances = np.linalg.norm(positions[:, :, np.newaxis] - positions[:, np.newaxis, :], axis=0)"
   ]
  },
  {
   "cell_type": "code",
   "execution_count": 11,
   "id": "50feff94-338b-4d09-9074-a636a315846f",
   "metadata": {},
   "outputs": [],
   "source": [
    "n_ret2_dimlets = 1000\n",
    "n_ret2_dimstims = ret2['p_fa_lfi'].shape[1]\n",
    "dimlet_distances = np.zeros((dims.size, n_ret2_dimstims))\n",
    "\n",
    "units = ret2['units'][:]\n",
    "for dim_idx, dim in enumerate(dims):\n",
    "    for dimlet_idx in range(n_ret2_dimstims):\n",
    "        unit_temp = units[dim_idx, dimlet_idx, :dim]\n",
    "        tri_idx = np.triu_indices(dim, k=1)\n",
    "        mean_dist = np.mean(ret2_distances[unit_temp][:, unit_temp][tri_idx])\n",
    "        dimlet_distances[dim_idx, dimlet_idx] = mean_dist\n",
    "\n",
    "ret2_rank_distances = np.argsort(-dimlet_distances, axis=1)"
   ]
  },
  {
   "cell_type": "code",
   "execution_count": 12,
   "id": "15b60551-050b-4b52-aa2a-bae99e90d5c2",
   "metadata": {},
   "outputs": [],
   "source": [
    "n_ecog_dimlets = 1000\n",
    "n_ecog_dimstims = ecog['p_fa_lfi'].shape[1]\n",
    "dimlet_distances = np.zeros((dims.size, n_ecog_dimstims))\n",
    "\n",
    "units = ecog['units'][:]\n",
    "for dim_idx, dim in enumerate(dims):\n",
    "    for dimlet_idx in range(n_ecog_dimstims):\n",
    "        unit_temp = units[dim_idx, dimlet_idx, :dim]\n",
    "        tri_idx = np.triu_indices(dim, k=1)\n",
    "        mean_dist = np.mean(ecog_distances[unit_temp][:, unit_temp][tri_idx])\n",
    "        dimlet_distances[dim_idx, dimlet_idx] = mean_dist\n",
    "\n",
    "ecog_rank_distances = np.argsort(-dimlet_distances, axis=1)"
   ]
  },
  {
   "cell_type": "code",
   "execution_count": 52,
   "id": "68060447-688a-43bd-864f-f0738f821037",
   "metadata": {},
   "outputs": [],
   "source": [
    "ret2_best_position_p_rank_fa = np.zeros((18, 3))\n",
    "ret2_best_position_p_rank_u = np.zeros((18, 3))\n",
    "ecog_best_position_p_rank_fa = np.zeros((18, 3))\n",
    "ecog_best_position_p_rank_u = np.zeros((18, 3))\n",
    "\n",
    "for dim_idx, dim in enumerate(dims):\n",
    "    rank_temp = ret2_rank_distances[dim_idx]\n",
    "    rank_lower, rank_upper = np.percentile(rank_temp, q=[select_lower, select_upper])\n",
    "    p_fa_lfi_slice = ret2['p_fa_lfi'][dim_idx][(rank_temp > rank_lower) & (rank_temp <= rank_upper)]\n",
    "    p_u_lfi_slice = ret2['p_u_lfi'][dim_idx][(rank_temp > rank_lower) & (rank_temp <= rank_upper)]\n",
    "#     ret2_best_position_p_rank_fa[result_idx, dim_idx] = np.percentile(p_fa_lfi_slice, q=[stats_frac_lower,\n",
    "#                                                                                       stats_frac_middle,\n",
    "#                                                                                       stats_frac_upper])\n",
    "#     ret2_best_position_p_rank_u[result_idx, dim_idx] = np.percentile(p_u_lfi_slice, q=[stats_frac_lower,\n",
    "#                                                                                       stats_frac_middle,\n",
    "#                                                                                       stats_frac_upper])\n",
    "    ret2_best_position_p_rank_fa[dim_idx] = utils.run_bootstrap(p_fa_lfi_slice, np.median, ci)\n",
    "    ret2_best_position_p_rank_u[dim_idx] = utils.run_bootstrap(p_u_lfi_slice, np.median, ci)\n",
    "    \n",
    "    rank_temp = ecog_rank_distances[dim_idx]\n",
    "    rank_lower, rank_upper = np.percentile(rank_temp, q=[select_lower, select_upper])\n",
    "    p_fa_lfi_slice = ecog['p_fa_lfi'][dim_idx][(rank_temp > rank_lower) & (rank_temp <= rank_upper)]\n",
    "    p_u_lfi_slice = ecog['p_u_lfi'][dim_idx][(rank_temp > rank_lower) & (rank_temp <= rank_upper)]\n",
    "#     ecog_best_position_p_rank_fa[result_idx, dim_idx] = np.percentile(p_fa_lfi_slice, q=[stats_frac_lower,\n",
    "#                                                                                       stats_frac_middle,\n",
    "#                                                                                       stats_frac_upper])\n",
    "#     ecog_best_position_p_rank_u[result_idx, dim_idx] = np.percentile(p_u_lfi_slice, q=[stats_frac_lower,\n",
    "#                                                                                       stats_frac_middle,\n",
    "#                                                                                       stats_frac_upper])\n",
    "    ecog_best_position_p_rank_fa[dim_idx] = utils.run_bootstrap(p_fa_lfi_slice, np.median, ci)\n",
    "    ecog_best_position_p_rank_u[dim_idx] = utils.run_bootstrap(p_u_lfi_slice, np.median, ci)"
   ]
  },
  {
   "cell_type": "markdown",
   "id": "f510f69c-978d-41db-87e3-d13b6d3b838c",
   "metadata": {},
   "source": [
    "# Fractions"
   ]
  },
  {
   "cell_type": "code",
   "execution_count": 14,
   "id": "0ea06b1a-9b1c-4f31-ae78-6f8bc69ec1dc",
   "metadata": {},
   "outputs": [],
   "source": [
    "fraction_fa = np.zeros((3, 18, 3))\n",
    "fraction_u = np.zeros((3, 18, 3))\n",
    "\n",
    "for idx, result in enumerate(results):\n",
    "        percentiles = result['p_fa_lfi'][:]\n",
    "        fraction_fa[idx] = utils.run_bootstrap(percentiles, utils.find_fraction, ci)\n",
    "\n",
    "        percentiles = result['p_u_lfi'][:]\n",
    "        fraction_u[idx] = utils.run_bootstrap(percentiles, utils.find_fraction, ci)"
   ]
  },
  {
   "cell_type": "code",
   "execution_count": 19,
   "id": "38c48e36",
   "metadata": {},
   "outputs": [],
   "source": [
    "groups = [\n",
    "    'v_lfi',\n",
    "    'v_s_lfi',\n",
    "    'v_u_lfi',\n",
    "    'v_fa_lfi'\n",
    "]\n",
    "labels = [\n",
    "    'UC',\n",
    "    'FA'\n",
    "]\n",
    "percentile_groups = [\n",
    "    'p_u_lfi',\n",
    "    'p_fa_lfi'\n",
    "]\n",
    "models = [\n",
    "    'uniform',\n",
    "    'fa'\n",
    "]\n",
    "\n",
    "fractions = [np.clip(fraction_u, 0, 1), np.clip(fraction_fa, 0, 1)]"
   ]
  },
  {
   "cell_type": "code",
   "execution_count": 67,
   "id": "43e10c0a-73e1-46a3-a482-184fe19fad5a",
   "metadata": {},
   "outputs": [
    {
     "name": "stdout",
     "output_type": "stream",
     "text": [
      "0.024999999999999994 0.9550000000000001\n",
      "0.3433333333333333 0.9550000000000001\n",
      "0.6616666666666666 0.9550000000000001\n",
      "0.024999999999999994 0.4625\n",
      "0.3433333333333333 0.4625\n",
      "0.6616666666666666 0.4625\n"
     ]
    },
    {
     "data": {
      "image/png": "[encoded data removed]",
      "text/plain": [
       "<Figure size 432x288 with 6 Axes>"
      ]
     },
     "metadata": {
      "needs_background": "light"
     },
     "output_type": "display_data"
    }
   ],
   "source": [
    "fig = plt.figure(figsize=(6, 4))\n",
    "\n",
    "le = .095\n",
    "re = .03\n",
    "be = .1\n",
    "te = .065\n",
    "hg = .08\n",
    "vg = .15\n",
    "h = (1. - te - be - vg) / 2.\n",
    "w = (1. - le - re - 2*hg) / 3.\n",
    "axes = np.empty((2, 3), dtype=object)\n",
    "axes[0] = [fig.add_axes([le + ii*(w + hg), be + h + vg, w, h]) for ii in range(3)]\n",
    "axes[1] = [fig.add_axes([le + ii*(w + hg), be, w, h]) for ii in range(3)]\n",
    "\n",
    "# Label adjustments\n",
    "subplot_x = -0.18\n",
    "subplot_y = 1.12\n",
    "# Line settings\n",
    "lw = 1\n",
    "line_alpha = 0.8\n",
    "# Fill settings\n",
    "fill_alpha = 0.3\n",
    "# Legend settings\n",
    "handlelength = 0.3\n",
    "handletextpad = 0.3\n",
    "\n",
    "# Enumerate over results\n",
    "for idx, result in enumerate(results):\n",
    "    # Iterate over null models\n",
    "    n_ds = result['p_fa_lfi'].shape[1]\n",
    "    axes[1, idx].axhline(plot_upper, linestyle='--', color='k', lw=lw, label='Uniform Dist.')\n",
    "    axes[1, idx].axhline(1./n_ds, linestyle=':', color='gray', lw=lw, label='Min.')\n",
    "    for group, model, label, fraction in zip(percentile_groups, models, labels, fractions):\n",
    "        # Calculate median and bounds for each null model\n",
    "        axes[1, idx].plot(\n",
    "            dims,\n",
    "            fraction[idx, :, 1],\n",
    "            linewidth=lw,\n",
    "            color=colors[model])\n",
    "        axes[1, idx].fill_between(\n",
    "        x=dims,\n",
    "        y1=fraction[idx, :, 0],\n",
    "        y2=fraction[idx, :, 2],\n",
    "        color=colors[model],\n",
    "        alpha=fill_alpha,\n",
    "        ec='none')\n",
    "\n",
    "    # Average rank over dimensions\n",
    "    axes[0, idx].plot(\n",
    "        dims,\n",
    "        best_tuning_p_rank_u[idx, :, 1],\n",
    "        linewidth=lw,\n",
    "        alpha=line_alpha,\n",
    "        color=colors['uniform'],\n",
    "        label=labels[0])\n",
    "\n",
    "    axes[0, idx].fill_between(\n",
    "        x=dims,\n",
    "        y1=best_tuning_p_rank_u[idx, :, 0],\n",
    "        y2=best_tuning_p_rank_u[idx, :, 2],\n",
    "        color=colors['uniform'],\n",
    "        alpha=fill_alpha,\n",
    "        ec='none')\n",
    "    \n",
    "        # Average rank over dimensions\n",
    "    axes[0, idx].plot(\n",
    "        dims,\n",
    "        best_tuning_p_rank_fa[idx, :, 1],\n",
    "        linewidth=lw,\n",
    "        alpha=line_alpha,\n",
    "        color=colors['fa'],\n",
    "        label=labels[1])\n",
    "\n",
    "    axes[0, idx].fill_between(\n",
    "        x=dims,\n",
    "        y1=best_tuning_p_rank_fa[idx, :, 0],\n",
    "        y2=best_tuning_p_rank_fa[idx, :, 2],\n",
    "        color=colors['fa'],\n",
    "        alpha=fill_alpha,\n",
    "        ec='none')\n",
    "\n",
    "axes[0, 0].plot(\n",
    "    dims,\n",
    "    ret2_best_position_p_rank_u[:, 1],\n",
    "    linewidth=lw,\n",
    "    linestyle=':',\n",
    "    alpha=line_alpha,\n",
    "    color=colors['uniform'])\n",
    "\n",
    "axes[0, 0].fill_between(\n",
    "    x=dims,\n",
    "    y1=ret2_best_position_p_rank_u[:, 0],\n",
    "    y2=ret2_best_position_p_rank_u[:, 2],\n",
    "    color=colors['uniform'],\n",
    "    hatch='//',\n",
    "    alpha=fill_alpha,\n",
    "    ec='none')\n",
    "\n",
    "axes[0, 0].plot(\n",
    "    dims,\n",
    "    ret2_best_position_p_rank_fa[:, 1],\n",
    "    linewidth=lw,\n",
    "    linestyle=':',\n",
    "    alpha=line_alpha,\n",
    "    color=colors['fa'])\n",
    "\n",
    "\n",
    "axes[0, 0].fill_between(\n",
    "    x=dims,\n",
    "    y1=ret2_best_position_p_rank_fa[:, 0],\n",
    "    y2=ret2_best_position_p_rank_fa[:, 2],\n",
    "    color=colors['fa'],\n",
    "    hatch='//',\n",
    "    alpha=fill_alpha,\n",
    "    ec='none')\n",
    "\n",
    "axes[0, 2].plot(\n",
    "    dims,\n",
    "    ecog_best_position_p_rank_u[:, 1],\n",
    "    linewidth=lw,\n",
    "    linestyle=':',\n",
    "    alpha=line_alpha,\n",
    "    color=colors['uniform'])\n",
    "\n",
    "axes[0, 2].fill_between(\n",
    "    x=dims,\n",
    "    y1=ecog_best_position_p_rank_u[:, 0],\n",
    "    y2=ecog_best_position_p_rank_u[:, 2],\n",
    "    color=colors['uniform'],\n",
    "    hatch='//',\n",
    "    alpha=fill_alpha,\n",
    "    ec='none')\n",
    "\n",
    "axes[0, 2].plot(\n",
    "    dims,\n",
    "    ecog_best_position_p_rank_fa[:, 1],\n",
    "    linewidth=lw,\n",
    "    linestyle=':',\n",
    "    alpha=line_alpha,\n",
    "    color=colors['fa'])\n",
    "axes[0, 0].plot(\n",
    "    [],\n",
    "    [],\n",
    "    linewidth=lw,\n",
    "    linestyle=':',\n",
    "    alpha=line_alpha,\n",
    "    label='Distance',\n",
    "    color='k')\n",
    "axes[0, 0].plot(\n",
    "    [],\n",
    "    [],\n",
    "    linewidth=lw,\n",
    "    alpha=line_alpha,\n",
    "    label='Tuning',\n",
    "    color='k')\n",
    "\n",
    "axes[0, 2].fill_between(\n",
    "    x=dims,\n",
    "    y1=ecog_best_position_p_rank_fa[:, 0],\n",
    "    y2=ecog_best_position_p_rank_fa[:, 2],\n",
    "    color=colors['fa'],\n",
    "    hatch='//',\n",
    "    alpha=fill_alpha,\n",
    "    ec='none')\n",
    "axes[0, 0].legend(\n",
    "    ncol=2,\n",
    "    loc='upper left',\n",
    "    prop={'size': legend_size},\n",
    "    columnspacing=1,\n",
    "    handlelength=1)\n",
    "\n",
    "\n",
    "axes[0, 2].text(21, 5/6, 'Opt', va='center', ha='center', rotation=-90, fontsize=tick_label_size)\n",
    "axes[0, 2].text(21, 3/6, 'NC', va='center', ha='center', rotation=-90, fontsize=tick_label_size)\n",
    "axes[0, 2].text(21, 1/6, 'Sub', va='center', ha='center', rotation=-90, fontsize=tick_label_size)\n",
    "\n",
    "for idx, ax in enumerate(axes[0]):\n",
    "    ax.set_ylim([0, 1.05])\n",
    "    ax.set_yticks([0, .5, 1])\n",
    "    ax.axhline(plot_lower, linestyle='--', color='k', lw=lw)\n",
    "    ax.axhline(plot_upper, linestyle='--', color='k', lw=lw)\n",
    "    ax.set_title(titles[idx], fontsize=ax_label_size, pad=title_pad)\n",
    "axes[0, 0].set_ylabel('Percentile', fontsize=ax_label_size)\n",
    "\n",
    "for idx, ax in enumerate(axes[1].ravel()):\n",
    "    ax.set_yscale('log')\n",
    "    ax.set_yticks([1e-4, 1e-3, 1e-2, 1e-1, 1])\n",
    "    axes[1, idx].set_ylim([0.5/12000, 1.])\n",
    "axes[1, 0].set_ylabel('Optimal fraction', fontsize=ax_label_size)\n",
    "axes[1, 0].legend(\n",
    "    loc='upper right',\n",
    "    prop={'size': legend_size},\n",
    "    columnspacing=1,\n",
    "    handlelength=1)\n",
    "    \n",
    "for idx, ax in enumerate(axes.ravel()):\n",
    "    ax.set_xlim([2.5, 20.5])\n",
    "    ax.set_xticks([3, 5, 10, 15, 20])\n",
    "    ax.tick_params(labelsize=tick_label_size)\n",
    "    ax.set_xlabel('Dimension', fontsize=ax_label_size)\n",
    "    \n",
    "\n",
    "lets = ['a', 'b', 'c', 'd', 'e', 'f']\n",
    "c = 0\n",
    "for y in [1. - te - jj*(vg + h) + .02 for jj in range(2)]:\n",
    "    for ii, x in enumerate([le + ii*(w + hg) - .07 for ii in range(3)]):\n",
    "        print(x, y)\n",
    "        fig.text(x, y, lets[c], size=letter_size, fontweight='bold')\n",
    "        c += 1\n",
    "\n",
    "plt.savefig('figure5.pdf', dpi=300)\n",
    "plt.savefig('figure5.jpg', dpi=300)"
   ]
  },
  {
   "cell_type": "markdown",
   "id": "dafc3fa1-8d79-429d-86da-81cc216a8403",
   "metadata": {},
   "source": [
    "## Original medians"
   ]
  },
  {
   "cell_type": "code",
   "execution_count": 60,
   "id": "f8f3ce0f-67fa-46bb-9925-d9159a3a72a8",
   "metadata": {},
   "outputs": [
    {
     "name": "stdout",
     "output_type": "stream",
     "text": [
      "[0.174 0.102 0.06  0.034 0.021 0.012 0.007 0.004 0.002 0.001 0.001 0.\n",
      " 0.    0.    0.    0.    0.    0.   ]\n",
      "[0.206 0.143 0.094 0.063 0.039 0.025 0.014 0.009 0.005 0.003 0.002 0.001\n",
      " 0.    0.    0.    0.    0.    0.   ]\n",
      "[0.222 0.134 0.085 0.058 0.038 0.026 0.014 0.009 0.005 0.003 0.002 0.001\n",
      " 0.001 0.    0.    0.    0.    0.   ]\n",
      "\n",
      "[0.315  0.243  0.1885 0.15   0.117  0.0855 0.067  0.047  0.038  0.026\n",
      " 0.02   0.013  0.01   0.006  0.005  0.003  0.002  0.001 ]\n",
      "[0.2295 0.19   0.131  0.089  0.057  0.037  0.019  0.011  0.006  0.004\n",
      " 0.002  0.001  0.     0.     0.     0.     0.     0.    ]\n",
      "[0.071 0.021 0.004 0.001 0.    0.    0.    0.    0.    0.    0.    0.\n",
      " 0.    0.    0.    0.    0.    0.   ]\n"
     ]
    }
   ],
   "source": [
    "print(\"\"\"[0.174 0.102 0.06  0.034 0.021 0.012 0.007 0.004 0.002 0.001 0.001 0.\n",
    " 0.    0.    0.    0.    0.    0.   ]\n",
    "[0.206 0.143 0.094 0.063 0.039 0.025 0.014 0.009 0.005 0.003 0.002 0.001\n",
    " 0.    0.    0.    0.    0.    0.   ]\n",
    "[0.222 0.134 0.085 0.058 0.038 0.026 0.014 0.009 0.005 0.003 0.002 0.001\n",
    " 0.001 0.    0.    0.    0.    0.   ]\"\"\")\n",
    "print()\n",
    "print(\"\"\"[0.315  0.243  0.1885 0.15   0.117  0.0855 0.067  0.047  0.038  0.026\n",
    " 0.02   0.013  0.01   0.006  0.005  0.003  0.002  0.001 ]\n",
    "[0.2295 0.19   0.131  0.089  0.057  0.037  0.019  0.011  0.006  0.004\n",
    " 0.002  0.001  0.     0.     0.     0.     0.     0.    ]\n",
    "[0.071 0.021 0.004 0.001 0.    0.    0.    0.    0.    0.    0.    0.\n",
    " 0.    0.    0.    0.    0.    0.   ]\"\"\")"
   ]
  },
  {
   "cell_type": "markdown",
   "id": "909d8478-017d-409a-938d-6c4b2d274c36",
   "metadata": {},
   "source": [
    "## Tuning medians"
   ]
  },
  {
   "cell_type": "code",
   "execution_count": 62,
   "id": "45477a32-6433-41c4-86c5-ff423586bb50",
   "metadata": {},
   "outputs": [
    {
     "name": "stdout",
     "output_type": "stream",
     "text": [
      "[[False False False False False False False False False False False False\n",
      "  False False False False False False]\n",
      " [False False False False False False False False False False False False\n",
      "  False False False False False False]\n",
      " [ True False False False False False False False False False False False\n",
      "  False False False False False False]]\n",
      "\n",
      "[[0.31   0.246  0.218  0.129  0.1275 0.069  0.059  0.044  0.048  0.031\n",
      "  0.02   0.017  0.013  0.009  0.007  0.004  0.003  0.002 ]\n",
      " [0.211  0.135  0.102  0.061  0.029  0.018  0.009  0.004  0.001  0.001\n",
      "  0.     0.     0.     0.     0.     0.     0.     0.    ]\n",
      " [0.1645 0.053  0.0095 0.002  0.001  0.     0.     0.     0.     0.\n",
      "  0.     0.     0.     0.     0.     0.     0.     0.    ]]\n"
     ]
    }
   ],
   "source": [
    "print(best_tuning_p_rank_u[:, :, 1])\n",
    "print()\n",
    "print(best_tuning_p_rank_fa[:, :, 1])"
   ]
  },
  {
   "cell_type": "markdown",
   "id": "0e49307c-d428-4686-893c-bd4d3e47812a",
   "metadata": {},
   "source": [
    "## Distance medians"
   ]
  },
  {
   "cell_type": "code",
   "execution_count": 56,
   "id": "1e8c9166-362d-4e59-995c-0f883cd8ebc5",
   "metadata": {},
   "outputs": [
    {
     "name": "stdout",
     "output_type": "stream",
     "text": [
      "[0.1725 0.101  0.0645 0.035  0.022  0.012  0.007  0.004  0.002  0.001\n",
      " 0.001  0.     0.     0.     0.     0.     0.     0.    ]\n",
      "[0.2065 0.121  0.086  0.038  0.0335 0.0395 0.0205 0.006  0.004  0.005\n",
      " 0.002  0.002  0.001  0.     0.0005 0.     0.     0.    ]\n",
      "\n",
      "[0.293  0.2295 0.221  0.147  0.1305 0.088  0.067  0.0505 0.038  0.022\n",
      " 0.026  0.012  0.008  0.007  0.006  0.004  0.002  0.002 ]\n",
      "[0.0705 0.019  0.004  0.001  0.     0.     0.     0.     0.     0.\n",
      " 0.     0.     0.     0.     0.     0.     0.     0.    ]\n"
     ]
    }
   ],
   "source": [
    "print(ret2_best_position_p_rank_u[:, 1])\n",
    "print(ecog_best_position_p_rank_u[:, 1])\n",
    "print()\n",
    "print(ret2_best_position_p_rank_fa[:, 1])\n",
    "print(ecog_best_position_p_rank_fa[:, 1])"
   ]
  },
  {
   "cell_type": "markdown",
   "id": "43699082-f2de-4b2a-8180-06fbbf0e7e21",
   "metadata": {},
   "source": [
    "## FF/ND medians, FA only"
   ]
  },
  {
   "cell_type": "code",
   "execution_count": 65,
   "id": "71cae2cb-1a5b-4839-984f-23e05c2b7ce4",
   "metadata": {},
   "outputs": [
    {
     "name": "stdout",
     "output_type": "stream",
     "text": [
      "[[0.311  0.2205 0.175  0.164  0.1145 0.0925 0.073  0.059  0.046  0.025\n",
      "  0.021  0.013  0.0115 0.0075 0.005  0.004  0.002  0.002 ]\n",
      " [0.216  0.189  0.14   0.091  0.0615 0.036  0.019  0.0115 0.005  0.004\n",
      "  0.002  0.001  0.001  0.     0.     0.     0.     0.    ]\n",
      " [0.0515 0.021  0.002  0.002  0.     0.     0.     0.     0.     0.\n",
      "  0.     0.     0.     0.     0.     0.     0.     0.    ]]\n"
     ]
    }
   ],
   "source": [
    "print(np.array([[0.311 , 0.2205, 0.175 , 0.164 , 0.1145, 0.0925, 0.073 , 0.059 ,\n",
    "        0.046 , 0.025 , 0.021 , 0.013 , 0.0115, 0.0075, 0.005 , 0.004 ,\n",
    "        0.002 , 0.002 ],\n",
    "       [0.216 , 0.189 , 0.14  , 0.091 , 0.0615, 0.036 , 0.019 , 0.0115,\n",
    "        0.005 , 0.004 , 0.002 , 0.001 , 0.001 , 0.    , 0.    , 0.    ,\n",
    "        0.    , 0.    ],\n",
    "       [0.0515, 0.021 , 0.002 , 0.002 , 0.    , 0.    , 0.    , 0.    ,\n",
    "        0.    , 0.    , 0.    , 0.    , 0.    , 0.    , 0.    , 0.    ,\n",
    "        0.    , 0.    ]]))"
   ]
  },
  {
   "cell_type": "code",
   "execution_count": null,
   "id": "446ab770-9dac-4b9d-aa44-0046cc307123",
   "metadata": {},
   "outputs": [],
   "source": []
  }
 ],
 "metadata": {
  "kernelspec": {
   "display_name": "Python 3 (ipykernel)",
   "language": "python",
   "name": "python3"
  },
  "language_info": {
   "codemirror_mode": {
    "name": "ipython",
    "version": 3
   },
   "file_extension": ".py",
   "mimetype": "text/x-python",
   "name": "python",
   "nbconvert_exporter": "python",
   "pygments_lexer": "ipython3",
   "version": "3.8.10"
  }
 },
 "nbformat": 4,
 "nbformat_minor": 5
}

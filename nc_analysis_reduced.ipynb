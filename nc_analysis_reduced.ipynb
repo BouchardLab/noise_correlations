{
 "cells": [
  {
   "cell_type": "code",
   "execution_count": 1,
   "metadata": {},
   "outputs": [
    {
     "ename": "ImportError",
     "evalue": "No module named 'sklearn'",
     "output_type": "error",
     "traceback": [
      "\u001b[0;31m---------------------------------------------------------------------------\u001b[0m",
      "\u001b[0;31mImportError\u001b[0m                               Traceback (most recent call last)",
      "\u001b[0;32m<ipython-input-1-0cd1c593fc64>\u001b[0m in \u001b[0;36m<module>\u001b[0;34m()\u001b[0m\n\u001b[1;32m      4\u001b[0m \u001b[0;32mimport\u001b[0m \u001b[0mmatplotlib\u001b[0m\u001b[0;34m.\u001b[0m\u001b[0mpyplot\u001b[0m \u001b[0;32mas\u001b[0m \u001b[0mplt\u001b[0m\u001b[0;34m\u001b[0m\u001b[0m\n\u001b[1;32m      5\u001b[0m \u001b[0;32mimport\u001b[0m \u001b[0mmatplotlib\u001b[0m\u001b[0;34m\u001b[0m\u001b[0m\n\u001b[0;32m----> 6\u001b[0;31m \u001b[0;32mimport\u001b[0m \u001b[0msklearn\u001b[0m\u001b[0;34m.\u001b[0m\u001b[0mlinear_model\u001b[0m\u001b[0;34m\u001b[0m\u001b[0m\n\u001b[0m\u001b[1;32m      7\u001b[0m \u001b[0;32mimport\u001b[0m \u001b[0mh5py\u001b[0m\u001b[0;34m\u001b[0m\u001b[0m\n\u001b[1;32m      8\u001b[0m \u001b[0;32mfrom\u001b[0m \u001b[0mitertools\u001b[0m \u001b[0;32mimport\u001b[0m \u001b[0mcombinations\u001b[0m\u001b[0;34m\u001b[0m\u001b[0m\n",
      "\u001b[0;31mImportError\u001b[0m: No module named 'sklearn'"
     ]
    }
   ],
   "source": [
    "import numpy as np\n",
    "import scipy.io\n",
    "import scipy.linalg\n",
    "import matplotlib.pyplot as plt\n",
    "import matplotlib\n",
    "import sklearn.linear_model\n",
    "import h5py    \n",
    "from itertools import combinations\n",
    "import cPickle as pickle\n",
    "import os\n",
    "\n",
    "%matplotlib inline"
   ]
  },
  {
   "cell_type": "code",
   "execution_count": null,
   "metadata": {
    "collapsed": true
   },
   "outputs": [],
   "source": [
    "def save_object(obj, filename):\n",
    "    \"\"\"\n",
    "    save as filename, increment run order to filename\n",
    "    \n",
    "    Parameters\n",
    "    ----------\n",
    "    obj : numpy array\n",
    "    filename : str\n",
    "    \"\"\"\n",
    "    i = 0\n",
    "    while os.path.exists(filename + \"_\" + str(i) + \".pkl\"):\n",
    "        i += 1\n",
    "    with open(filename + \"_\" + str(i) + \".pkl\", 'wb') as output:  # Overwrites any existing file.\n",
    "            pickle.dump(obj, output, pickle.HIGHEST_PROTOCOL)\n",
    "def load_object(filepath):\n",
    "    \"\"\"\n",
    "    load data\n",
    "    \n",
    "    Parameters\n",
    "    ----------\n",
    "    filepath : str\n",
    "    \"\"\"\n",
    "    if os.path.exists(filepath):\n",
    "        with open(filepath) as file_input:\n",
    "            return pickle.load(file_input)\n",
    "    else:\n",
    "        return None"
   ]
  },
  {
   "cell_type": "code",
   "execution_count": null,
   "metadata": {
    "collapsed": true
   },
   "outputs": [],
   "source": [
    "rat_ids = ['R32_B7','R18_B12','R19_B11','R6_B10','R6_B12']\n",
    "rat_dir = \"/Users/iMax/data/ToneAnalysisDatasets/\"\n",
    "\n",
    "###############  CHANGE THIS!\n",
    "rat_id = rat_ids[0]\n",
    "\n",
    "rat_file = rat_dir + rat_id + '.WVL_CAR1.TN.RspM_TM.mat'\n",
    "f1 = h5py.File(rat_file,'r+') "
   ]
  },
  {
   "cell_type": "code",
   "execution_count": null,
   "metadata": {
    "collapsed": true
   },
   "outputs": [],
   "source": [
    "#RspM is tone response matrix of canonical neural freq bands \n",
    "#stimVls amplitudes and frequencies\n",
    "#f1.keys()"
   ]
  },
  {
   "cell_type": "code",
   "execution_count": null,
   "metadata": {
    "collapsed": true
   },
   "outputs": [],
   "source": [
    "#f1['RspM'].keys()"
   ]
  },
  {
   "cell_type": "code",
   "execution_count": null,
   "metadata": {
    "collapsed": true
   },
   "outputs": [],
   "source": [
    "#101 timepoints 4800 samples (30 freq * 8 amplitude 20 stim samples) 128 electrodes\n",
    "\n",
    "#f1['RspM']['HG']"
   ]
  },
  {
   "cell_type": "code",
   "execution_count": null,
   "metadata": {
    "collapsed": true
   },
   "outputs": [],
   "source": [
    "#2 ampl (value/10) and freq, 4800 samples corresponding to before\n",
    "#f1['stimVls']"
   ]
  },
  {
   "cell_type": "code",
   "execution_count": 8,
   "metadata": {
    "collapsed": true
   },
   "outputs": [],
   "source": [
    "freq_bands = [u'B', u'G', u'HG', u'MUAR', u'Spk', u'UHG']\n",
    "\n",
    "#this is where we would change the high gamma\n",
    "###########Change THIS!!!!!!!!\n",
    "freq_band = freq_bands[2]\n",
    "\n",
    "data = np.array(f1['RspM'][freq_band])\n",
    "stim_vals = np.array(f1['stimVls'])\n",
    "\n",
    "####### this is needed for other rats? (for best frequencies)\n",
    "f2 = h5py.File(rat_dir + 'TN.FRA.anl.mat','r+')\n",
    "data2 = f2['frall'][freq_band][rat_id]\n",
    "\n",
    "results = []"
   ]
  },
  {
   "cell_type": "code",
   "execution_count": 9,
   "metadata": {
    "collapsed": true
   },
   "outputs": [],
   "source": [
    "\n",
    "##########CHANGE THIS!!!!!!!!!\n",
    "save_dir = '/Users/iMax/data/nc_analysis/results/' + rat_id + '/' + freq_band + '/'"
   ]
  },
  {
   "cell_type": "code",
   "execution_count": 10,
   "metadata": {
    "collapsed": true
   },
   "outputs": [],
   "source": [
    "#f2['frall']['HG'][rat_id]['bf_fra']"
   ]
  },
  {
   "cell_type": "code",
   "execution_count": 11,
   "metadata": {
    "collapsed": true
   },
   "outputs": [],
   "source": [
    "#101 timepoints 4800 samples (30 freq * 8 amplitude 20 stim samples) 128 electrodes\n",
    "#print data.shape\n",
    "#2 ampl (value/10) and freq, 4800 samples corresponding to before\n",
    "#print stim_vals.shape"
   ]
  },
  {
   "cell_type": "code",
   "execution_count": 12,
   "metadata": {
    "collapsed": true
   },
   "outputs": [],
   "source": [
    "\n",
    "#########TODO: IS THIS DOING ANYTHING?\n",
    "for dir_1 in rat_ids:\n",
    "    for dir_2 in freq_bands:\n",
    "        directory = 'results/' + dir_1 + '/' + dir_2 + '/runs/'\n",
    "        if not os.path.exists(directory):\n",
    "            os.makedirs(directory)\n",
    "#########################"
   ]
  },
  {
   "cell_type": "code",
   "execution_count": 13,
   "metadata": {
    "collapsed": true
   },
   "outputs": [],
   "source": [
    "# take max of 39 to 79 for 101 timepoints\n",
    "# amplitudes -1 and -2 as two speperate trialsy"
   ]
  },
  {
   "cell_type": "code",
   "execution_count": 14,
   "metadata": {
    "collapsed": true
   },
   "outputs": [],
   "source": [
    "#f2['frall'].keys()\n",
    "#data2.keys()"
   ]
  },
  {
   "cell_type": "code",
   "execution_count": 15,
   "metadata": {},
   "outputs": [
    {
     "name": "stdout",
     "output_type": "stream",
     "text": [
      "(1, 126)\n"
     ]
    }
   ],
   "source": [
    "#best frequencies\n",
    "bf_val = np.array(data2['bf_fra'])\n",
    "print bf_val.shape"
   ]
  },
  {
   "cell_type": "code",
   "execution_count": 16,
   "metadata": {
    "collapsed": true
   },
   "outputs": [],
   "source": [
    "#specific electrode\n",
    "electrode_number = np.array(data2['fb_tuned'])"
   ]
  },
  {
   "cell_type": "code",
   "execution_count": 17,
   "metadata": {
    "collapsed": true
   },
   "outputs": [],
   "source": [
    "#print electrode_number"
   ]
  },
  {
   "cell_type": "code",
   "execution_count": 18,
   "metadata": {
    "collapsed": true
   },
   "outputs": [],
   "source": [
    "bf_electrodes = [[i[1],i[0]] for i in zip(list(bf_val.flatten()),list(electrode_number.flatten()))]"
   ]
  },
  {
   "cell_type": "code",
   "execution_count": 19,
   "metadata": {
    "collapsed": true
   },
   "outputs": [],
   "source": [
    "time_length,amp_fq_length, total_electrode_length = data.shape"
   ]
  },
  {
   "cell_type": "code",
   "execution_count": 20,
   "metadata": {
    "collapsed": true
   },
   "outputs": [],
   "source": [
    "bf_el = np.array(bf_electrodes)\n",
    "electrode_length = bf_el.shape[0]"
   ]
  },
  {
   "cell_type": "code",
   "execution_count": 21,
   "metadata": {},
   "outputs": [
    {
     "name": "stdout",
     "output_type": "stream",
     "text": [
      "(101, 4800, 160)\n"
     ]
    },
    {
     "data": {
      "image/png": "[encoded data removed]",
      "text/plain": [
       "<matplotlib.figure.Figure at 0x113cd08d0>"
      ]
     },
     "metadata": {},
     "output_type": "display_data"
    }
   ],
   "source": [
    "print data.shape\n",
    "#need to use stim_vals to figure out the corresponding stim\n",
    "sample_number = 4004\n",
    "electrode_number = 19\n",
    "plt.plot(data[:,sample_number,electrode_number])\n",
    "\n",
    "\n",
    "plt.vlines([40,80],-1,1)\n",
    "\n",
    "plt.xlabel('time')\n",
    "plt.ylabel('zscored wavelet decomp amp in '+ freq_band)\n",
    "plt.title(\"sample timeseries of electrode data 100 timepoints after stimulus (\" + str(stim_vals[:,sample_number]) + \"} onset and electrode \"+ str(electrode_number))\n",
    "plt.show()"
   ]
  },
  {
   "cell_type": "code",
   "execution_count": 22,
   "metadata": {
    "collapsed": true
   },
   "outputs": [],
   "source": [
    "peak_response = np.zeros((4800,total_electrode_length))\n",
    "\n",
    "# peak response calculated for 40 to 80 sample points after stimulus onset\n",
    "\n",
    "##### Potential CHANGE ???!!!!\n",
    "#does 40 to 80!\n",
    "for i in xrange(amp_fq_length):\n",
    "    for j in xrange(total_electrode_length):    \n",
    "        peak_response[i][j] = np.max(data[40:80,i,j])\n"
   ]
  },
  {
   "cell_type": "code",
   "execution_count": 23,
   "metadata": {
    "collapsed": true
   },
   "outputs": [],
   "source": [
    "#print peak_response.shape"
   ]
  },
  {
   "cell_type": "code",
   "execution_count": 24,
   "metadata": {
    "collapsed": true
   },
   "outputs": [],
   "source": [
    "electrodes_used = [int(x) for x in list(bf_el[:,0] -1)]\n",
    "\n",
    "uniq_freqs = np.sort(list(set(stim_vals[1,:])))\n",
    "uniq_amps = np.sort(list(set(stim_vals[0,:])))\n",
    "\n",
    "num_of_freq = len(uniq_freqs)\n",
    "num_of_amp = len(uniq_amps)\n",
    "num_of_stims = 20\n",
    "num_of_electrodes = len(electrodes_used)\n",
    "num_of_stims_used = 40\n",
    "num_of_samples = 20*2"
   ]
  },
  {
   "cell_type": "code",
   "execution_count": 25,
   "metadata": {},
   "outputs": [
    {
     "name": "stdout",
     "output_type": "stream",
     "text": [
      "bf_el (126, 2) : 126 electrodes, (electrode number, best frequency)\n",
      "peak_response (4800, 160) : 4800 samples (30 freq * 8 amplitude 20 stim samples), 128 electrodes\n",
      "stim_vals (2, 4800) : (stim amplitude, stim frequency), 4800 samples (30 freq * 8 amplitude 20 stim samples)\n",
      "electrodes_used 126 : list of integer values of electrodes actually used\n",
      "electrode_length:  126\n",
      "amp_fq_length:  4800\n",
      "time_length:  101\n",
      "total_electrode_length:  160\n",
      "num_of_amp:  8\n",
      "num_of_freq:  30\n",
      "num_of_stims:  20\n",
      "num_of_stims_used 40\n",
      "num_of_samples 40\n"
     ]
    }
   ],
   "source": [
    "print 'bf_el', bf_el.shape, \": 126 electrodes, (electrode number, best frequency)\"\n",
    "print 'peak_response', peak_response.shape, \": 4800 samples (30 freq * 8 amplitude 20 stim samples), 128 electrodes\"\n",
    "print 'stim_vals', stim_vals.shape, \": (stim amplitude, stim frequency), 4800 samples (30 freq * 8 amplitude 20 stim samples)\"\n",
    "print 'electrodes_used', num_of_electrodes, \": list of integer values of electrodes actually used\"\n",
    "\n",
    "print 'electrode_length: ',electrode_length\n",
    "print 'amp_fq_length: ', amp_fq_length\n",
    "print 'time_length: ', time_length\n",
    "print 'total_electrode_length: ', total_electrode_length\n",
    "\n",
    "\n",
    "print 'num_of_amp: ', num_of_amp\n",
    "print 'num_of_freq: ', num_of_freq\n",
    "print 'num_of_stims: ', num_of_stims\n",
    "print 'num_of_stims_used', num_of_stims_used\n",
    "print 'num_of_samples', num_of_samples"
   ]
  },
  {
   "cell_type": "code",
   "execution_count": 26,
   "metadata": {
    "scrolled": true
   },
   "outputs": [
    {
     "name": "stdout",
     "output_type": "stream",
     "text": [
      "final_response loaded\n",
      "30\n"
     ]
    }
   ],
   "source": [
    "final_response = np.zeros((num_of_electrodes,num_of_stims,num_of_freq,num_of_amp))\n",
    "\n",
    "file_path = save_dir + 'final_response' + '_0.pkl'\n",
    "\n",
    "#enter the for-loop of doom // to clean\n",
    "if not os.path.exists(file_path):\n",
    "    #cycle electrodes \n",
    "    for electrode_counter, electrode_num in enumerate(electrodes_used):\n",
    "        stim_counter = np.zeros((num_of_freq,num_of_amp))\n",
    "        #cycle 4800 samples (30 freq * 8 amplitude 20 stim samples) for stim_vals\n",
    "        for amp_fq_num in xrange(amp_fq_length):\n",
    "            #cycle through volume amplitudes\n",
    "            for amp_counter, amp in enumerate(uniq_amps):\n",
    "                #cycle through stimulus frequencies\n",
    "                for freq_counter, freq in enumerate(uniq_freqs):\n",
    "                    #integrating two data sets from stim_vals and peak_response\n",
    "                    if stim_vals[0,amp_fq_num]== amp and stim_vals[1,amp_fq_num] == freq:\n",
    "                        #print electrode_num, stim_counter, freq_counter, amp_counter, amp_fq_num, peak_response[amp_fq_num,electrode_num] \n",
    "                        final_response[electrode_counter,int(stim_counter[freq_counter,amp_counter]),freq_counter,amp_counter] = peak_response[amp_fq_num,electrode_num]\n",
    "                        #this number should equal the number of stimuli, e.g. 20\n",
    "                        stim_counter[freq_counter,amp_counter] = stim_counter[freq_counter,amp_counter]+1\n",
    "                        #print stim_counter[freq_counter,amp_counter]\n",
    "        print \"passed electrode\", electrode_num\n",
    "        \n",
    "    save_object(final_response,save_dir + 'final_response')\n",
    "    print \"final_response saved\"\n",
    "else:\n",
    "    final_response = load_object(file_path)\n",
    "    print \"final_response loaded\"\n",
    "print len(set(stim_vals[1,:]))\n"
   ]
  },
  {
   "cell_type": "code",
   "execution_count": 2,
   "metadata": {},
   "outputs": [
    {
     "ename": "SyntaxError",
     "evalue": "Missing parentheses in call to 'print' (<ipython-input-2-9ce68ec2110a>, line 1)",
     "output_type": "error",
     "traceback": [
      "\u001b[0;36m  File \u001b[0;32m\"<ipython-input-2-9ce68ec2110a>\"\u001b[0;36m, line \u001b[0;32m1\u001b[0m\n\u001b[0;31m    print 'foo'\u001b[0m\n\u001b[0m              ^\u001b[0m\n\u001b[0;31mSyntaxError\u001b[0m\u001b[0;31m:\u001b[0m Missing parentheses in call to 'print'\n"
     ]
    }
   ],
   "source": [
    "print 'foo'"
   ]
  },
  {
   "cell_type": "code",
   "execution_count": 27,
   "metadata": {
    "collapsed": true
   },
   "outputs": [],
   "source": [
    "#electrode number, frequency with largest response\n",
    "#calculated by looking at the freq-amp tuning map for each electrode and taking a weighted average\n",
    "#print bf_el"
   ]
  },
  {
   "cell_type": "code",
   "execution_count": 28,
   "metadata": {
    "collapsed": true
   },
   "outputs": [],
   "source": [
    "#sorting to get electrodes with corresponding sorted electrodes\n",
    "electrode_bestfreq_sort_correspondence = np.argsort(bf_el, axis = 0)\n",
    "#print electrode_bestfreq_sort_correspondence"
   ]
  },
  {
   "cell_type": "code",
   "execution_count": 29,
   "metadata": {
    "collapsed": true
   },
   "outputs": [],
   "source": [
    "#bf_el[electrode_bestfreq_sort_correspondence[:,1]]"
   ]
  },
  {
   "cell_type": "code",
   "execution_count": 30,
   "metadata": {
    "collapsed": true
   },
   "outputs": [],
   "source": [
    "#electrodes organized by electrode best frequency\n",
    "sorted_response = final_response[electrode_bestfreq_sort_correspondence[:,1]]"
   ]
  },
  {
   "cell_type": "code",
   "execution_count": 31,
   "metadata": {
    "collapsed": true
   },
   "outputs": [],
   "source": [
    "#electrode, sample, stim_freq, stim_amp\n",
    "#final_response.shape"
   ]
  },
  {
   "cell_type": "code",
   "execution_count": 32,
   "metadata": {},
   "outputs": [
    {
     "name": "stdout",
     "output_type": "stream",
     "text": [
      "min/max best freq vals: 6.0 24.59375\n",
      "num_of_stims_used:  40\n",
      "num_of_best_stims:  19\n",
      "(40, 126, 19)\n",
      "(40, 126, 19)\n",
      "(40, 126, 19)\n"
     ]
    }
   ],
   "source": [
    "#######Potential change try with out Z SCORING !!!!!!!!!!!!\n",
    "\n",
    "print \"min/max best freq vals:\", np.min(bf_el[:,1]),np.max(bf_el[:,1])\n",
    "# rearraged so (126 electrodes, 20 samples, 30 stimuli, 8 attenuations) turn into\n",
    "# (40 samples from -10 and -20 attenuations, 126 electrodes, 19 frequecies within electrode best freq vals)\n",
    "# number of frequecies within electrode best freq vals\n",
    "b_stim_start = int(np.min(bf_el[:,1]))\n",
    "b_stim_end = int(np.max(bf_el[:,1])+1)\n",
    "num_of_best_stims = b_stim_end - b_stim_start\n",
    "\n",
    "print 'num_of_stims_used: ', num_of_stims_used\n",
    "print 'num_of_best_stims: ', num_of_best_stims\n",
    "\n",
    "#collect only -10 and -20 attenuations\n",
    "#use only stimuli whose freqs are within electrode best freq values \n",
    "focused_response = np.transpose(final_response,(1,3,0,2))[:,5:7,:,b_stim_start:b_stim_end].reshape(num_of_stims_used,num_of_electrodes,-1)\n",
    "\n",
    "#mean and std calculated for each electrode accross all peak responses\n",
    "peak_electrode_mean = np.dot(np.mean(final_response[:,:,:,5:7].reshape(num_of_electrodes,-1),axis =1).reshape(num_of_electrodes,1),np.ones([1,num_of_stims_used*num_of_best_stims]))\n",
    "peak_electrode_std = np.dot(np.std(final_response[:,:,:,5:7].reshape(num_of_electrodes,-1),axis =1).reshape(num_of_electrodes,1),np.ones([1,num_of_stims_used*num_of_best_stims]))\n",
    "peak_electrode_mean = np.transpose(peak_electrode_mean.reshape(num_of_electrodes,40,num_of_best_stims),(1,0,2))\n",
    "peak_electrode_std = np.transpose(peak_electrode_std.reshape(num_of_electrodes,40,num_of_best_stims),(1,0,2))\n",
    "\n",
    "print focused_response.shape\n",
    "print peak_electrode_mean.shape\n",
    "print peak_electrode_std.shape\n",
    "#z-scored electrode peak response values\n",
    "\n",
    "###### IF YOU DON'T WANT ZSCORE GET RID OF MEAN AND STD\n",
    "########## POTENTIAL CHANGE COMMENT OUT!!!!!\n",
    "focused_response = ((focused_response-peak_electrode_mean)/peak_electrode_std)"
   ]
  },
  {
   "cell_type": "code",
   "execution_count": 33,
   "metadata": {},
   "outputs": [
    {
     "data": {
      "image/png": "[encoded data removed]",
      "text/plain": [
       "<matplotlib.figure.Figure at 0x113d30b10>"
      ]
     },
     "metadata": {},
     "output_type": "display_data"
    }
   ],
   "source": [
    "el_x = 17\n",
    "el_y = 99\n",
    "\n",
    "stim_1 = 5\n",
    "\n",
    "plt.scatter(x=focused_response[:,el_x,stim_1].flatten(),y=focused_response[:,el_y,stim_1].flatten(),c='red',marker='s')\n",
    "plt.xlabel('peak response from electrode ' + str(el_x))\n",
    "plt.ylabel('peak response from electrode ' + str(el_y))\n",
    "plt.title('response from multiple exposures to stimulus ' + str(stim_1))\n",
    "plt.show()"
   ]
  },
  {
   "cell_type": "code",
   "execution_count": 34,
   "metadata": {},
   "outputs": [
    {
     "data": {
      "image/png": "[encoded data removed]",
      "text/plain": [
       "<matplotlib.figure.Figure at 0x113d58d50>"
      ]
     },
     "metadata": {},
     "output_type": "display_data"
    }
   ],
   "source": [
    "el_x = 17\n",
    "el_y = 99\n",
    "\n",
    "stim_1 = 5\n",
    "stim_2 = 17\n",
    "\n",
    "plt.scatter(x=focused_response[:,el_x,stim_1].flatten(),y=focused_response[:,el_y,stim_1].flatten(),c='red',marker='s',label='stim '+str(stim_1))\n",
    "plt.scatter(x=focused_response[:,el_x,stim_2].flatten(),y=focused_response[:,el_y,stim_2].flatten(),c='navy',label = 'stim '+str(stim_2))\n",
    "plt.scatter(x=np.mean(focused_response[:,el_x,stim_1]).flatten(),y=np.mean(focused_response[:,el_y,stim_1].flatten()),marker='x',s=250, c ='red')\n",
    "plt.scatter(x=np.mean(focused_response[:,el_x,stim_2]).flatten(),y=np.mean(focused_response[:,el_y,stim_2].flatten()),marker='x',s=250)\n",
    "plt.legend()\n",
    "\n",
    "plt.xlabel('peak response from electrode ' + str(el_x))\n",
    "plt.ylabel('peak response from electrode ' + str(el_y))\n",
    "plt.show()"
   ]
  },
  {
   "cell_type": "code",
   "execution_count": 35,
   "metadata": {
    "collapsed": true
   },
   "outputs": [],
   "source": [
    "#permuting accross samples within electrode and stimuli\n",
    "decor_focused_response = np.zeros(focused_response.shape)\n",
    "for i in range(focused_response.shape[2]):\n",
    "    for j in range(focused_response.shape[1]):\n",
    "        sample_perm = np.random.permutation(np.array(range(40)))\n",
    "        #sample_perm = np.array(range(40))\n",
    "        for k in range(focused_response.shape[0]):\n",
    "            decor_focused_response[k,j,i]=focused_response[sample_perm[k],j,i]"
   ]
  },
  {
   "cell_type": "code",
   "execution_count": 36,
   "metadata": {},
   "outputs": [
    {
     "data": {
      "image/png": "[encoded data removed]",
      "text/plain": [
       "<matplotlib.figure.Figure at 0x113d18c90>"
      ]
     },
     "metadata": {},
     "output_type": "display_data"
    }
   ],
   "source": [
    "f, axarr = plt.subplots(1, 2,figsize=(12,5))\n",
    "el_x = 17\n",
    "el_y = 99\n",
    "\n",
    "stim_1 = 5\n",
    "stim_2 = 17\n",
    "# add a print with fr_stim_vals[stim_1],fr_stim_vals[stim_2]\n",
    "\n",
    "\n",
    "axarr[0].scatter(x=focused_response[:,el_x,stim_1].flatten(),y=focused_response[:,el_y,stim_1].flatten(),c='red')\n",
    "axarr[0].scatter(x=focused_response[:,el_x,stim_2].flatten(),y=focused_response[:,el_y,stim_2].flatten())\n",
    "axarr[0].scatter(x=np.mean(focused_response[:,el_x,stim_1]),y=np.mean(focused_response[:,el_y,stim_1]),marker='x',s=200, c ='red')\n",
    "axarr[0].scatter(x=np.mean(focused_response[:,el_x,stim_2]),y=np.mean(focused_response[:,el_y,stim_2]),marker='x',s=200)\n",
    "axarr[0].set_title(\"original data\")\n",
    "\n",
    "axarr[1].scatter(x=decor_focused_response[:,el_x,stim_1].flatten(),y=decor_focused_response[:,el_y,stim_1].flatten(),c='red',label='stim '+str(stim_1))\n",
    "axarr[1].scatter(x=decor_focused_response[:,el_x,stim_2].flatten(),y=decor_focused_response[:,el_y,stim_2].flatten(),label='stim '+str(stim_2))\n",
    "\n",
    "axarr[1].scatter(x=np.mean(decor_focused_response[:,el_x,stim_1]).flatten(),y=np.mean(decor_focused_response[:,el_y,stim_1].flatten()),marker='x',s=200, c ='red')\n",
    "axarr[1].scatter(x=np.mean(decor_focused_response[:,el_x,stim_2]).flatten(),y=np.mean(decor_focused_response[:,el_y,stim_2].flatten()),marker='x',s=200)\n",
    "axarr[1].set_title(\"decorrelated data\")\n",
    "plt.xlabel('peak response from electrode ' + str(el_x))\n",
    "plt.ylabel('peak response from electrode ' + str(el_y))\n",
    "plt.legend()\n",
    "\n",
    "plt.show()\n",
    "\n",
    "# print discrim_value(focused_response[:,[el_x,el_y],:],stim_1,stim_2)\n",
    "# print discrim_value(decor_focused_response[:,[el_x,el_y],:],stim_1,stim_2)\n",
    "\n",
    "# print discrim_value(focused_response,stim_1,stim_2)\n",
    "# print discrim_value(decor_focused_response,stim_1,stim_2)\n"
   ]
  },
  {
   "cell_type": "code",
   "execution_count": 37,
   "metadata": {
    "collapsed": true
   },
   "outputs": [],
   "source": [
    "# discrim_fr_values = np.zeros((18,18))\n",
    "# discrim_uncor_values = np.zeros((18,18))\n",
    "# discrim_decor_values = np.zeros((18,18))\n",
    "# test = np.zeros((18,18))\n",
    "# for i in range(18):\n",
    "#     print \"loop\", i\n",
    "#     for j in range(18):\n",
    "#         if i+j < 18:\n",
    "#             discrim_fr_values[i,j] = discrim_value(focused_response,i,i+j+1)-discrim_value(decor_focused_response,i,i+j+1)\n",
    "#             discrim_uncor_values[i,j] = discrim_value(focused_response,i,i+j+1)\n",
    "#             discrim_decor_values[i,j] = discrim_value(decor_focused_response,i,i+j+1)"
   ]
  },
  {
   "cell_type": "code",
   "execution_count": 38,
   "metadata": {
    "collapsed": true
   },
   "outputs": [],
   "source": [
    "# epochs = 1\n",
    "\n",
    "# discrim_statistics = np.zeros((epochs,2,num_of_best_stims-1))\n",
    "\n",
    "# for epoch in xrange(epochs):\n",
    "#     print epoch\n",
    "#     decor_focused_response = np.zeros(focused_response.shape)\n",
    "#     for i in range(focused_response.shape[2]):\n",
    "#         for j in range(focused_response.shape[1]):\n",
    "#             sample_perm = np.random.permutation(np.array(range(40)))\n",
    "#             for k in range(focused_response.shape[0]):\n",
    "#                 decor_focused_response[k,j,i]=focused_response[sample_perm[k],j,i]\n",
    "\n",
    "#     discrim_fr_values = np.zeros((num_of_best_stims-1,num_of_best_stims-1))\n",
    "#     for i in range(num_of_best_stims-1):        \n",
    "#         for j in range(num_of_best_stims-1):\n",
    "#             if i+j < num_of_best_stims-1:\n",
    "#                 discrim_fr_values[i,j] = discrim_value(focused_response,i,i+j+1)-discrim_value(decor_focused_response,i,i+j+1)\n",
    "\n",
    "#     discrim_statistics[epoch,0,:] = np.array([np.mean(discrim_fr_values.transpose()[i][0:num_of_best_stims-1-i]) for i in range(num_of_best_stims-1)])\n",
    "#     discrim_statistics[epoch,1,:] = np.array([np.std(discrim_fr_values.transpose()[i][0:num_of_best_stims-1-i]) for i in range(num_of_best_stims-1)])"
   ]
  },
  {
   "cell_type": "code",
   "execution_count": 39,
   "metadata": {
    "collapsed": true
   },
   "outputs": [],
   "source": [
    "#transposing focused and decor response\n",
    "mod_f_resp = focused_response.transpose((0,2,1))\n",
    "\n",
    "dec_mod_f_resp = decor_focused_response.transpose((0,2,1))"
   ]
  },
  {
   "cell_type": "code",
   "execution_count": 40,
   "metadata": {
    "collapsed": true
   },
   "outputs": [],
   "source": [
    "#### JAMES GO THROUGH THIS!!!!!!\n",
    "\n",
    "def pair_el_discrim_value(responses,stim_1, stim_2, electrodes, n_samples = 40, cutoff = False,adjust_volume = False):\n",
    "    ###### COMMENT MORE!!!!!!\n",
    "    \n",
    "    #trial avg response to stimulus\n",
    "    n1 = np.mean(responses[:,electrodes,stim_1],axis = 0)\n",
    "    n2 = np.mean(responses[:,electrodes,stim_2],axis = 0)\n",
    "    #print n1, n1.shape\n",
    "    #print n2, n2.shape\n",
    "    cov = np.cov(responses[:,electrodes,:][:,:,[stim_1,stim_2]].transpose((0,2,1)).reshape(n_samples*2,-1).transpose())\n",
    "    #print cov, cov.shape\n",
    "    #cov_inv = np.linalg.inv(cov)\n",
    "    #print cov_inv, cov_inv.shape\n",
    "    volume_factor = 1\n",
    "    if adjust_volume:\n",
    "        ### Think about volume factor\n",
    "        volume_factor = np.sqrt(np.linalg.det(cov)/np.linalg.det(np.diag(np.diag(cov))))\n",
    "    value = np.dot((n2-n1).transpose(),np.dot(np.linalg.inv(cov),(n2-n1))) \n",
    "    decor_value = np.dot((n2-n1).transpose(),np.dot(np.linalg.inv(np.diag(np.diag(cov*volume_factor))),(n2-n1)))\n",
    "    return value, decor_value\n",
    "#, np.dot((n2-n1).transpose(),np.dot(np.linalg.inv(np.diagonal(cov)),(n2-n1))"
   ]
  },
  {
   "cell_type": "code",
   "execution_count": 41,
   "metadata": {
    "collapsed": true
   },
   "outputs": [],
   "source": [
    "stim_pairs = []\n",
    "electrode_pairs = []\n",
    "\n",
    "for (i,j) in combinations(range(num_of_best_stims),2):\n",
    "    stim_pairs.append((i,j))\n",
    "for (i,j) in combinations(range(num_of_electrodes),2):\n",
    "    electrode_pairs.append((i,j))"
   ]
  },
  {
   "cell_type": "code",
   "execution_count": 42,
   "metadata": {
    "scrolled": true
   },
   "outputs": [
    {
     "name": "stdout",
     "output_type": "stream",
     "text": [
      "0\n",
      "1\n",
      "2\n",
      "3\n",
      "4\n",
      "5\n",
      "6\n",
      "7\n",
      "8\n",
      "9\n",
      "10\n",
      "11\n",
      "12\n",
      "13\n",
      "14\n",
      "15\n",
      "16\n",
      "17\n",
      "18\n",
      "19\n",
      "20\n",
      "21\n",
      "22\n",
      "23\n",
      "24\n",
      "25\n",
      "26\n",
      "27\n",
      "28\n",
      "29\n",
      "30\n",
      "31\n",
      "32\n",
      "33\n",
      "34\n",
      "35\n",
      "36\n",
      "37\n",
      "38\n",
      "39\n",
      "40\n",
      "41\n",
      "42\n",
      "43\n",
      "44\n",
      "45\n",
      "46\n",
      "47\n",
      "48\n",
      "49\n",
      "50\n",
      "51\n",
      "52\n",
      "53\n",
      "54\n",
      "55\n",
      "56\n",
      "57\n",
      "58\n",
      "59\n",
      "60\n",
      "61\n",
      "62\n",
      "63\n",
      "64\n",
      "65\n",
      "66\n",
      "67\n",
      "68\n",
      "69\n",
      "70\n",
      "71\n",
      "72\n",
      "73\n",
      "74\n",
      "75\n",
      "76\n",
      "77\n",
      "78\n",
      "79\n",
      "80\n",
      "81\n",
      "82\n",
      "83\n",
      "84\n",
      "85\n",
      "86\n",
      "87\n",
      "88\n",
      "89\n",
      "90\n",
      "91\n",
      "92\n",
      "93\n",
      "94\n",
      "95\n",
      "96\n",
      "97\n",
      "98\n",
      "99\n",
      "100\n",
      "101\n",
      "102\n",
      "103\n",
      "104\n",
      "105\n",
      "106\n",
      "107\n",
      "108\n",
      "109\n",
      "110\n",
      "111\n",
      "112\n",
      "113\n",
      "114\n",
      "115\n",
      "116\n",
      "117\n",
      "118\n",
      "119\n",
      "120\n",
      "121\n",
      "122\n",
      "123\n",
      "124\n",
      "125\n",
      "126\n",
      "127\n",
      "128\n",
      "129\n",
      "130\n",
      "131\n",
      "132\n",
      "133\n",
      "134\n",
      "135\n",
      "136\n",
      "137\n",
      "138\n",
      "139\n",
      "140\n",
      "141\n",
      "142\n",
      "143\n",
      "144\n",
      "145\n",
      "146\n",
      "147\n",
      "148\n",
      "149\n",
      "150\n",
      "151\n",
      "152\n",
      "153\n",
      "154\n",
      "155\n",
      "156\n",
      "157\n",
      "158\n",
      "159\n",
      "160\n",
      "161\n",
      "162\n",
      "163\n",
      "164\n",
      "165\n",
      "166\n",
      "167\n",
      "168\n",
      "169\n",
      "170\n"
     ]
    },
    {
     "data": {
      "image/png": "[encoded data removed]",
      "text/plain": [
       "<matplotlib.figure.Figure at 0x113f292d0>"
      ]
     },
     "metadata": {},
     "output_type": "display_data"
    }
   ],
   "source": [
    "discrim_x_examp = []\n",
    "discrim_y_examp = []\n",
    "discrim_y_decor_examp = []\n",
    "discrim_y_uncor_examp = []\n",
    "discrim_y_org_examp = []\n",
    "\n",
    "count = 0\n",
    "pair_scores_dict = {}\n",
    "scores = []\n",
    "test_dict = {}\n",
    "electrode_combinations = [(0,1),(5,10),(3,100),(7,88)]\n",
    "\n",
    "meathod = \"linear discrim\"\n",
    "adjust_volume = False\n",
    "\n",
    "#meathod = \"log regression\"\n",
    "\n",
    "\n",
    "for (i,j) in stim_pairs:\n",
    "    print count\n",
    "    count += 1\n",
    "\n",
    "    stim_1 = i\n",
    "    stim_2 = j\n",
    "\n",
    "    org_score = []\n",
    "    decor_score = []\n",
    "    for el_comb in electrode_pairs:\n",
    "    #for el_comb in electrode_combinations:\n",
    "        if meathod == \"linear discrim\":\n",
    "            org_score_val, decor_score_val = pair_el_discrim_value(focused_response,stim_1,stim_2,[el_comb[0],el_comb[1]],adjust_volume=adjust_volume)\n",
    "            org_score.append(org_score_val)\n",
    "            decor_score.append(decor_score_val)\n",
    "        \n",
    "        if meathod == \"log regression\":\n",
    "            model = sklearn.linear_model.LogisticRegression()\n",
    "            model = model.fit(mod_f_resp[:,[stim_1,stim_2],[el_comb[0],el_comb[1]]].reshape(num_of_samples*2,-1),np.array([-10]*num_of_samples+[10]*num_of_samples))\n",
    "            org_score.append(model.score(mod_f_resp[:,[stim_1,stim_2],[el_comb[0],el_comb[1]]].reshape(num_of_samples*2,-1),np.array([-10]*num_of_samples+[10]*num_of_samples)))\n",
    "\n",
    "            model = sklearn.linear_model.LogisticRegression()\n",
    "            model = model.fit(dec_mod_f_resp[:,[stim_1,stim_2],[el_comb[0],el_comb[1]]].reshape(num_of_samples*2,-1),np.array([-10]*num_of_samples+[10]*num_of_samples))\n",
    "            decor_score.append(model.score(dec_mod_f_resp[:,[stim_1,stim_2],[el_comb[0],el_comb[1]]].reshape(num_of_samples*2,-1),np.array([-10]*num_of_samples+[10]*num_of_samples)))\n",
    "\n",
    "\n",
    "    discrim_x_examp.append(float(j-i))\n",
    "    discrim_y_examp.append(np.mean(np.array(org_score)-np.mean(np.array(decor_score))))\n",
    "    if not pair_scores_dict.has_key(j-i):\n",
    "        pair_scores_dict[j-i] = []\n",
    "    pair_scores_dict[j-i].append([np.mean(np.array(org_score)),np.mean(np.array(decor_score)),np.array(org_score),np.array(decor_score)])\n",
    "    #\n",
    "    scores.append([org_score,decor_score])\n",
    "    if not test_dict.has_key(j-i):\n",
    "        test_dict[j-i] = []\n",
    "    test_dict[j-i].append(np.mean(np.array(org_score)-np.array(decor_score)))\n",
    "\n",
    "    \n",
    "\n",
    "    discrim_y_decor_examp.append(np.mean(np.array(decor_score)))\n",
    "    discrim_y_uncor_examp.append(np.mean(np.array(org_score)))\n",
    "plt.scatter(x = np.array(discrim_x_examp), y = np.array(discrim_y_examp))\n",
    "#plt.plot([i for i in pair_scores_dict],[np.mean(np.array(pair_scores_dict[i][0]) - np.array(pair_scores_dict[i][1])) for i in pair_scores_dict])\n",
    "plt.plot([i for i in test_dict],[np.mean(np.array(test_dict[i])) for i in test_dict])\n",
    "plt.axhline(0)\n",
    "plt.show()\n",
    "\n",
    "#scores has structure scores[stim_pair][orig,decor][electrode_pair]\n",
    "if results == [] or np.any(results[-1][0] != decor_focused_response):\n",
    "    results.append([decor_focused_response, scores, meathod])\n",
    "\n",
    "#plt.scatter(x = np.array(discrim_x_examp), y = np.array(discrim_y_org_examp))\n",
    "#plt.show()\n",
    "#plt.scatter(x = np.array(discrim_x_examp), y = np.array(discrim_y_decor_examp))\n",
    "#plt.show()"
   ]
  },
  {
   "cell_type": "code",
   "execution_count": 44,
   "metadata": {
    "collapsed": true
   },
   "outputs": [],
   "source": [
    "#np.array(scores).shape"
   ]
  },
  {
   "cell_type": "code",
   "execution_count": null,
   "metadata": {
    "collapsed": true
   },
   "outputs": [],
   "source": []
  }
 ],
 "metadata": {
  "kernelspec": {
   "display_name": "Python 3",
   "language": "python",
   "name": "python3"
  },
  "language_info": {
   "codemirror_mode": {
    "name": "ipython",
    "version": 3
   },
   "file_extension": ".py",
   "mimetype": "text/x-python",
   "name": "python",
   "nbconvert_exporter": "python",
   "pygments_lexer": "ipython3",
   "version": "3.5.1"
  }
 },
 "nbformat": 4,
 "nbformat_minor": 2
}
